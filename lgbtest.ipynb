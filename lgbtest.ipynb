{
  "nbformat": 4,
  "nbformat_minor": 0,
  "metadata": {
    "colab": {
      "provenance": [],
      "machine_shape": "hm"
    },
    "kernelspec": {
      "name": "python3",
      "display_name": "Python 3"
    },
    "language_info": {
      "name": "python"
    },
    "accelerator": "GPU",
    "gpuClass": "standard"
  },
  "cells": [
    {
      "cell_type": "code",
      "execution_count": 1,
      "metadata": {
        "colab": {
          "base_uri": "https://localhost:8080/"
        },
        "id": "o3zCNhFdGxhl",
        "outputId": "b7e9cc7c-4ed6-4174-d5e5-71619f708277"
      },
      "outputs": [
        {
          "output_type": "stream",
          "name": "stdout",
          "text": [
            "Wed Dec  7 15:03:30 2022       \n",
            "+-----------------------------------------------------------------------------+\n",
            "| NVIDIA-SMI 460.32.03    Driver Version: 460.32.03    CUDA Version: 11.2     |\n",
            "|-------------------------------+----------------------+----------------------+\n",
            "| GPU  Name        Persistence-M| Bus-Id        Disp.A | Volatile Uncorr. ECC |\n",
            "| Fan  Temp  Perf  Pwr:Usage/Cap|         Memory-Usage | GPU-Util  Compute M. |\n",
            "|                               |                      |               MIG M. |\n",
            "|===============================+======================+======================|\n",
            "|   0  Tesla T4            Off  | 00000000:00:04.0 Off |                    0 |\n",
            "| N/A   38C    P0    27W /  70W |      0MiB / 15109MiB |      0%      Default |\n",
            "|                               |                      |                  N/A |\n",
            "+-------------------------------+----------------------+----------------------+\n",
            "                                                                               \n",
            "+-----------------------------------------------------------------------------+\n",
            "| Processes:                                                                  |\n",
            "|  GPU   GI   CI        PID   Type   Process name                  GPU Memory |\n",
            "|        ID   ID                                                   Usage      |\n",
            "|=============================================================================|\n",
            "|  No running processes found                                                 |\n",
            "+-----------------------------------------------------------------------------+\n"
          ]
        }
      ],
      "source": [
        "gpu_info = !nvidia-smi\n",
        "gpu_info = '\\n'.join(gpu_info)\n",
        "if gpu_info.find('failed') >= 0:\n",
        "  print('Not connected to a GPU')\n",
        "else:\n",
        "  print(gpu_info)"
      ]
    },
    {
      "cell_type": "code",
      "source": [
        "from google.colab import drive\n",
        "import pandas as pd\n",
        "drive.mount('/content/drive')"
      ],
      "metadata": {
        "colab": {
          "base_uri": "https://localhost:8080/"
        },
        "id": "yrZo4f3sGzJZ",
        "outputId": "0e461207-9847-44d7-bb07-74b7c7173d6b"
      },
      "execution_count": 3,
      "outputs": [
        {
          "output_type": "stream",
          "name": "stdout",
          "text": [
            "Mounted at /content/drive\n"
          ]
        }
      ]
    },
    {
      "cell_type": "code",
      "source": [
        "from psutil import virtual_memory\n",
        "ram_gb = virtual_memory().total / 1e9\n",
        "print('Your runtime has {:.1f} gigabytes of available RAM\\n'.format(ram_gb))\n",
        "\n",
        "if ram_gb < 20:\n",
        "  print('Not using a high-RAM runtime')\n",
        "else:\n",
        "  print('You are using a high-RAM runtime!')"
      ],
      "metadata": {
        "colab": {
          "base_uri": "https://localhost:8080/"
        },
        "id": "etzMdFtXGzHT",
        "outputId": "d6611ae2-6cea-439d-d40b-0d37fdb356dd"
      },
      "execution_count": 2,
      "outputs": [
        {
          "output_type": "stream",
          "name": "stdout",
          "text": [
            "Your runtime has 27.3 gigabytes of available RAM\n",
            "\n",
            "You are using a high-RAM runtime!\n"
          ]
        }
      ]
    },
    {
      "cell_type": "code",
      "source": [
        "import pandas as pd\n",
        "import numpy as np\n",
        "import seaborn as sns\n",
        "import matplotlib.pyplot as plt\n",
        "import warnings\n",
        "import glob\n",
        "import math\n",
        "warnings.filterwarnings('ignore')"
      ],
      "metadata": {
        "id": "9ro3IskXGzEu"
      },
      "execution_count": 4,
      "outputs": []
    },
    {
      "cell_type": "code",
      "source": [
        "train = pd.read_csv('drive/MyDrive/dacon/data_re/상추/train_log_1203.csv').iloc[:,1:]\n",
        "test = pd.read_csv('drive/MyDrive/dacon/data_re/상추/train_log_1203.csv').iloc[:,1:]"
      ],
      "metadata": {
        "id": "0v8z2DsNGzCQ"
      },
      "execution_count": 5,
      "outputs": []
    },
    {
      "cell_type": "code",
      "source": [
        "corr_df = train.corr()\n",
        "corr_df = corr_df.apply(lambda x: round(x ,2))\n",
        "s = corr_df.unstack()\n",
        "성장 = pd.DataFrame(s['predicted_weight_g']).sort_values(by=0).fillna(0)\n",
        "성장[0] = abs(성장[0])\n",
        "성장.sort_values(by=[0],ascending=False).reset_index().to_csv('target값이랑corr.csv',index=False,encoding='utf-8-sig')\n",
        "under_1per = 성장[성장[0]<0.1].index\n",
        "under_1per"
      ],
      "metadata": {
        "colab": {
          "base_uri": "https://localhost:8080/"
        },
        "id": "xkh0u4nIHijG",
        "outputId": "16c44d4a-a6d7-4380-8f75-5a0e8348079f"
      },
      "execution_count": 6,
      "outputs": [
        {
          "output_type": "execute_result",
          "data": {
            "text/plain": [
              "Index(['시간당총광량9~11', '내부온도관측치19~21', '시간당백색광량20~22', '내부온도관측치2~4',\n",
              "       '시간당백색광량21~23', 'day_red_weight_std', '내부온도관측치6~8', '내부온도관측치20~22',\n",
              "       '시간당총광량8~10', 'day_water_weight_std', '시간당적색광량16~18',\n",
              "       'day_blue_weight_std', '내부온도관측치21~23', '시간당적색광량14~16', '시간당적색광량15~17',\n",
              "       '시간당적색광량13~15', '시간당백색광량0~2', '시간당적색광량17~19', '내부온도관측치5~7',\n",
              "       '내부온도관측치3~5', '일간누적백색광량2', '일간누적백색광량5', '시간당총광량7~9', '시간당적색광량12~14',\n",
              "       '시간당적색광량18~20', '내부온도관측치4~6', '시간당청색광량12~14', '시간당청색광량11~13',\n",
              "       '시간당청색광량10~12', '시간당총광량6~8', '시간당분무량1~3', '시간당적색광량11~13', '시간당청색광량9~11',\n",
              "       '시간당청색광량8~10', '시간당청색광량13~15', '시간당적색광량19~21', '시간당청색광량7~9',\n",
              "       '시간당적색광량10~12', '시간당백색광량1~3', '시간당백색광량2~4', '시간당백색광량3~5'],\n",
              "      dtype='object')"
            ]
          },
          "metadata": {},
          "execution_count": 6
        }
      ]
    },
    {
      "cell_type": "code",
      "source": [
        "drop_column = train.copy()\n",
        "drop_column = drop_column.drop(under_1per,axis=1)"
      ],
      "metadata": {
        "id": "fCsTmuf-Higq"
      },
      "execution_count": 7,
      "outputs": []
    },
    {
      "cell_type": "code",
      "source": [
        "!pip install lightgbm==3.3.2\n",
        "!sudo apt-get install -y fonts-nanum\n",
        "!sudo fc-cache -fv\n",
        "!rm ~/.cache/matplotlib -rf"
      ],
      "metadata": {
        "colab": {
          "base_uri": "https://localhost:8080/"
        },
        "id": "---3TyAIHieR",
        "outputId": "d2990570-fec6-4b23-b75d-36be1c5f8b97"
      },
      "execution_count": 8,
      "outputs": [
        {
          "output_type": "stream",
          "name": "stdout",
          "text": [
            "Looking in indexes: https://pypi.org/simple, https://us-python.pkg.dev/colab-wheels/public/simple/\n",
            "Collecting lightgbm==3.3.2\n",
            "  Downloading lightgbm-3.3.2-py3-none-manylinux1_x86_64.whl (2.0 MB)\n",
            "\u001b[K     |████████████████████████████████| 2.0 MB 5.0 MB/s \n",
            "\u001b[?25hRequirement already satisfied: scikit-learn!=0.22.0 in /usr/local/lib/python3.8/dist-packages (from lightgbm==3.3.2) (1.0.2)\n",
            "Requirement already satisfied: wheel in /usr/local/lib/python3.8/dist-packages (from lightgbm==3.3.2) (0.38.4)\n",
            "Requirement already satisfied: numpy in /usr/local/lib/python3.8/dist-packages (from lightgbm==3.3.2) (1.21.6)\n",
            "Requirement already satisfied: scipy in /usr/local/lib/python3.8/dist-packages (from lightgbm==3.3.2) (1.7.3)\n",
            "Requirement already satisfied: joblib>=0.11 in /usr/local/lib/python3.8/dist-packages (from scikit-learn!=0.22.0->lightgbm==3.3.2) (1.2.0)\n",
            "Requirement already satisfied: threadpoolctl>=2.0.0 in /usr/local/lib/python3.8/dist-packages (from scikit-learn!=0.22.0->lightgbm==3.3.2) (3.1.0)\n",
            "Installing collected packages: lightgbm\n",
            "  Attempting uninstall: lightgbm\n",
            "    Found existing installation: lightgbm 2.2.3\n",
            "    Uninstalling lightgbm-2.2.3:\n",
            "      Successfully uninstalled lightgbm-2.2.3\n",
            "Successfully installed lightgbm-3.3.2\n",
            "Reading package lists... Done\n",
            "Building dependency tree       \n",
            "Reading state information... Done\n",
            "The following package was automatically installed and is no longer required:\n",
            "  libnvidia-common-460\n",
            "Use 'sudo apt autoremove' to remove it.\n",
            "The following NEW packages will be installed:\n",
            "  fonts-nanum\n",
            "0 upgraded, 1 newly installed, 0 to remove and 7 not upgraded.\n",
            "Need to get 9,604 kB of archives.\n",
            "After this operation, 29.5 MB of additional disk space will be used.\n",
            "Get:1 http://archive.ubuntu.com/ubuntu bionic/universe amd64 fonts-nanum all 20170925-1 [9,604 kB]\n",
            "Fetched 9,604 kB in 0s (25.5 MB/s)\n",
            "debconf: unable to initialize frontend: Dialog\n",
            "debconf: (No usable dialog-like program is installed, so the dialog based frontend cannot be used. at /usr/share/perl5/Debconf/FrontEnd/Dialog.pm line 76, <> line 1.)\n",
            "debconf: falling back to frontend: Readline\n",
            "debconf: unable to initialize frontend: Readline\n",
            "debconf: (This frontend requires a controlling tty.)\n",
            "debconf: falling back to frontend: Teletype\n",
            "dpkg-preconfigure: unable to re-open stdin: \n",
            "Selecting previously unselected package fonts-nanum.\n",
            "(Reading database ... 124015 files and directories currently installed.)\n",
            "Preparing to unpack .../fonts-nanum_20170925-1_all.deb ...\n",
            "Unpacking fonts-nanum (20170925-1) ...\n",
            "Setting up fonts-nanum (20170925-1) ...\n",
            "Processing triggers for fontconfig (2.12.6-0ubuntu2) ...\n",
            "/usr/share/fonts: caching, new cache contents: 0 fonts, 1 dirs\n",
            "/usr/share/fonts/truetype: caching, new cache contents: 0 fonts, 3 dirs\n",
            "/usr/share/fonts/truetype/humor-sans: caching, new cache contents: 1 fonts, 0 dirs\n",
            "/usr/share/fonts/truetype/liberation: caching, new cache contents: 16 fonts, 0 dirs\n",
            "/usr/share/fonts/truetype/nanum: caching, new cache contents: 10 fonts, 0 dirs\n",
            "/usr/local/share/fonts: caching, new cache contents: 0 fonts, 0 dirs\n",
            "/root/.local/share/fonts: skipping, no such directory\n",
            "/root/.fonts: skipping, no such directory\n",
            "/var/cache/fontconfig: cleaning cache directory\n",
            "/root/.cache/fontconfig: not cleaning non-existent cache directory\n",
            "/root/.fontconfig: not cleaning non-existent cache directory\n",
            "fc-cache: succeeded\n"
          ]
        }
      ]
    },
    {
      "cell_type": "code",
      "source": [
        "import lightgbm as lgb"
      ],
      "metadata": {
        "id": "NodFJx1DH39g"
      },
      "execution_count": 9,
      "outputs": []
    },
    {
      "cell_type": "code",
      "source": [
        "lgb.__version__"
      ],
      "metadata": {
        "colab": {
          "base_uri": "https://localhost:8080/",
          "height": 35
        },
        "id": "joVjm_oUH37L",
        "outputId": "8252fc22-56e2-45be-c312-1dda2ba0a291"
      },
      "execution_count": 10,
      "outputs": [
        {
          "output_type": "execute_result",
          "data": {
            "text/plain": [
              "'3.3.2'"
            ],
            "application/vnd.google.colaboratory.intrinsic+json": {
              "type": "string"
            }
          },
          "metadata": {},
          "execution_count": 10
        }
      ]
    },
    {
      "cell_type": "code",
      "source": [
        "X = drop_column.drop(['predicted_weight_g'],axis=1)\n",
        "y = drop_column['predicted_weight_g']"
      ],
      "metadata": {
        "id": "o8idNIjMIZGn"
      },
      "execution_count": 11,
      "outputs": []
    },
    {
      "cell_type": "code",
      "source": [
        "SEED = 404\n",
        "params = {\n",
        "        'boosting': 'gbdt',\n",
        "        'objective': 'regression', \n",
        "        # \"verbose\" : 0,\n",
        "        # \"num_leaves\" : 63,\n",
        "         \"learning_rate\" : 0.05,\n",
        "          'metric': 'rmse',\n",
        "        # \"feature_fraction\" : 1.0,\n",
        "        # \"max_bin\": 511,\n",
        "        # 'min_data_in_leaf': 20,\n",
        "        # 'bagging_seed': SEED,\n",
        "        # 'feature_fraction_seed': SEED,\n",
        "        # 'data_random_seed': SEED,\n",
        "        # 'objective_seed': SEED,\n",
        "        # 'drop_seed': SEED,\n",
        "        'seed': SEED\n",
        "    }\n",
        "lgtrain = lgb.Dataset(X, label = y)\n",
        "model = lgb.train( params, lgtrain ,1000, verbose_eval=100)  "
      ],
      "metadata": {
        "colab": {
          "base_uri": "https://localhost:8080/"
        },
        "id": "pvVjK-kEIZEQ",
        "outputId": "5a07b808-39b7-468f-eeb2-213dd2ba87c1"
      },
      "execution_count": 25,
      "outputs": [
        {
          "output_type": "stream",
          "name": "stdout",
          "text": [
            "[LightGBM] [Warning] Auto-choosing col-wise multi-threading, the overhead of testing was 0.011139 seconds.\n",
            "You can set `force_col_wise=true` to remove the overhead.\n",
            "[LightGBM] [Info] Total Bins 29514\n",
            "[LightGBM] [Info] Number of data points in the train set: 784, number of used features: 208\n",
            "[LightGBM] [Info] Start training from score 34.919681\n",
            "[LightGBM] [Warning] No further splits with positive gain, best gain: -inf\n",
            "[LightGBM] [Warning] No further splits with positive gain, best gain: -inf\n",
            "[LightGBM] [Warning] No further splits with positive gain, best gain: -inf\n",
            "[LightGBM] [Warning] No further splits with positive gain, best gain: -inf\n",
            "[LightGBM] [Warning] No further splits with positive gain, best gain: -inf\n",
            "[LightGBM] [Warning] No further splits with positive gain, best gain: -inf\n",
            "[LightGBM] [Warning] No further splits with positive gain, best gain: -inf\n",
            "[LightGBM] [Warning] No further splits with positive gain, best gain: -inf\n",
            "[LightGBM] [Warning] No further splits with positive gain, best gain: -inf\n",
            "[LightGBM] [Warning] No further splits with positive gain, best gain: -inf\n",
            "[LightGBM] [Warning] No further splits with positive gain, best gain: -inf\n",
            "[LightGBM] [Warning] No further splits with positive gain, best gain: -inf\n",
            "[LightGBM] [Warning] No further splits with positive gain, best gain: -inf\n",
            "[LightGBM] [Warning] No further splits with positive gain, best gain: -inf\n",
            "[LightGBM] [Warning] No further splits with positive gain, best gain: -inf\n",
            "[LightGBM] [Warning] No further splits with positive gain, best gain: -inf\n",
            "[LightGBM] [Warning] No further splits with positive gain, best gain: -inf\n",
            "[LightGBM] [Warning] No further splits with positive gain, best gain: -inf\n",
            "[LightGBM] [Warning] No further splits with positive gain, best gain: -inf\n",
            "[LightGBM] [Warning] No further splits with positive gain, best gain: -inf\n",
            "[LightGBM] [Warning] No further splits with positive gain, best gain: -inf\n",
            "[LightGBM] [Warning] No further splits with positive gain, best gain: -inf\n",
            "[LightGBM] [Warning] No further splits with positive gain, best gain: -inf\n",
            "[LightGBM] [Warning] No further splits with positive gain, best gain: -inf\n",
            "[LightGBM] [Warning] No further splits with positive gain, best gain: -inf\n",
            "[LightGBM] [Warning] No further splits with positive gain, best gain: -inf\n",
            "[LightGBM] [Warning] No further splits with positive gain, best gain: -inf\n",
            "[LightGBM] [Warning] No further splits with positive gain, best gain: -inf\n",
            "[LightGBM] [Warning] No further splits with positive gain, best gain: -inf\n",
            "[LightGBM] [Warning] No further splits with positive gain, best gain: -inf\n",
            "[LightGBM] [Warning] No further splits with positive gain, best gain: -inf\n",
            "[LightGBM] [Warning] No further splits with positive gain, best gain: -inf\n",
            "[LightGBM] [Warning] No further splits with positive gain, best gain: -inf\n",
            "[LightGBM] [Warning] No further splits with positive gain, best gain: -inf\n",
            "[LightGBM] [Warning] No further splits with positive gain, best gain: -inf\n",
            "[LightGBM] [Warning] No further splits with positive gain, best gain: -inf\n",
            "[LightGBM] [Warning] No further splits with positive gain, best gain: -inf\n",
            "[LightGBM] [Warning] No further splits with positive gain, best gain: -inf\n",
            "[LightGBM] [Warning] No further splits with positive gain, best gain: -inf\n",
            "[LightGBM] [Warning] No further splits with positive gain, best gain: -inf\n",
            "[LightGBM] [Warning] No further splits with positive gain, best gain: -inf\n",
            "[LightGBM] [Warning] No further splits with positive gain, best gain: -inf\n",
            "[LightGBM] [Warning] No further splits with positive gain, best gain: -inf\n",
            "[LightGBM] [Warning] No further splits with positive gain, best gain: -inf\n",
            "[LightGBM] [Warning] No further splits with positive gain, best gain: -inf\n",
            "[LightGBM] [Warning] No further splits with positive gain, best gain: -inf\n",
            "[LightGBM] [Warning] No further splits with positive gain, best gain: -inf\n",
            "[LightGBM] [Warning] No further splits with positive gain, best gain: -inf\n",
            "[LightGBM] [Warning] No further splits with positive gain, best gain: -inf\n",
            "[LightGBM] [Warning] No further splits with positive gain, best gain: -inf\n",
            "[LightGBM] [Warning] No further splits with positive gain, best gain: -inf\n",
            "[LightGBM] [Warning] No further splits with positive gain, best gain: -inf\n",
            "[LightGBM] [Warning] No further splits with positive gain, best gain: -inf\n",
            "[LightGBM] [Warning] No further splits with positive gain, best gain: -inf\n",
            "[LightGBM] [Warning] No further splits with positive gain, best gain: -inf\n",
            "[LightGBM] [Warning] No further splits with positive gain, best gain: -inf\n",
            "[LightGBM] [Warning] No further splits with positive gain, best gain: -inf\n",
            "[LightGBM] [Warning] No further splits with positive gain, best gain: -inf\n",
            "[LightGBM] [Warning] No further splits with positive gain, best gain: -inf\n",
            "[LightGBM] [Warning] No further splits with positive gain, best gain: -inf\n",
            "[LightGBM] [Warning] No further splits with positive gain, best gain: -inf\n",
            "[LightGBM] [Warning] No further splits with positive gain, best gain: -inf\n",
            "[LightGBM] [Warning] No further splits with positive gain, best gain: -inf\n",
            "[LightGBM] [Warning] No further splits with positive gain, best gain: -inf\n",
            "[LightGBM] [Warning] No further splits with positive gain, best gain: -inf\n",
            "[LightGBM] [Warning] No further splits with positive gain, best gain: -inf\n",
            "[LightGBM] [Warning] No further splits with positive gain, best gain: -inf\n",
            "[LightGBM] [Warning] No further splits with positive gain, best gain: -inf\n",
            "[LightGBM] [Warning] No further splits with positive gain, best gain: -inf\n",
            "[LightGBM] [Warning] No further splits with positive gain, best gain: -inf\n",
            "[LightGBM] [Warning] No further splits with positive gain, best gain: -inf\n",
            "[LightGBM] [Warning] No further splits with positive gain, best gain: -inf\n",
            "[LightGBM] [Warning] No further splits with positive gain, best gain: -inf\n",
            "[LightGBM] [Warning] No further splits with positive gain, best gain: -inf\n",
            "[LightGBM] [Warning] No further splits with positive gain, best gain: -inf\n",
            "[LightGBM] [Warning] No further splits with positive gain, best gain: -inf\n",
            "[LightGBM] [Warning] No further splits with positive gain, best gain: -inf\n",
            "[LightGBM] [Warning] No further splits with positive gain, best gain: -inf\n",
            "[LightGBM] [Warning] No further splits with positive gain, best gain: -inf\n",
            "[LightGBM] [Warning] No further splits with positive gain, best gain: -inf\n",
            "[LightGBM] [Warning] No further splits with positive gain, best gain: -inf\n",
            "[LightGBM] [Warning] No further splits with positive gain, best gain: -inf\n",
            "[LightGBM] [Warning] No further splits with positive gain, best gain: -inf\n",
            "[LightGBM] [Warning] No further splits with positive gain, best gain: -inf\n",
            "[LightGBM] [Warning] No further splits with positive gain, best gain: -inf\n",
            "[LightGBM] [Warning] No further splits with positive gain, best gain: -inf\n",
            "[LightGBM] [Warning] No further splits with positive gain, best gain: -inf\n",
            "[LightGBM] [Warning] No further splits with positive gain, best gain: -inf\n",
            "[LightGBM] [Warning] No further splits with positive gain, best gain: -inf\n",
            "[LightGBM] [Warning] No further splits with positive gain, best gain: -inf\n",
            "[LightGBM] [Warning] No further splits with positive gain, best gain: -inf\n",
            "[LightGBM] [Warning] No further splits with positive gain, best gain: -inf\n",
            "[LightGBM] [Warning] No further splits with positive gain, best gain: -inf\n",
            "[LightGBM] [Warning] No further splits with positive gain, best gain: -inf\n",
            "[LightGBM] [Warning] No further splits with positive gain, best gain: -inf\n",
            "[LightGBM] [Warning] No further splits with positive gain, best gain: -inf\n",
            "[LightGBM] [Warning] No further splits with positive gain, best gain: -inf\n",
            "[LightGBM] [Warning] No further splits with positive gain, best gain: -inf\n",
            "[LightGBM] [Warning] No further splits with positive gain, best gain: -inf\n",
            "[LightGBM] [Warning] No further splits with positive gain, best gain: -inf\n",
            "[LightGBM] [Warning] No further splits with positive gain, best gain: -inf\n",
            "[LightGBM] [Warning] No further splits with positive gain, best gain: -inf\n",
            "[LightGBM] [Warning] No further splits with positive gain, best gain: -inf\n",
            "[LightGBM] [Warning] No further splits with positive gain, best gain: -inf\n",
            "[LightGBM] [Warning] No further splits with positive gain, best gain: -inf\n",
            "[LightGBM] [Warning] No further splits with positive gain, best gain: -inf\n",
            "[LightGBM] [Warning] No further splits with positive gain, best gain: -inf\n",
            "[LightGBM] [Warning] No further splits with positive gain, best gain: -inf\n",
            "[LightGBM] [Warning] No further splits with positive gain, best gain: -inf\n"
          ]
        }
      ]
    },
    {
      "cell_type": "code",
      "source": [
        "drop_columntt = test.copy()\n",
        "drop_columntt = drop_columntt.drop(under_1per,axis=1)"
      ],
      "metadata": {
        "id": "a9DV6p7RH32K"
      },
      "execution_count": 13,
      "outputs": []
    },
    {
      "cell_type": "code",
      "source": [
        "testX = drop_columntt.drop(['predicted_weight_g'],axis=1)\n",
        "pred_Y = model.predict(testX) "
      ],
      "metadata": {
        "id": "4RQftzMBJKmH"
      },
      "execution_count": 26,
      "outputs": []
    },
    {
      "cell_type": "code",
      "source": [
        "pred_Y"
      ],
      "metadata": {
        "colab": {
          "base_uri": "https://localhost:8080/"
        },
        "id": "AX-yrRiQJKkJ",
        "outputId": "44b0f48f-53b8-4141-c5be-1be29d374868"
      },
      "execution_count": 27,
      "outputs": [
        {
          "output_type": "execute_result",
          "data": {
            "text/plain": [
              "array([1.64867544e-01, 1.87847968e-01, 2.75620566e-01, 4.02936302e-01,\n",
              "       4.85294936e-01, 1.93625973e+00, 2.32361959e+00, 3.49639906e+00,\n",
              "       4.45621594e+00, 5.33376964e+00, 6.23232796e+00, 7.77686919e+00,\n",
              "       9.44688744e+00, 1.12173505e+01, 1.43422242e+01, 1.77825412e+01,\n",
              "       2.16891740e+01, 2.65742405e+01, 3.24984350e+01, 3.95533325e+01,\n",
              "       4.75261525e+01, 5.60070320e+01, 6.54939609e+01, 7.45600935e+01,\n",
              "       8.09655947e+01, 8.29926436e+01, 8.25650837e+01, 8.20738581e+01,\n",
              "       1.04428614e+00, 1.22210893e+00, 1.33411829e+00, 1.45562478e+00,\n",
              "       1.60160198e+00, 1.81383074e+00, 2.28372026e+00, 2.81712856e+00,\n",
              "       3.40256770e+00, 4.17209536e+00, 4.99100729e+00, 5.80907718e+00,\n",
              "       7.10063517e+00, 8.70117824e+00, 1.02212859e+01, 1.24613438e+01,\n",
              "       1.48236409e+01, 1.79614590e+01, 2.16680372e+01, 2.69008770e+01,\n",
              "       3.11771190e+01, 3.30617578e+01, 4.15986804e+01, 4.88464247e+01,\n",
              "       5.28044125e+01, 5.53183874e+01, 5.68536771e+01, 6.53091927e+01,\n",
              "       8.12456463e-01, 1.22052270e+00, 1.49619210e+00, 1.89698661e+00,\n",
              "       1.95506348e+00, 2.58907152e+00, 2.83907262e+00, 3.52171746e+00,\n",
              "       4.11771482e+00, 4.46800913e+00, 5.03751342e+00, 5.98002323e+00,\n",
              "       6.71063683e+00, 7.54108382e+00, 8.63204287e+00, 1.00824979e+01,\n",
              "       1.13243236e+01, 1.31538515e+01, 1.43751808e+01, 1.57907554e+01,\n",
              "       1.78286229e+01, 2.02536945e+01, 2.30500425e+01, 2.68897964e+01,\n",
              "       3.07328983e+01, 3.52752025e+01, 3.99159032e+01, 4.42165222e+01,\n",
              "       1.66211260e+00, 1.92960198e+00, 2.31773087e+00, 2.77792497e+00,\n",
              "       3.68140502e+00, 5.16849815e+00, 6.22341585e+00, 7.52786236e+00,\n",
              "       8.94548502e+00, 1.06007595e+01, 1.22016948e+01, 1.42761621e+01,\n",
              "       1.71610498e+01, 2.20667003e+01, 2.68149147e+01, 3.28427172e+01,\n",
              "       3.77940353e+01, 4.23607837e+01, 5.15384714e+01, 5.93052574e+01,\n",
              "       7.21001369e+01, 7.97780234e+01, 8.52259563e+01, 9.55391988e+01,\n",
              "       1.06806123e+02, 1.15513713e+02, 1.22996200e+02, 1.28335781e+02,\n",
              "       4.21513599e+00, 4.99516941e+00, 4.96295504e+00, 5.01285675e+00,\n",
              "       6.08080482e+00, 7.38109017e+00, 9.33010316e+00, 9.38356595e+00,\n",
              "       1.21618329e+01, 1.30583706e+01, 1.54491923e+01, 1.87176810e+01,\n",
              "       2.30361106e+01, 2.72425988e+01, 3.19374953e+01, 3.39395233e+01,\n",
              "       4.55818776e+01, 4.94545441e+01, 6.27838797e+01, 7.61455477e+01,\n",
              "       8.77720647e+01, 9.66562454e+01, 1.13217566e+02, 1.14952238e+02,\n",
              "       1.24143863e+02, 1.33158125e+02, 1.46660782e+02, 1.49860475e+02,\n",
              "       2.09548496e+00, 2.89316701e+00, 3.18275134e+00, 3.40161832e+00,\n",
              "       4.08628771e+00, 4.44516207e+00, 5.30506989e+00, 5.75707985e+00,\n",
              "       6.48224440e+00, 7.06721546e+00, 7.88190655e+00, 8.88630443e+00,\n",
              "       1.00313057e+01, 1.11626841e+01, 1.26289449e+01, 1.46421240e+01,\n",
              "       1.68595891e+01, 1.97093758e+01, 2.28755213e+01, 2.50171942e+01,\n",
              "       2.71538262e+01, 2.91874272e+01, 3.18879700e+01, 3.41922390e+01,\n",
              "       3.60060153e+01, 3.68519570e+01, 3.75089729e+01, 3.90199864e+01,\n",
              "       2.84489161e+00, 2.85040147e+00, 2.89914063e+00, 2.98196412e+00,\n",
              "       3.00138581e+00, 3.10805836e+00, 3.29827260e+00, 3.60980615e+00,\n",
              "       3.99983144e+00, 4.86455302e+00, 5.93001013e+00, 7.40645333e+00,\n",
              "       9.11339500e+00, 1.08052942e+01, 1.23732316e+01, 1.44692527e+01,\n",
              "       1.58803849e+01, 1.90707467e+01, 2.20271401e+01, 2.49526380e+01,\n",
              "       2.86008044e+01, 3.31035475e+01, 3.78362256e+01, 4.17293106e+01,\n",
              "       4.74244711e+01, 5.10562447e+01, 5.70200264e+01, 6.38369470e+01,\n",
              "       1.91478562e+00, 2.07108350e+00, 2.21561456e+00, 2.40828245e+00,\n",
              "       2.79999189e+00, 3.20393619e+00, 3.54527897e+00, 4.15201887e+00,\n",
              "       4.91768859e+00, 5.92411840e+00, 7.14310256e+00, 8.66360533e+00,\n",
              "       1.06396454e+01, 1.29325587e+01, 1.48995456e+01, 1.69582847e+01,\n",
              "       2.14993587e+01, 2.49471311e+01, 2.63111691e+01, 3.30347166e+01,\n",
              "       3.78037073e+01, 4.10575165e+01, 4.68110339e+01, 5.79950844e+01,\n",
              "       7.45028511e+01, 7.67614601e+01, 9.00533270e+01, 9.66923522e+01,\n",
              "       1.32385901e+00, 1.59405931e+00, 2.06925127e+00, 3.04702436e+00,\n",
              "       3.44366322e+00, 3.80001862e+00, 4.16248822e+00, 5.12960353e+00,\n",
              "       6.14679778e+00, 6.69783165e+00, 9.23121010e+00, 1.27571224e+01,\n",
              "       1.87872206e+01, 1.88734206e+01, 2.22406289e+01, 2.56252794e+01,\n",
              "       2.94766997e+01, 3.47777891e+01, 4.07582455e+01, 4.41725358e+01,\n",
              "       5.78609271e+01, 6.74279108e+01, 6.78663364e+01, 7.07583507e+01,\n",
              "       7.74105085e+01, 7.81171743e+01, 8.01813011e+01, 8.54434730e+01,\n",
              "       1.23742866e+00, 1.52408420e+00, 1.93623879e+00, 2.41686125e+00,\n",
              "       3.34116240e+00, 3.97897351e+00, 4.98420846e+00, 6.00898542e+00,\n",
              "       7.24154516e+00, 8.85608477e+00, 1.07320115e+01, 1.20013324e+01,\n",
              "       1.42384234e+01, 1.73819902e+01, 2.11650696e+01, 2.48408919e+01,\n",
              "       2.94048784e+01, 3.27618373e+01, 3.75635253e+01, 4.32684280e+01,\n",
              "       4.87447321e+01, 6.34344535e+01, 7.46488860e+01, 8.53618782e+01,\n",
              "       8.96670632e+01, 9.48686637e+01, 1.02208925e+02, 1.09619194e+02,\n",
              "       1.17707505e+01, 1.25200283e+01, 1.37572869e+01, 1.58139271e+01,\n",
              "       1.75962134e+01, 1.99571021e+01, 2.25766583e+01, 2.40243794e+01,\n",
              "       2.88216067e+01, 3.45391239e+01, 4.47944831e+01, 5.32686291e+01,\n",
              "       6.60844304e+01, 7.43781094e+01, 8.79744515e+01, 1.00209697e+02,\n",
              "       1.07103788e+02, 1.08110350e+02, 1.18723338e+02, 1.28235250e+02,\n",
              "       1.37400718e+02, 1.45415600e+02, 1.49728119e+02, 1.52034982e+02,\n",
              "       1.53336671e+02, 1.58918746e+02, 1.62439659e+02, 1.64104023e+02,\n",
              "       5.58370475e-01, 3.22834445e+00, 3.34159094e+00, 3.57275085e+00,\n",
              "       3.84295452e+00, 3.89033742e+00, 3.94205966e+00, 3.92267065e+00,\n",
              "       4.17852967e+00, 5.18897520e+00, 6.31348542e+00, 1.03314273e+01,\n",
              "       1.08221431e+01, 1.25484438e+01, 1.49997765e+01, 1.86862673e+01,\n",
              "       2.39709361e+01, 3.41815649e+01, 3.87949989e+01, 4.82717872e+01,\n",
              "       5.76592937e+01, 6.27936239e+01, 7.14612804e+01, 8.13154215e+01,\n",
              "       9.08739834e+01, 1.06250846e+02, 1.21944276e+02, 1.33574887e+02,\n",
              "       2.23327956e+00, 4.90674647e+00, 7.00216649e+00, 9.68569256e+00,\n",
              "       1.41653640e+01, 1.92555959e+01, 2.62256969e+01, 2.63871697e+01,\n",
              "       3.69122592e+01, 4.72361968e+01, 6.04738775e+01, 7.01242552e+01,\n",
              "       8.25903055e+01, 1.01983168e+02, 1.10978185e+02, 1.25341640e+02,\n",
              "       1.26997655e+02, 1.32297308e+02, 1.39206165e+02, 1.48749599e+02,\n",
              "       1.50266152e+02, 1.51199452e+02, 1.53483130e+02, 1.59000300e+02,\n",
              "       1.59396084e+02, 1.59716054e+02, 1.58963187e+02, 1.59796980e+02,\n",
              "       3.34406450e+00, 4.69179656e+00, 5.34621701e+00, 6.47777959e+00,\n",
              "       7.88915929e+00, 1.12502926e+01, 1.47916755e+01, 1.74338192e+01,\n",
              "       2.26253228e+01, 2.87893249e+01, 3.53304800e+01, 3.95835203e+01,\n",
              "       4.99977762e+01, 6.06375870e+01, 6.83717299e+01, 8.23199362e+01,\n",
              "       9.04361390e+01, 1.09882547e+02, 1.23819107e+02, 1.33790896e+02,\n",
              "       1.41002576e+02, 1.51038237e+02, 1.56238707e+02, 1.56998516e+02,\n",
              "       1.56329315e+02, 1.56338078e+02, 1.58925995e+02, 1.61241655e+02,\n",
              "       2.63508997e-01, 1.10835168e+00, 1.13158808e+00, 1.13168781e+00,\n",
              "       1.81086768e+00, 4.22150130e+00, 4.49288504e+00, 4.65010202e+00,\n",
              "       4.84101200e+00, 4.92049724e+00, 5.84889719e+00, 7.27615429e+00,\n",
              "       9.04474100e+00, 1.05089584e+01, 1.18510305e+01, 1.37755402e+01,\n",
              "       1.61189007e+01, 2.27291736e+01, 2.90656356e+01, 3.53178147e+01,\n",
              "       4.47578477e+01, 5.59514565e+01, 6.74809952e+01, 7.97666556e+01,\n",
              "       9.05126290e+01, 9.76047069e+01, 1.05442716e+02, 1.16557571e+02,\n",
              "       4.95802183e+00, 5.31587748e+00, 6.31966763e+00, 7.41195810e+00,\n",
              "       9.01642484e+00, 1.18358515e+01, 1.49759807e+01, 2.00167656e+01,\n",
              "       2.49734449e+01, 3.17487871e+01, 3.93120948e+01, 4.84135714e+01,\n",
              "       5.77004544e+01, 7.27544585e+01, 8.07952970e+01, 9.25975558e+01,\n",
              "       1.16437555e+02, 1.24058267e+02, 1.31508361e+02, 1.40413944e+02,\n",
              "       1.45601479e+02, 1.57531942e+02, 1.59224525e+02, 1.59265585e+02,\n",
              "       1.59363137e+02, 1.59347051e+02, 1.59567137e+02, 1.60534903e+02,\n",
              "       1.88224941e-01, 6.58977097e-01, 5.92126557e-01, 1.00398497e+00,\n",
              "       2.62285185e+00, 2.92928271e+00, 4.77732023e+00, 5.04021302e+00,\n",
              "       6.23922680e+00, 8.28032994e+00, 1.08001228e+01, 1.31408730e+01,\n",
              "       1.74011051e+01, 1.97793493e+01, 2.54718576e+01, 3.08699628e+01,\n",
              "       3.59885638e+01, 4.14680594e+01, 4.70326055e+01, 5.28710459e+01,\n",
              "       6.30407451e+01, 7.28919991e+01, 8.01198981e+01, 9.38658043e+01,\n",
              "       9.71887156e+01, 9.90211917e+01, 1.16345805e+02, 1.23278574e+02,\n",
              "       1.74261024e-01, 1.79928940e-01, 6.69628335e-01, 6.60198756e-01,\n",
              "       1.04627864e+00, 2.44708746e+00, 1.57655925e+00, 2.30100408e+00,\n",
              "       3.16787368e+00, 4.45998748e+00, 6.78020490e+00, 8.05833963e+00,\n",
              "       9.93587177e+00, 1.26325602e+01, 1.61324448e+01, 1.81665628e+01,\n",
              "       2.10304758e+01, 2.17686106e+01, 2.46755295e+01, 2.81669325e+01,\n",
              "       3.15581223e+01, 3.82099968e+01, 4.55353333e+01, 5.38229947e+01,\n",
              "       6.26682573e+01, 7.05946625e+01, 8.91704737e+01, 9.29512505e+01,\n",
              "       2.22574102e-01, 1.92897234e-01, 7.01116912e-01, 1.55082683e+00,\n",
              "       1.17622043e+00, 2.31255475e+00, 3.18336662e+00, 4.77201149e+00,\n",
              "       6.31139129e+00, 8.03656873e+00, 1.03290627e+01, 1.25822712e+01,\n",
              "       1.90223964e+01, 1.86657799e+01, 2.25713733e+01, 2.64524924e+01,\n",
              "       3.13815607e+01, 3.55109931e+01, 4.18573442e+01, 4.95695041e+01,\n",
              "       5.80583071e+01, 6.72521009e+01, 7.54791069e+01, 8.54081933e+01,\n",
              "       9.81745825e+01, 1.10218057e+02, 1.17054633e+02, 1.27934074e+02,\n",
              "       2.04909864e+00, 2.27358407e+00, 2.76636914e+00, 3.05329618e+00,\n",
              "       3.60759461e+00, 4.34157198e+00, 5.34649724e+00, 6.68364914e+00,\n",
              "       7.95769086e+00, 1.03800034e+01, 1.31503851e+01, 1.54953668e+01,\n",
              "       1.84015810e+01, 2.17928069e+01, 2.52385099e+01, 2.97626401e+01,\n",
              "       3.60168896e+01, 4.02577217e+01, 4.45227381e+01, 4.80996163e+01,\n",
              "       5.12038911e+01, 5.46802581e+01, 5.78656014e+01, 6.03547098e+01,\n",
              "       6.18550614e+01, 6.32957098e+01, 6.19510163e+01, 6.37385098e+01,\n",
              "       1.46525211e+00, 1.52058207e+00, 1.61183013e+00, 1.70680990e+00,\n",
              "       1.99041935e+00, 2.53323645e+00, 3.28752537e+00, 4.08431453e+00,\n",
              "       4.29551606e+00, 4.31155990e+00, 5.53816364e+00, 5.44668029e+00,\n",
              "       5.99701489e+00, 6.08945525e+00, 6.34164048e+00, 6.92674416e+00,\n",
              "       7.15112201e+00, 7.26210865e+00, 7.69573284e+00, 9.86102206e+00,\n",
              "       1.00116006e+01, 1.10911983e+01, 1.10846156e+01, 1.19134817e+01,\n",
              "       1.51437576e+01, 1.77852016e+01, 2.20391036e+01, 2.28872847e+01,\n",
              "       2.27280886e-01, 4.84706609e-01, 1.38933127e+00, 1.75170508e+00,\n",
              "       1.98794690e+00, 2.27822659e+00, 2.75554780e+00, 2.77920511e+00,\n",
              "       3.52663312e+00, 4.08576347e+00, 4.59277809e+00, 4.86490659e+00,\n",
              "       5.54824804e+00, 5.94274628e+00, 6.46454753e+00, 7.24100728e+00,\n",
              "       8.11097428e+00, 8.77650332e+00, 9.58008490e+00, 1.08912473e+01,\n",
              "       1.29293643e+01, 1.42929304e+01, 1.63540922e+01, 1.89411644e+01,\n",
              "       2.10193801e+01, 2.31700133e+01, 2.57788975e+01, 2.96015228e+01,\n",
              "       1.64480918e-01, 1.77065057e-01, 2.70341529e-01, 8.33850681e-01,\n",
              "       1.45451580e+00, 2.20689838e+00, 2.52898797e+00, 3.76899742e+00,\n",
              "       4.42574619e+00, 5.15678193e+00, 6.25340058e+00, 7.47137312e+00,\n",
              "       9.24318735e+00, 1.11402993e+01, 1.35895816e+01, 1.59246235e+01,\n",
              "       1.87715102e+01, 2.12889963e+01, 2.55862549e+01, 3.01436222e+01,\n",
              "       3.46743832e+01, 4.00947680e+01, 4.61099465e+01, 5.32240456e+01,\n",
              "       6.29627932e+01, 7.14705645e+01, 7.48913966e+01, 7.96382146e+01,\n",
              "       1.72652602e-01, 2.06774811e-01, 3.74500813e-01, 3.96001918e-01,\n",
              "       9.59637099e-01, 1.93169800e+00, 2.83745452e+00, 3.61055185e+00,\n",
              "       4.28269605e+00, 5.49014440e+00, 7.22679384e+00, 9.29228519e+00,\n",
              "       1.15028711e+01, 1.39218808e+01, 1.71653657e+01, 1.92122626e+01,\n",
              "       2.27496320e+01, 2.78789276e+01, 3.37411008e+01, 4.14007932e+01,\n",
              "       5.09826973e+01, 6.21245647e+01, 7.09853760e+01, 8.50502668e+01,\n",
              "       9.37525977e+01, 1.02784558e+02, 1.07274991e+02, 1.10663179e+02,\n",
              "       1.87198137e-01, 1.97656967e-01, 2.28198500e-01, 7.78351201e-01,\n",
              "       2.08398225e+00, 2.73940025e+00, 2.75066009e+00, 3.90021466e+00,\n",
              "       4.44269063e+00, 5.93393039e+00, 7.62390647e+00, 9.25481548e+00,\n",
              "       1.11834766e+01, 1.40074905e+01, 1.70138652e+01, 2.08325172e+01,\n",
              "       2.55773299e+01, 2.76199366e+01, 3.20908092e+01, 3.67929028e+01,\n",
              "       4.22130595e+01, 4.90291412e+01, 5.50651484e+01, 6.50070194e+01,\n",
              "       7.47117087e+01, 8.24445161e+01, 8.93288173e+01, 9.75303523e+01,\n",
              "       1.18107274e-01, 5.39216690e-01, 6.63766408e-01, 7.48304962e-01,\n",
              "       8.73145512e-01, 1.24184000e+00, 1.42146743e+00, 1.86450313e+00,\n",
              "       2.86376204e+00, 4.34203536e+00, 5.64502132e+00, 7.69626468e+00,\n",
              "       1.02521350e+01, 1.31105513e+01, 1.50147827e+01, 1.66650897e+01,\n",
              "       1.80557652e+01, 2.11664996e+01, 2.47788774e+01, 2.89907794e+01,\n",
              "       3.38553129e+01, 4.00793107e+01, 4.84090021e+01, 5.32322921e+01,\n",
              "       6.42762351e+01, 7.30504706e+01, 7.64114871e+01, 8.21361333e+01,\n",
              "       6.50096991e-01, 1.33365643e+00, 1.37508678e+00, 2.57951500e+00,\n",
              "       2.92783098e+00, 3.11615505e+00, 3.41990606e+00, 4.18232227e+00,\n",
              "       4.28014392e+00, 4.37925660e+00, 5.26842196e+00, 5.74685039e+00,\n",
              "       7.19315200e+00, 7.42936261e+00, 9.08604079e+00, 1.10566152e+01,\n",
              "       1.34830373e+01, 1.66434113e+01, 2.04753920e+01, 2.58273242e+01,\n",
              "       3.18591933e+01, 3.69682162e+01, 4.13798724e+01, 4.90843376e+01,\n",
              "       5.66837653e+01, 6.41737488e+01, 7.65338087e+01, 8.13670908e+01,\n",
              "       9.25671459e-01, 3.89973948e+00, 4.37094998e+00, 4.80153659e+00,\n",
              "       5.07553691e+00, 6.08421066e+00, 6.17513476e+00, 7.17345044e+00,\n",
              "       7.55649398e+00, 8.49567418e+00, 9.78278318e+00, 1.14999223e+01,\n",
              "       1.24089183e+01, 1.31292824e+01, 1.52810537e+01, 1.64119953e+01,\n",
              "       1.93518015e+01, 2.31343910e+01, 2.67425650e+01, 3.21131762e+01,\n",
              "       3.91674344e+01, 4.44094666e+01, 5.36759592e+01, 6.47896271e+01,\n",
              "       7.38941762e+01, 7.62121462e+01, 8.26677122e+01, 8.65944331e+01])"
            ]
          },
          "metadata": {},
          "execution_count": 27
        }
      ]
    }
  ]
}