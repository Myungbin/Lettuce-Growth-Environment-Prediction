{
 "cells": [
  {
   "cell_type": "code",
   "execution_count": 48,
   "metadata": {},
   "outputs": [],
   "source": [
    "from feature.base_dataset import *\n",
    "from feature.after_dataset import *\n",
    "from glob import glob"
   ]
  },
  {
   "cell_type": "code",
   "execution_count": 49,
   "metadata": {},
   "outputs": [],
   "source": [
    "train_input_list = sorted(glob('./data/train_input/*.csv'))\n",
    "train_target_list = sorted(glob('./data/train_target/*.csv'))\n",
    "\n",
    "test_input_list = sorted(glob('./data/test_input/*.csv'))\n",
    "test_target_list = sorted(glob('./data/test_target/*.csv'))"
   ]
  },
  {
   "cell_type": "code",
   "execution_count": 71,
   "metadata": {},
   "outputs": [
    {
     "data": {
      "text/plain": [
       "8.858872931501214"
      ]
     },
     "execution_count": 71,
     "metadata": {},
     "output_type": "execute_result"
    }
   ],
   "source": [
    "train['내부온도관측치'].var()"
   ]
  },
  {
   "cell_type": "code",
   "execution_count": 72,
   "metadata": {},
   "outputs": [],
   "source": [
    "def group_statistics(df):  \n",
    "    '''\n",
    "    변수의 Case별로 DAT을 기준으로 groupby 하여 대표값 설정  \n",
    "    mean, median, std, var, quantile\n",
    "    '''\n",
    "    df_a = pd.DataFrame()\n",
    "\n",
    "    for i, v in enumerate(df[\"Case\"].unique()):\n",
    "        train_old = df[df['Case']==v]\n",
    "        train_old = train_old.groupby(['DAT']).var().reset_index()\n",
    "        df_a = pd.concat([df_a, train_old])\n",
    "        df_a = df_a.drop(['일간누적분무량', '일간누적백색광량', '일간누적적색광량', '일간누적청색광량', '일간누적총광량',\n",
    "                          'predicted_weight_g', 'Case', 'DAT', 'obs_time'], axis=1)\n",
    "    return df_a"
   ]
  },
  {
   "cell_type": "code",
   "execution_count": 73,
   "metadata": {},
   "outputs": [
    {
     "name": "stderr",
     "output_type": "stream",
     "text": [
      "c:\\mb_job\\project\\Competition\\Lettuce-Growth-Environment-Prediction\\feature\\base_dataset.py:58: SettingWithCopyWarning: \n",
      "A value is trying to be set on a copy of a slice from a DataFrame\n",
      "\n",
      "See the caveats in the documentation: https://pandas.pydata.org/pandas-docs/stable/user_guide/indexing.html#returning-a-view-versus-a-copy\n",
      "  df[cum_col][i*24:(i+1)*24] = cumsum\n"
     ]
    }
   ],
   "source": [
    "train = make_dataset(train_input_list, train_target_list)\n",
    "test = make_dataset(test_input_list, test_target_list)\n",
    "\n",
    "train = time_value(train)\n",
    "test = time_value(test)\n",
    "\n",
    "train = limit_range(train)\n",
    "test = limit_range(test)\n",
    "\n",
    "train = train.fillna(method='ffill')\n",
    "test = test.fillna(method='ffill')\n",
    "\n",
    "test['predicted_weight_g'] = 0\n",
    "\n",
    "train = col_cumsum(train, \"시간당분무량\", \"일간누적분무량\")\n",
    "train = col_cumsum(train, \"시간당백색광량\", \"일간누적백색광량\")\n",
    "train = col_cumsum(train, \"시간당적색광량\", \"일간누적적색광량\")\n",
    "train = col_cumsum(train, \"시간당청색광량\", \"일간누적청색광량\")\n",
    "train = col_cumsum(train, \"시간당총광량\", \"일간누적총광량\")"
   ]
  },
  {
   "cell_type": "code",
   "execution_count": 74,
   "metadata": {},
   "outputs": [],
   "source": [
    "train = group_statistics(train)\n",
    "test = group_statistics(test)"
   ]
  },
  {
   "cell_type": "code",
   "execution_count": 76,
   "metadata": {},
   "outputs": [],
   "source": [
    "train.to_csv('train_var.csv', index=False)\n",
    "test.to_csv('test_var.csv', index=False)"
   ]
  },
  {
   "cell_type": "code",
   "execution_count": null,
   "metadata": {},
   "outputs": [],
   "source": []
  }
 ],
 "metadata": {
  "kernelspec": {
   "display_name": "Python 3.8.10 64-bit",
   "language": "python",
   "name": "python3"
  },
  "language_info": {
   "codemirror_mode": {
    "name": "ipython",
    "version": 3
   },
   "file_extension": ".py",
   "mimetype": "text/x-python",
   "name": "python",
   "nbconvert_exporter": "python",
   "pygments_lexer": "ipython3",
   "version": "3.8.10"
  },
  "orig_nbformat": 4,
  "vscode": {
   "interpreter": {
    "hash": "b081a66ee97bd2b6a16f43955f1d810b7ea816d6eaeb65e157ef9e038445f0c6"
   }
  }
 },
 "nbformat": 4,
 "nbformat_minor": 2
}
