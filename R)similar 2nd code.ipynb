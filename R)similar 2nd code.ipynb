{
 "cells": [
  {
   "cell_type": "code",
   "execution_count": 3,
   "metadata": {},
   "outputs": [],
   "source": [
    "import pandas as pd\n",
    "from glob import glob\n",
    "from feature.base_dataset import time_value, limit_range\n",
    "def transpose_data(input_path):\n",
    "    \"\"\"data transpose\n",
    "\n",
    "    Args:\n",
    "        input_path (str): path\n",
    "\n",
    "    Returns:\n",
    "        DataFrame\n",
    "    \"\"\"    \n",
    "    input_list = sorted(glob(input_path))\n",
    "    df_t = pd.DataFrame()\n",
    "    for i in input_list:\n",
    "        df = pd.read_csv(i)\n",
    "        df = time_value(df)\n",
    "        df = limit_range(df)\n",
    "        df = df.fillna(method='ffill')\n",
    "        # df = df.drop(['시간당분무량', '시간당백색광량',\n",
    "        #               '시간당적색광량', '시간당청색광량', '시간당총광량',\n",
    "        #               '일간누적청색광량', '일간누적적색광량', '일간누적백색광량'], axis=1)\n",
    "\n",
    "        df = pd.pivot_table(df, index=['DAT'], columns=['obs_time'])\n",
    "        df.columns = [''.join(str(col)) for col in df.columns]\n",
    "        df = df.reset_index()\n",
    "\n",
    "        df_t = pd.concat([df_t, df])\n",
    "    # df_t = df_t.drop(['DAT'], axis=1)\n",
    "    return df_t\n",
    "train_input_path = './data/RAW/train_input/*.csv'\n",
    "test_input_path = './data/RAW/test_input/*.csv'\n",
    "\n",
    "train = transpose_data(train_input_path)\n",
    "test = transpose_data(test_input_path)"
   ]
  }
 ],
 "metadata": {
  "kernelspec": {
   "display_name": "base",
   "language": "python",
   "name": "python3"
  },
  "language_info": {
   "codemirror_mode": {
    "name": "ipython",
    "version": 3
   },
   "file_extension": ".py",
   "mimetype": "text/x-python",
   "name": "python",
   "nbconvert_exporter": "python",
   "pygments_lexer": "ipython3",
   "version": "3.9.13 (main, Aug 25 2022, 23:51:50) [MSC v.1916 64 bit (AMD64)]"
  },
  "orig_nbformat": 4,
  "vscode": {
   "interpreter": {
    "hash": "8b89323bfb51462e07b3b44fbe5501f0ab989a383b4d33571ac0c27eb59569d4"
   }
  }
 },
 "nbformat": 4,
 "nbformat_minor": 2
}
