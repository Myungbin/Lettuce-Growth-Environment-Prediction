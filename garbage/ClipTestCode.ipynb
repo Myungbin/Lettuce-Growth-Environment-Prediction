{
 "cells": [
  {
   "cell_type": "code",
   "execution_count": 1,
   "metadata": {},
   "outputs": [
    {
     "name": "stderr",
     "output_type": "stream",
     "text": [
      "c:\\Python\\Python38\\lib\\site-packages\\xgboost\\compat.py:31: FutureWarning: pandas.Int64Index is deprecated and will be removed from pandas in a future version. Use pandas.Index with the appropriate dtype instead.\n",
      "  from pandas import MultiIndex, Int64Index\n"
     ]
    }
   ],
   "source": [
    "from feature.clip_make_dataset import make_data\n",
    "from feature.after_dataset import accumulate\n",
    "from feature.utils import log_scale\n",
    "from model.model_train import model_train\n",
    "import pandas as pd\n",
    "from glob import glob\n",
    "from sklearn.metrics import mean_squared_error\n",
    "from sklearn.model_selection import train_test_split\n",
    "import glob\n",
    "import numpy as np\n",
    "from xgboost import XGBRegressor\n",
    "from catboost import CatBoostRegressor\n",
    "from lightgbm import LGBMRegressor\n",
    "from sklearn.linear_model import LinearRegression\n",
    "import warnings\n",
    "import matplotlib.pyplot as plt\n",
    "warnings.filterwarnings('ignore')"
   ]
  },
  {
   "cell_type": "code",
   "execution_count": 2,
   "metadata": {},
   "outputs": [],
   "source": [
    "train_input_list = './data/train_input/*.csv'\n",
    "train_target_list = './data/train_target/*.csv'\n",
    "\n",
    "test_input_list = './data/test_input/*.csv'\n",
    "test_target_list = './data/test_target/*.csv'\n",
    "train, test, p_train, p_test = make_data(train_input_list, train_target_list, test_input_list, test_target_list)"
   ]
  },
  {
   "cell_type": "code",
   "execution_count": 4,
   "metadata": {},
   "outputs": [],
   "source": [
    "train.to_csv('강화학습용.csv', index=False)"
   ]
  },
  {
   "cell_type": "code",
   "execution_count": 3,
   "metadata": {},
   "outputs": [],
   "source": [
    "accumulate(train, test, '누적분무량')\n",
    "accumulate(train, test, '누적백색광량')\n",
    "accumulate(train, test, '누적청색광량')\n",
    "accumulate(train, test, '누적적색광량')"
   ]
  },
  {
   "cell_type": "code",
   "execution_count": 5,
   "metadata": {},
   "outputs": [],
   "source": [
    "train = train.reset_index(inplace=False)\n",
    "test  = test.reset_index(inplace=False)\n",
    "train = pd.concat([train, p_train], axis=1)\n",
    "test = pd.concat([test, p_test], axis=1)\n",
    "train = train.drop(['index'], axis=1)\n",
    "test = test.drop(['index'], axis=1)"
   ]
  },
  {
   "cell_type": "code",
   "execution_count": 6,
   "metadata": {},
   "outputs": [
    {
     "name": "stdout",
     "output_type": "stream",
     "text": [
      "Index(['DAT', '내부온도관측치', '내부습도관측치', 'co2관측치', 'ec관측치', '시간당분무량', '일간누적분무량',\n",
      "       '시간당백색광량', '일간누적백색광량', '시간당적색광량', '일간누적적색광량', '시간당청색광량', '일간누적청색광량',\n",
      "       '시간당총광량', '일간누적총광량', 'diff_temp', 'dark', 'water', '월간누적분무량',\n",
      "       '월간누적백색광량', '월간누적청색광량', '월간누적적색광량', '('일간누적백색광량', 1.0)',\n",
      "       '('일간누적백색광량', 2.0)', '('일간누적백색광량', 3.0)', '('일간누적백색광량', 4.0)',\n",
      "       '('일간누적분무량', 1.0)', '('일간누적분무량', 2.0)', '('일간누적분무량', 3.0)',\n",
      "       '('일간누적분무량', 4.0)', '('일간누적적색광량', 1.0)', '('일간누적적색광량', 2.0)',\n",
      "       '('일간누적적색광량', 3.0)', '('일간누적적색광량', 4.0)', '('일간누적청색광량', 1.0)',\n",
      "       '('일간누적청색광량', 2.0)', '('일간누적청색광량', 3.0)', '('일간누적청색광량', 4.0)',\n",
      "       '('일간누적총광량', 1.0)', '('일간누적총광량', 2.0)', '('일간누적총광량', 3.0)',\n",
      "       '('일간누적총광량', 4.0)'],\n",
      "      dtype='object')\n",
      "Learning rate set to 0.037333\n",
      "0:\tlearn: 40.7248814\ttotal: 8.42ms\tremaining: 8.41s\n",
      "100:\tlearn: 8.5618510\ttotal: 852ms\tremaining: 7.58s\n",
      "200:\tlearn: 6.3184465\ttotal: 1.73s\tremaining: 6.89s\n",
      "300:\tlearn: 5.5031912\ttotal: 2.54s\tremaining: 5.9s\n",
      "400:\tlearn: 5.1498683\ttotal: 3.35s\tremaining: 5s\n",
      "500:\tlearn: 5.0320777\ttotal: 4.17s\tremaining: 4.15s\n",
      "600:\tlearn: 4.8358090\ttotal: 4.97s\tremaining: 3.3s\n",
      "700:\tlearn: 4.3850100\ttotal: 5.8s\tremaining: 2.47s\n",
      "800:\tlearn: 4.1687336\ttotal: 6.61s\tremaining: 1.64s\n",
      "900:\tlearn: 4.0007056\ttotal: 7.4s\tremaining: 813ms\n",
      "999:\tlearn: 3.7640334\ttotal: 8.21s\tremaining: 0us\n",
      "validation rmse: 8.872315882306655\n",
      "Learning rate set to 0.039126\n",
      "0:\tlearn: 40.3117475\ttotal: 9.63ms\tremaining: 9.62s\n",
      "100:\tlearn: 7.7108864\ttotal: 852ms\tremaining: 7.58s\n",
      "200:\tlearn: 5.6924829\ttotal: 1.7s\tremaining: 6.77s\n",
      "300:\tlearn: 5.0305454\ttotal: 2.5s\tremaining: 5.79s\n",
      "400:\tlearn: 4.5752716\ttotal: 3.24s\tremaining: 4.84s\n",
      "500:\tlearn: 4.2304475\ttotal: 3.98s\tremaining: 3.97s\n",
      "600:\tlearn: 3.9920866\ttotal: 4.66s\tremaining: 3.1s\n",
      "700:\tlearn: 3.7889213\ttotal: 5.44s\tremaining: 2.32s\n",
      "800:\tlearn: 3.6941492\ttotal: 6.24s\tremaining: 1.55s\n",
      "900:\tlearn: 3.6149159\ttotal: 7s\tremaining: 769ms\n",
      "999:\tlearn: 3.5587222\ttotal: 7.64s\tremaining: 0us\n"
     ]
    }
   ],
   "source": [
    "cat = CatBoostRegressor(verbose=100, early_stopping_rounds=50, task_type=\"GPU\", random_seed=113)\n",
    "model_train(train, test, cat)"
   ]
  },
  {
   "cell_type": "code",
   "execution_count": 7,
   "metadata": {},
   "outputs": [],
   "source": [
    "df_imp = pd.DataFrame({'imp':cat.feature_importances_}, index = cat.feature_names_)\n",
    "df_imp = df_imp[df_imp.imp > 0].sort_values('imp').copy()\n",
    "df_imp.to_csv('feature_imp.csv', encoding='cp949')"
   ]
  },
  {
   "cell_type": "code",
   "execution_count": 8,
   "metadata": {},
   "outputs": [
    {
     "data": {
      "text/plain": [
       "Index(['DAT', 'obs_time', '내부온도관측치', '내부습도관측치', 'co2관측치', 'ec관측치', '시간당분무량',\n",
       "       '일간누적분무량', '시간당백색광량', '일간누적백색광량', '시간당적색광량', '일간누적적색광량', '시간당청색광량',\n",
       "       '일간누적청색광량', '시간당총광량', '일간누적총광량', 'predicted_weight_g', 'Case', '6time',\n",
       "       'diff_temp', 'dark', 'water', '월간누적분무량', '월간누적백색광량', '월간누적청색광량',\n",
       "       '월간누적적색광량', '('일간누적백색광량', 1.0)', '('일간누적백색광량', 2.0)',\n",
       "       '('일간누적백색광량', 3.0)', '('일간누적백색광량', 4.0)', '('일간누적분무량', 1.0)',\n",
       "       '('일간누적분무량', 2.0)', '('일간누적분무량', 3.0)', '('일간누적분무량', 4.0)',\n",
       "       '('일간누적적색광량', 1.0)', '('일간누적적색광량', 2.0)', '('일간누적적색광량', 3.0)',\n",
       "       '('일간누적적색광량', 4.0)', '('일간누적청색광량', 1.0)', '('일간누적청색광량', 2.0)',\n",
       "       '('일간누적청색광량', 3.0)', '('일간누적청색광량', 4.0)', '('일간누적총광량', 1.0)',\n",
       "       '('일간누적총광량', 2.0)', '('일간누적총광량', 3.0)', '('일간누적총광량', 4.0)'],\n",
       "      dtype='object')"
      ]
     },
     "execution_count": 8,
     "metadata": {},
     "output_type": "execute_result"
    }
   ],
   "source": [
    "train.columns"
   ]
  },
  {
   "cell_type": "code",
   "execution_count": null,
   "metadata": {},
   "outputs": [],
   "source": []
  }
 ],
 "metadata": {
  "kernelspec": {
   "display_name": "Python 3.8.10 64-bit",
   "language": "python",
   "name": "python3"
  },
  "language_info": {
   "codemirror_mode": {
    "name": "ipython",
    "version": 3
   },
   "file_extension": ".py",
   "mimetype": "text/x-python",
   "name": "python",
   "nbconvert_exporter": "python",
   "pygments_lexer": "ipython3",
   "version": "3.8.10"
  },
  "orig_nbformat": 4,
  "vscode": {
   "interpreter": {
    "hash": "b081a66ee97bd2b6a16f43955f1d810b7ea816d6eaeb65e157ef9e038445f0c6"
   }
  }
 },
 "nbformat": 4,
 "nbformat_minor": 2
}
