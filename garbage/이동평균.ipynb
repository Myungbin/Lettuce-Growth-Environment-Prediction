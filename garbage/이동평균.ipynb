{
 "cells": [
  {
   "cell_type": "code",
   "execution_count": 2,
   "metadata": {},
   "outputs": [],
   "source": [
    "import pandas as pd\n",
    "import re\n",
    "from feature.base_dataset import limit_range\n",
    "from glob import glob"
   ]
  },
  {
   "cell_type": "code",
   "execution_count": 6,
   "metadata": {},
   "outputs": [],
   "source": [
    "def moving_average(input_path):\n",
    "    \"\"\"make moving_average dataset\n",
    "\n",
    "    Args:\n",
    "        input_path (str): data input path\n",
    "\n",
    "    Returns:\n",
    "        DataFrame: moving_average time dataset\n",
    "    \"\"\"\n",
    "    input_list = sorted(glob(input_path))\n",
    "    df_moving = pd.DataFrame()\n",
    "    for i in input_list:\n",
    "        df = pd.read_csv(i)\n",
    "        df = limit_range(df)\n",
    "        df = df.fillna(method='ffill')\n",
    "        df = df.drop(['DAT', 'obs_time', '시간당분무량', '시간당백색광량',\n",
    "                    '시간당적색광량', '시간당청색광량', '시간당총광량',\n",
    "                    '일간누적청색광량', '일간누적적색광량', '일간누적백색광량'], axis=1)\n",
    "           \n",
    "        ma = df.rolling(6, min_periods=1).mean()\n",
    "        ma['time'] = [i%24 for i in range(len(ma))]\n",
    "        ma['DAT'] = [i//24 for i in range(len(ma))]\n",
    "\n",
    "        df = pd.pivot_table(ma, index=['DAT'], columns=['time'], aggfunc='mean')\n",
    "        df.columns = [''.join(str(col)) for col in df.columns]\n",
    "        df = df.reset_index()    \n",
    "        \n",
    "        df_moving = pd.concat([df_moving, df])\n",
    "    df_moving = df_moving.drop(['DAT'], axis=1)\n",
    "    return df_moving\n",
    "    "
   ]
  },
  {
   "cell_type": "code",
   "execution_count": 12,
   "metadata": {},
   "outputs": [],
   "source": [
    "from glob import glob\n",
    "train_input_list = sorted(glob('./data/train_input/*.csv'))\n",
    "train_target_list = sorted(glob('./data/train_target/*.csv'))\n",
    "\n",
    "test_input_list = sorted(glob('./data/test_input/*.csv'))\n",
    "test_target_list = sorted(glob('./data/test_target/*.csv'))"
   ]
  },
  {
   "cell_type": "code",
   "execution_count": 7,
   "metadata": {},
   "outputs": [],
   "source": [
    "train = moving_average('./data/train_input/*.csv')\n",
    "# test = moving_average(test_input_list)"
   ]
  },
  {
   "cell_type": "code",
   "execution_count": 14,
   "metadata": {},
   "outputs": [],
   "source": [
    "train.to_csv('train_roling.csv', index=False)\n",
    "test.to_csv('test_roling.csv', index=False)"
   ]
  }
 ],
 "metadata": {
  "kernelspec": {
   "display_name": "Python 3.8.10 64-bit",
   "language": "python",
   "name": "python3"
  },
  "language_info": {
   "codemirror_mode": {
    "name": "ipython",
    "version": 3
   },
   "file_extension": ".py",
   "mimetype": "text/x-python",
   "name": "python",
   "nbconvert_exporter": "python",
   "pygments_lexer": "ipython3",
   "version": "3.8.10"
  },
  "orig_nbformat": 4,
  "vscode": {
   "interpreter": {
    "hash": "b081a66ee97bd2b6a16f43955f1d810b7ea816d6eaeb65e157ef9e038445f0c6"
   }
  }
 },
 "nbformat": 4,
 "nbformat_minor": 2
}
