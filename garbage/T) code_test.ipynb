{
 "cells": [
  {
   "cell_type": "code",
   "execution_count": 1,
   "metadata": {},
   "outputs": [],
   "source": [
    "from feature.base_dataset import *\n",
    "from feature.after_dataset import *\n",
    "import random\n",
    "import pandas as pd\n",
    "import numpy as np\n",
    "import os\n",
    "from glob import glob\n",
    "import datetime\n",
    "import matplotlib.pyplot as plt\n",
    "from sklearn.preprocessing import StandardScaler\n"
   ]
  },
  {
   "cell_type": "code",
   "execution_count": 2,
   "metadata": {},
   "outputs": [],
   "source": [
    "train_input_list = sorted(glob('./data/train_input/*.csv'))\n",
    "train_target_list = sorted(glob('./data/train_target/*.csv'))\n",
    "\n",
    "test_input_list = sorted(glob('./data/test_input/*.csv'))\n",
    "test_target_list = sorted(glob('./data/test_target/*.csv'))\n"
   ]
  },
  {
   "cell_type": "code",
   "execution_count": 3,
   "metadata": {},
   "outputs": [
    {
     "name": "stderr",
     "output_type": "stream",
     "text": [
      "c:\\Project_MB\\Lettuce-Growth-Environment-Prediction\\feature\\base_dataset.py:58: SettingWithCopyWarning: \n",
      "A value is trying to be set on a copy of a slice from a DataFrame\n",
      "\n",
      "See the caveats in the documentation: https://pandas.pydata.org/pandas-docs/stable/user_guide/indexing.html#returning-a-view-versus-a-copy\n",
      "  df[cum_col][i*24:(i+1)*24] = cumsum\n"
     ]
    }
   ],
   "source": [
    "train = make_dataset(train_input_list, train_target_list)\n",
    "test = make_dataset(test_input_list, test_target_list)\n",
    "\n",
    "train = time_value(train)\n",
    "test = time_value(test)\n",
    "\n",
    "train = limit_range(train)\n",
    "test = limit_range(test)\n",
    "\n",
    "train = train.fillna(method='ffill')\n",
    "test = test.fillna(method='ffill')\n",
    "\n",
    "test['predicted_weight_g'] = 0\n",
    "\n",
    "train = col_cumsum(train, \"시간당분무량\", \"일간누적분무량\")\n",
    "train = col_cumsum(train, \"시간당백색광량\", \"일간누적백색광량\")\n",
    "train = col_cumsum(train, \"시간당적색광량\", \"일간누적적색광량\")\n",
    "train = col_cumsum(train, \"시간당청색광량\", \"일간누적청색광량\")\n",
    "train = col_cumsum(train, \"시간당총광량\", \"일간누적총광량\")\n",
    "\n",
    "\n",
    "test = col_cumsum_test(test, \"시간당분무량\", \"일간누적분무량\")\n",
    "test = col_cumsum_test(test, \"시간당백색광량\", \"일간누적백색광량\")\n",
    "test = col_cumsum_test(test, \"시간당적색광량\", \"일간누적적색광량\")\n",
    "test = col_cumsum_test(test, \"시간당청색광량\", \"일간누적청색광량\")\n",
    "test = col_cumsum_test(test, \"시간당총광량\", \"일간누적총광량\")\n"
   ]
  },
  {
   "cell_type": "code",
   "execution_count": 4,
   "metadata": {},
   "outputs": [],
   "source": [
    "train_temp, test_temp = diff_temp(train, test)\n",
    "train_dark, test_dark = none_light(train, test)\n",
    "train_water, test_water = water(train, test)\n"
   ]
  },
  {
   "cell_type": "code",
   "execution_count": 5,
   "metadata": {},
   "outputs": [],
   "source": [
    "train = time_split(train)\n",
    "test = time_split(test)\n"
   ]
  },
  {
   "cell_type": "code",
   "execution_count": 6,
   "metadata": {},
   "outputs": [],
   "source": [
    "pivot_train = pivot_data(train)\n",
    "pivot_test = pivot_data(test)\n"
   ]
  },
  {
   "cell_type": "code",
   "execution_count": 7,
   "metadata": {},
   "outputs": [],
   "source": [
    "train_cumsum = train[['DAT', 'obs_time', '일간누적분무량',\n",
    "                      '일간누적백색광량', '일간누적적색광량', '일간누적청색광량', '일간누적총광량', 'Case']]\n",
    "test_cumsum = test[['DAT', 'obs_time', '일간누적분무량',\n",
    "                    '일간누적백색광량', '일간누적적색광량', '일간누적청색광량', '일간누적총광량', 'Case']]\n"
   ]
  },
  {
   "cell_type": "code",
   "execution_count": 8,
   "metadata": {},
   "outputs": [],
   "source": [
    "train_cumsum = cumsum_group_max(train_cumsum)\n",
    "test_cumsum = cumsum_group_max(test_cumsum)\n",
    "\n",
    "train_rep = group_median(train)\n",
    "test_rep = group_median(test)\n",
    "\n",
    "train = concat_df(train_rep, train_cumsum)\n",
    "test = concat_df(test_rep, test_cumsum)\n",
    "\n",
    "train['diff_temp'] = train_temp\n",
    "test['diff_temp'] = test_temp\n",
    "train['dark'] = train_dark\n",
    "test['dark'] = test_dark\n",
    "train['water'] = train_water\n",
    "test['water'] = test_water\n"
   ]
  }
 ],
 "metadata": {
  "kernelspec": {
   "display_name": "Python 3.9.13 ('base')",
   "language": "python",
   "name": "python3"
  },
  "language_info": {
   "codemirror_mode": {
    "name": "ipython",
    "version": 3
   },
   "file_extension": ".py",
   "mimetype": "text/x-python",
   "name": "python",
   "nbconvert_exporter": "python",
   "pygments_lexer": "ipython3",
   "version": "3.9.13"
  },
  "orig_nbformat": 4,
  "vscode": {
   "interpreter": {
    "hash": "8b89323bfb51462e07b3b44fbe5501f0ab989a383b4d33571ac0c27eb59569d4"
   }
  }
 },
 "nbformat": 4,
 "nbformat_minor": 2
}
