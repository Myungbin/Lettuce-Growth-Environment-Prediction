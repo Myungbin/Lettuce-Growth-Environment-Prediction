{
 "cells": [
  {
   "cell_type": "code",
   "execution_count": 153,
   "id": "aa18de9c-1269-4a7b-8f3b-fa2d8c7d7986",
   "metadata": {},
   "outputs": [],
   "source": [
    "import sklearn\n",
    "import os\n",
    "import numpy as np\n",
    "import pandas as pd\n",
    "\n",
    "from glob import glob\n",
    "from xgboost import XGBRegressor\n",
    "from sklearn.ensemble import RandomForestRegressor"
   ]
  },
  {
   "cell_type": "code",
   "execution_count": 154,
   "id": "40531446-750d-4fcd-80c0-82e54c9081ba",
   "metadata": {},
   "outputs": [
    {
     "name": "stdout",
     "output_type": "stream",
     "text": [
      "Load train data\n",
      "784\n",
      "360\n",
      "Done.\n",
      "Load test data\n",
      "140\n",
      "360\n",
      "Done.\n"
     ]
    }
   ],
   "source": [
    "dataset = {\n",
    "    key: [] for key in ['train_x', 'train_y', 'test_x', 'test_y']\n",
    "}\n",
    "\n",
    "train_x_list = sorted(glob('./data/train_input/*.csv'))\n",
    "train_y_list = sorted(glob('./data/train_target/*.csv'))\n",
    "test_x_list = sorted(glob('./data/test_input/*.csv'))\n",
    "\n",
    "print(\"Load train data\")\n",
    "for x_path, y_path in zip(train_x_list, train_y_list):\n",
    "    x_df = pd.read_csv(x_path)\n",
    "    y_df = pd.read_csv(y_path)\n",
    "    \n",
    "    x_df = x_df.drop(columns=['obs_time'])\n",
    "    # x_df = x_df.drop(columns=['DAT'])\n",
    "    x_df = x_df.fillna(0)\n",
    "    \n",
    "    for i in range(28):\n",
    "        x = x_df[i * 24:(i+1) * 24].values\n",
    "        x = np.array(x).flatten().tolist()\n",
    "        dataset['train_x'].append(x)\n",
    "    \n",
    "    dataset['train_y'].extend(y_df['predicted_weight_g'])\n",
    "print(len(dataset['train_y']))\n",
    "print(len(dataset['train_x'][0]))\n",
    "print(\"Done.\")\n",
    "\n",
    "print(\"Load test data\")\n",
    "for x_path in test_x_list:\n",
    "    x_df = pd.read_csv(x_path)\n",
    "    \n",
    "    x_df = x_df.drop(columns=['obs_time'])\n",
    "    # x_df = x_df.drop(columns=['DAT'])\n",
    "    x_df = x_df.fillna(0)\n",
    "    \n",
    "    for i in range(28):\n",
    "        x = x_df[i * 24:(i+1) * 24].values\n",
    "        x = np.array(x).flatten().tolist()\n",
    "        dataset['test_x'].append(x)\n",
    "print(len(dataset['test_x']))\n",
    "print(len(dataset['test_x'][0]))\n",
    "print(\"Done.\")"
   ]
  },
  {
   "cell_type": "code",
   "execution_count": 155,
   "id": "841e7930-b504-4bfe-ad28-9c862e445b56",
   "metadata": {},
   "outputs": [
    {
     "name": "stdout",
     "output_type": "stream",
     "text": [
      "(784, 361)\n"
     ]
    }
   ],
   "source": [
    "ddff = pd.DataFrame(dataset['train_x'])\n",
    "ddff['target'] = dataset['train_y']\n",
    "print(ddff.shape)\n",
    "ddff.to_csv('./data/train.csv', index=False)"
   ]
  },
  {
   "cell_type": "code",
   "execution_count": 156,
   "id": "6d461581-e3ce-4cd1-9ada-3dabcc4e0462",
   "metadata": {},
   "outputs": [
    {
     "name": "stdout",
     "output_type": "stream",
     "text": [
      "(140, 360)\n"
     ]
    }
   ],
   "source": [
    "ddff = pd.DataFrame(dataset['test_x'])\n",
    "print(ddff.shape)\n",
    "ddff.to_csv('./data/test.csv', index=False)"
   ]
  },
  {
   "cell_type": "markdown",
   "id": "8008d4f3-c4bb-4206-9867-84dd6a620b3b",
   "metadata": {},
   "source": [
    "# XGBoost"
   ]
  },
  {
   "cell_type": "code",
   "execution_count": 157,
   "id": "8797f0e6-4861-4eb5-a798-83ecea024dcc",
   "metadata": {},
   "outputs": [
    {
     "data": {
      "text/plain": [
       "0.940366957958488"
      ]
     },
     "execution_count": 157,
     "metadata": {},
     "output_type": "execute_result"
    }
   ],
   "source": [
    "xgb = XGBRegressor(n_estimators=3000, learning_rate=0.1, subsample=0.5, max_depth=10, \n",
    "                   gamma=500, reg_lambda=500, colsample_bytree=0.5)\n",
    "xgb.fit(dataset['train_x'], dataset['train_y'])\n",
    "\n",
    "xgb.score(dataset['train_x'], dataset['train_y'])"
   ]
  },
  {
   "cell_type": "markdown",
   "id": "cc87fb74-60ce-4c23-8139-4ed20ce1976f",
   "metadata": {},
   "source": [
    "# Inference"
   ]
  },
  {
   "cell_type": "code",
   "execution_count": 158,
   "id": "af50743c-a159-4bde-915a-dbb34d691499",
   "metadata": {},
   "outputs": [],
   "source": [
    "dataset['test_y'] = xgb.predict(dataset['test_x'])"
   ]
  },
  {
   "cell_type": "code",
   "execution_count": 159,
   "id": "85b7e29e-5295-4b40-815a-010628cb153c",
   "metadata": {},
   "outputs": [],
   "source": [
    "test_y_list = sorted(glob('./data/test_target/*.csv'))\n",
    "\n",
    "i = 0\n",
    "for path in test_y_list:\n",
    "    df = pd.read_csv(path)\n",
    "    \n",
    "    df['predicted_weight_g'] = dataset['test_y'][i * 28:(i+1) * 28]\n",
    "    i += 1\n",
    "    df.to_csv(path, index=False)"
   ]
  },
  {
   "cell_type": "markdown",
   "id": "df3a7db3-7187-4f6d-bfed-352fff97b379",
   "metadata": {},
   "source": [
    "# submission"
   ]
  },
  {
   "cell_type": "code",
   "execution_count": 160,
   "id": "a63ce9f2-e635-4797-991c-d64b71a125ec",
   "metadata": {},
   "outputs": [],
   "source": [
    "import zipfile\n",
    "\n",
    "os.chdir(\"./data/test_target/\")\n",
    "submission = zipfile.ZipFile(\"../submission_xgboost.zip\", 'w')\n",
    "\n",
    "for path in test_y_list:\n",
    "    path = path.split('/')[-1]\n",
    "    submission.write(path)\n",
    "    \n",
    "submission.close()\n",
    "os.chdir(\"../../\")"
   ]
  },
  {
   "cell_type": "markdown",
   "id": "eb038284-03e4-4c3d-bcf2-7d70186153ae",
   "metadata": {},
   "source": [
    "# Best\n",
    "\n",
    "- 1\n",
    "    - xgb = XGBRegressor(n_estimators=3000, learning_rate=0.05, subsample=0.5, max_depth=10, \n",
    "                   gamma=500, reg_lambda=500, colsample_bytree=0.5)\n",
    "- 2\n",
    "    - xgb = XGBRegressor(n_estimators=3000, learning_rate=0.05, subsample=0.5, max_depth=13, \n",
    "                   gamma=500, reg_lambda=500, colsample_bytree=0.5)\n",
    "- 3\n",
    "    - xgb = XGBRegressor(n_estimators=5000, learning_rate=0.05, subsample=0.5, max_depth=6, \n",
    "                   gamma=500, reg_lambda=500, colsample_bytree=0.5)\n",
    "- 4\n",
    "- 5"
   ]
  },
  {
   "cell_type": "markdown",
   "id": "de0453c4-83bc-4bb8-9f9f-724bbf528f15",
   "metadata": {},
   "source": [
    "# RandomForest"
   ]
  },
  {
   "cell_type": "code",
   "execution_count": 161,
   "id": "8769bcfd-d2df-4142-8d34-2ff1aeb1b43d",
   "metadata": {},
   "outputs": [
    {
     "data": {
      "text/html": [
       "<style>#sk-container-id-9 {color: black;background-color: white;}#sk-container-id-9 pre{padding: 0;}#sk-container-id-9 div.sk-toggleable {background-color: white;}#sk-container-id-9 label.sk-toggleable__label {cursor: pointer;display: block;width: 100%;margin-bottom: 0;padding: 0.3em;box-sizing: border-box;text-align: center;}#sk-container-id-9 label.sk-toggleable__label-arrow:before {content: \"▸\";float: left;margin-right: 0.25em;color: #696969;}#sk-container-id-9 label.sk-toggleable__label-arrow:hover:before {color: black;}#sk-container-id-9 div.sk-estimator:hover label.sk-toggleable__label-arrow:before {color: black;}#sk-container-id-9 div.sk-toggleable__content {max-height: 0;max-width: 0;overflow: hidden;text-align: left;background-color: #f0f8ff;}#sk-container-id-9 div.sk-toggleable__content pre {margin: 0.2em;color: black;border-radius: 0.25em;background-color: #f0f8ff;}#sk-container-id-9 input.sk-toggleable__control:checked~div.sk-toggleable__content {max-height: 200px;max-width: 100%;overflow: auto;}#sk-container-id-9 input.sk-toggleable__control:checked~label.sk-toggleable__label-arrow:before {content: \"▾\";}#sk-container-id-9 div.sk-estimator input.sk-toggleable__control:checked~label.sk-toggleable__label {background-color: #d4ebff;}#sk-container-id-9 div.sk-label input.sk-toggleable__control:checked~label.sk-toggleable__label {background-color: #d4ebff;}#sk-container-id-9 input.sk-hidden--visually {border: 0;clip: rect(1px 1px 1px 1px);clip: rect(1px, 1px, 1px, 1px);height: 1px;margin: -1px;overflow: hidden;padding: 0;position: absolute;width: 1px;}#sk-container-id-9 div.sk-estimator {font-family: monospace;background-color: #f0f8ff;border: 1px dotted black;border-radius: 0.25em;box-sizing: border-box;margin-bottom: 0.5em;}#sk-container-id-9 div.sk-estimator:hover {background-color: #d4ebff;}#sk-container-id-9 div.sk-parallel-item::after {content: \"\";width: 100%;border-bottom: 1px solid gray;flex-grow: 1;}#sk-container-id-9 div.sk-label:hover label.sk-toggleable__label {background-color: #d4ebff;}#sk-container-id-9 div.sk-serial::before {content: \"\";position: absolute;border-left: 1px solid gray;box-sizing: border-box;top: 0;bottom: 0;left: 50%;z-index: 0;}#sk-container-id-9 div.sk-serial {display: flex;flex-direction: column;align-items: center;background-color: white;padding-right: 0.2em;padding-left: 0.2em;position: relative;}#sk-container-id-9 div.sk-item {position: relative;z-index: 1;}#sk-container-id-9 div.sk-parallel {display: flex;align-items: stretch;justify-content: center;background-color: white;position: relative;}#sk-container-id-9 div.sk-item::before, #sk-container-id-9 div.sk-parallel-item::before {content: \"\";position: absolute;border-left: 1px solid gray;box-sizing: border-box;top: 0;bottom: 0;left: 50%;z-index: -1;}#sk-container-id-9 div.sk-parallel-item {display: flex;flex-direction: column;z-index: 1;position: relative;background-color: white;}#sk-container-id-9 div.sk-parallel-item:first-child::after {align-self: flex-end;width: 50%;}#sk-container-id-9 div.sk-parallel-item:last-child::after {align-self: flex-start;width: 50%;}#sk-container-id-9 div.sk-parallel-item:only-child::after {width: 0;}#sk-container-id-9 div.sk-dashed-wrapped {border: 1px dashed gray;margin: 0 0.4em 0.5em 0.4em;box-sizing: border-box;padding-bottom: 0.4em;background-color: white;}#sk-container-id-9 div.sk-label label {font-family: monospace;font-weight: bold;display: inline-block;line-height: 1.2em;}#sk-container-id-9 div.sk-label-container {text-align: center;}#sk-container-id-9 div.sk-container {/* jupyter's `normalize.less` sets `[hidden] { display: none; }` but bootstrap.min.css set `[hidden] { display: none !important; }` so we also need the `!important` here to be able to override the default hidden behavior on the sphinx rendered scikit-learn.org. See: https://github.com/scikit-learn/scikit-learn/issues/21755 */display: inline-block !important;position: relative;}#sk-container-id-9 div.sk-text-repr-fallback {display: none;}</style><div id=\"sk-container-id-9\" class=\"sk-top-container\"><div class=\"sk-text-repr-fallback\"><pre>RandomForestRegressor(max_depth=6, max_samples=0.7, n_estimators=1)</pre><b>In a Jupyter environment, please rerun this cell to show the HTML representation or trust the notebook. <br />On GitHub, the HTML representation is unable to render, please try loading this page with nbviewer.org.</b></div><div class=\"sk-container\" hidden><div class=\"sk-item\"><div class=\"sk-estimator sk-toggleable\"><input class=\"sk-toggleable__control sk-hidden--visually\" id=\"sk-estimator-id-9\" type=\"checkbox\" checked><label for=\"sk-estimator-id-9\" class=\"sk-toggleable__label sk-toggleable__label-arrow\">RandomForestRegressor</label><div class=\"sk-toggleable__content\"><pre>RandomForestRegressor(max_depth=6, max_samples=0.7, n_estimators=1)</pre></div></div></div></div></div>"
      ],
      "text/plain": [
       "RandomForestRegressor(max_depth=6, max_samples=0.7, n_estimators=1)"
      ]
     },
     "execution_count": 161,
     "metadata": {},
     "output_type": "execute_result"
    }
   ],
   "source": [
    "from sklearn.ensemble import RandomForestRegressor\n",
    "from sklearn.metrics import accuracy_score\n",
    "\n",
    "rf = RandomForestRegressor(n_estimators=1, max_depth=6, max_samples=0.7)\n",
    "\n",
    "rf.fit(dataset['train_x'], dataset['train_y'])"
   ]
  },
  {
   "cell_type": "markdown",
   "id": "a4fc4ea6-74ca-481c-8a00-398c93a6fd81",
   "metadata": {},
   "source": [
    "# Inference"
   ]
  },
  {
   "cell_type": "code",
   "execution_count": 162,
   "id": "1c9d51a8-3100-4cdd-ae17-6a762394db81",
   "metadata": {},
   "outputs": [],
   "source": [
    "dataset['test_y'] = rf.predict(dataset['test_x'])"
   ]
  },
  {
   "cell_type": "code",
   "execution_count": 163,
   "id": "7d805152-62fa-452b-9904-76b16d9a10fa",
   "metadata": {},
   "outputs": [],
   "source": [
    "test_y_list = sorted(glob('./data/test_target/*.csv'))\n",
    "\n",
    "i = 0\n",
    "for path in test_y_list:\n",
    "    df = pd.read_csv(path)\n",
    "    \n",
    "    df['predicted_weight_g'] = dataset['test_y'][i * 28:(i+1) * 28]\n",
    "    i += 1\n",
    "    df.to_csv(path, index=False)"
   ]
  },
  {
   "cell_type": "markdown",
   "id": "f48f72d1-9fc7-48dd-b264-b6262afaeb7f",
   "metadata": {},
   "source": [
    "# submission"
   ]
  },
  {
   "cell_type": "code",
   "execution_count": 164,
   "id": "d2529e8a-2242-4744-b166-d8ff116ca750",
   "metadata": {},
   "outputs": [],
   "source": [
    "import zipfile\n",
    "\n",
    "os.chdir(\"./data/test_target/\")\n",
    "submission = zipfile.ZipFile(\"../submission_rf.zip\", 'w')\n",
    "\n",
    "for path in test_y_list:\n",
    "    path = path.split('/')[-1]\n",
    "    submission.write(path)\n",
    "    \n",
    "submission.close()\n",
    "os.chdir(\"../../\")"
   ]
  },
  {
   "cell_type": "markdown",
   "id": "cdbb6325-a44d-4d48-bfdb-26ab7686014d",
   "metadata": {},
   "source": [
    "# Deep Learning"
   ]
  },
  {
   "cell_type": "code",
   "execution_count": 165,
   "id": "9b0c6f0d-d441-4438-98e1-024ee301bbd2",
   "metadata": {},
   "outputs": [],
   "source": [
    "import torch\n",
    "from torch import nn, optim\n",
    "from torch.utils.data import DataLoader, Dataset\n",
    "import torch.nn.functional as F\n",
    "\n",
    "from sklearn.metrics import mean_squared_error"
   ]
  },
  {
   "cell_type": "code",
   "execution_count": 166,
   "id": "d24bed4d-16db-4398-b492-8b12fa805884",
   "metadata": {},
   "outputs": [],
   "source": [
    "device = torch.device('cuda') if torch.cuda.is_available() else torch.device('cpu')"
   ]
  },
  {
   "cell_type": "code",
   "execution_count": 167,
   "id": "2b140c8b-908f-4dae-8b28-6370093245dc",
   "metadata": {},
   "outputs": [],
   "source": [
    "class CustomDataset(Dataset):\n",
    "    def __init__(self, X, y):\n",
    "        self.X = torch.FloatTensor(X)\n",
    "        self.y = torch.FloatTensor(y)\n",
    "        self.len = len(self.y)\n",
    "        \n",
    "    def __getitem__(self, idx):\n",
    "        return self.X[idx], self.y[idx]\n",
    "    \n",
    "    def __len__(self):\n",
    "        return self.len"
   ]
  },
  {
   "cell_type": "code",
   "execution_count": 168,
   "id": "93182d42-0398-4c78-8610-72535b93cb93",
   "metadata": {},
   "outputs": [],
   "source": [
    "class Regressor(nn.Module):\n",
    "    def __init__(self):\n",
    "        super().__init__()\n",
    "        self.fc1 = nn.Linear(360, 120)\n",
    "        self.fc2 = nn.Linear(120, 1)\n",
    "        \n",
    "        self.dropout = nn.Dropout(0.5)\n",
    "    \n",
    "    def forward(self, x):\n",
    "        x = self.fc1(x)\n",
    "        x = self.fc2(x)\n",
    "        \n",
    "        return x"
   ]
  },
  {
   "cell_type": "code",
   "execution_count": 169,
   "id": "1efb51bb-7b2e-48a8-948c-5e8bd24ccc3a",
   "metadata": {},
   "outputs": [],
   "source": [
    "trainsets = CustomDataset(dataset['train_x'], dataset['train_y'])\n",
    "trainloader = DataLoader(trainsets, batch_size=28, shuffle=False)\n",
    "\n",
    "model = Regressor()\n",
    "criterion = nn.MSELoss()\n",
    "optimizer = optim.Adam(model.parameters(), lr=0.001, weight_decay=0.0001)"
   ]
  },
  {
   "cell_type": "code",
   "execution_count": 170,
   "id": "5f0846f3-2777-4e9f-a7dd-e0f8154ae054",
   "metadata": {
    "tags": []
   },
   "outputs": [
    {
     "ename": "RuntimeError",
     "evalue": "Expected all tensors to be on the same device, but found at least two devices, cuda:0 and cpu! (when checking argument for argument mat1 in method wrapper_addmm)",
     "output_type": "error",
     "traceback": [
      "\u001b[0;31m---------------------------------------------------------------------------\u001b[0m",
      "\u001b[0;31mRuntimeError\u001b[0m                              Traceback (most recent call last)",
      "\u001b[0;32m/tmp/ipykernel_141748/1791611019.py\u001b[0m in \u001b[0;36m<module>\u001b[0;34m\u001b[0m\n\u001b[1;32m      9\u001b[0m         \u001b[0moptimizer\u001b[0m\u001b[0;34m.\u001b[0m\u001b[0mzero_grad\u001b[0m\u001b[0;34m(\u001b[0m\u001b[0;34m)\u001b[0m\u001b[0;34m\u001b[0m\u001b[0;34m\u001b[0m\u001b[0m\n\u001b[1;32m     10\u001b[0m \u001b[0;34m\u001b[0m\u001b[0m\n\u001b[0;32m---> 11\u001b[0;31m         \u001b[0moutputs\u001b[0m \u001b[0;34m=\u001b[0m \u001b[0mmodel\u001b[0m\u001b[0;34m(\u001b[0m\u001b[0mX\u001b[0m\u001b[0;34m)\u001b[0m\u001b[0;34m\u001b[0m\u001b[0;34m\u001b[0m\u001b[0m\n\u001b[0m\u001b[1;32m     12\u001b[0m         \u001b[0mloss\u001b[0m \u001b[0;34m=\u001b[0m \u001b[0mcriterion\u001b[0m\u001b[0;34m(\u001b[0m\u001b[0moutputs\u001b[0m\u001b[0;34m,\u001b[0m \u001b[0my\u001b[0m\u001b[0;34m)\u001b[0m\u001b[0;34m\u001b[0m\u001b[0;34m\u001b[0m\u001b[0m\n\u001b[1;32m     13\u001b[0m         \u001b[0mloss\u001b[0m\u001b[0;34m.\u001b[0m\u001b[0mbackward\u001b[0m\u001b[0;34m(\u001b[0m\u001b[0;34m)\u001b[0m\u001b[0;34m\u001b[0m\u001b[0;34m\u001b[0m\u001b[0m\n",
      "\u001b[0;32m~/.local/lib/python3.10/site-packages/torch/nn/modules/module.py\u001b[0m in \u001b[0;36m_call_impl\u001b[0;34m(self, *input, **kwargs)\u001b[0m\n\u001b[1;32m   1128\u001b[0m         if not (self._backward_hooks or self._forward_hooks or self._forward_pre_hooks or _global_backward_hooks\n\u001b[1;32m   1129\u001b[0m                 or _global_forward_hooks or _global_forward_pre_hooks):\n\u001b[0;32m-> 1130\u001b[0;31m             \u001b[0;32mreturn\u001b[0m \u001b[0mforward_call\u001b[0m\u001b[0;34m(\u001b[0m\u001b[0;34m*\u001b[0m\u001b[0minput\u001b[0m\u001b[0;34m,\u001b[0m \u001b[0;34m**\u001b[0m\u001b[0mkwargs\u001b[0m\u001b[0;34m)\u001b[0m\u001b[0;34m\u001b[0m\u001b[0;34m\u001b[0m\u001b[0m\n\u001b[0m\u001b[1;32m   1131\u001b[0m         \u001b[0;31m# Do not call functions when jit is used\u001b[0m\u001b[0;34m\u001b[0m\u001b[0;34m\u001b[0m\u001b[0m\n\u001b[1;32m   1132\u001b[0m         \u001b[0mfull_backward_hooks\u001b[0m\u001b[0;34m,\u001b[0m \u001b[0mnon_full_backward_hooks\u001b[0m \u001b[0;34m=\u001b[0m \u001b[0;34m[\u001b[0m\u001b[0;34m]\u001b[0m\u001b[0;34m,\u001b[0m \u001b[0;34m[\u001b[0m\u001b[0;34m]\u001b[0m\u001b[0;34m\u001b[0m\u001b[0;34m\u001b[0m\u001b[0m\n",
      "\u001b[0;32m/tmp/ipykernel_141748/395278078.py\u001b[0m in \u001b[0;36mforward\u001b[0;34m(self, x)\u001b[0m\n\u001b[1;32m      8\u001b[0m \u001b[0;34m\u001b[0m\u001b[0m\n\u001b[1;32m      9\u001b[0m     \u001b[0;32mdef\u001b[0m \u001b[0mforward\u001b[0m\u001b[0;34m(\u001b[0m\u001b[0mself\u001b[0m\u001b[0;34m,\u001b[0m \u001b[0mx\u001b[0m\u001b[0;34m)\u001b[0m\u001b[0;34m:\u001b[0m\u001b[0;34m\u001b[0m\u001b[0;34m\u001b[0m\u001b[0m\n\u001b[0;32m---> 10\u001b[0;31m         \u001b[0mx\u001b[0m \u001b[0;34m=\u001b[0m \u001b[0mself\u001b[0m\u001b[0;34m.\u001b[0m\u001b[0mfc1\u001b[0m\u001b[0;34m(\u001b[0m\u001b[0mx\u001b[0m\u001b[0;34m)\u001b[0m\u001b[0;34m\u001b[0m\u001b[0;34m\u001b[0m\u001b[0m\n\u001b[0m\u001b[1;32m     11\u001b[0m         \u001b[0mx\u001b[0m \u001b[0;34m=\u001b[0m \u001b[0mself\u001b[0m\u001b[0;34m.\u001b[0m\u001b[0mfc2\u001b[0m\u001b[0;34m(\u001b[0m\u001b[0mx\u001b[0m\u001b[0;34m)\u001b[0m\u001b[0;34m\u001b[0m\u001b[0;34m\u001b[0m\u001b[0m\n\u001b[1;32m     12\u001b[0m \u001b[0;34m\u001b[0m\u001b[0m\n",
      "\u001b[0;32m~/.local/lib/python3.10/site-packages/torch/nn/modules/module.py\u001b[0m in \u001b[0;36m_call_impl\u001b[0;34m(self, *input, **kwargs)\u001b[0m\n\u001b[1;32m   1128\u001b[0m         if not (self._backward_hooks or self._forward_hooks or self._forward_pre_hooks or _global_backward_hooks\n\u001b[1;32m   1129\u001b[0m                 or _global_forward_hooks or _global_forward_pre_hooks):\n\u001b[0;32m-> 1130\u001b[0;31m             \u001b[0;32mreturn\u001b[0m \u001b[0mforward_call\u001b[0m\u001b[0;34m(\u001b[0m\u001b[0;34m*\u001b[0m\u001b[0minput\u001b[0m\u001b[0;34m,\u001b[0m \u001b[0;34m**\u001b[0m\u001b[0mkwargs\u001b[0m\u001b[0;34m)\u001b[0m\u001b[0;34m\u001b[0m\u001b[0;34m\u001b[0m\u001b[0m\n\u001b[0m\u001b[1;32m   1131\u001b[0m         \u001b[0;31m# Do not call functions when jit is used\u001b[0m\u001b[0;34m\u001b[0m\u001b[0;34m\u001b[0m\u001b[0m\n\u001b[1;32m   1132\u001b[0m         \u001b[0mfull_backward_hooks\u001b[0m\u001b[0;34m,\u001b[0m \u001b[0mnon_full_backward_hooks\u001b[0m \u001b[0;34m=\u001b[0m \u001b[0;34m[\u001b[0m\u001b[0;34m]\u001b[0m\u001b[0;34m,\u001b[0m \u001b[0;34m[\u001b[0m\u001b[0;34m]\u001b[0m\u001b[0;34m\u001b[0m\u001b[0;34m\u001b[0m\u001b[0m\n",
      "\u001b[0;32m~/.local/lib/python3.10/site-packages/torch/nn/modules/linear.py\u001b[0m in \u001b[0;36mforward\u001b[0;34m(self, input)\u001b[0m\n\u001b[1;32m    112\u001b[0m \u001b[0;34m\u001b[0m\u001b[0m\n\u001b[1;32m    113\u001b[0m     \u001b[0;32mdef\u001b[0m \u001b[0mforward\u001b[0m\u001b[0;34m(\u001b[0m\u001b[0mself\u001b[0m\u001b[0;34m,\u001b[0m \u001b[0minput\u001b[0m\u001b[0;34m:\u001b[0m \u001b[0mTensor\u001b[0m\u001b[0;34m)\u001b[0m \u001b[0;34m->\u001b[0m \u001b[0mTensor\u001b[0m\u001b[0;34m:\u001b[0m\u001b[0;34m\u001b[0m\u001b[0;34m\u001b[0m\u001b[0m\n\u001b[0;32m--> 114\u001b[0;31m         \u001b[0;32mreturn\u001b[0m \u001b[0mF\u001b[0m\u001b[0;34m.\u001b[0m\u001b[0mlinear\u001b[0m\u001b[0;34m(\u001b[0m\u001b[0minput\u001b[0m\u001b[0;34m,\u001b[0m \u001b[0mself\u001b[0m\u001b[0;34m.\u001b[0m\u001b[0mweight\u001b[0m\u001b[0;34m,\u001b[0m \u001b[0mself\u001b[0m\u001b[0;34m.\u001b[0m\u001b[0mbias\u001b[0m\u001b[0;34m)\u001b[0m\u001b[0;34m\u001b[0m\u001b[0;34m\u001b[0m\u001b[0m\n\u001b[0m\u001b[1;32m    115\u001b[0m \u001b[0;34m\u001b[0m\u001b[0m\n\u001b[1;32m    116\u001b[0m     \u001b[0;32mdef\u001b[0m \u001b[0mextra_repr\u001b[0m\u001b[0;34m(\u001b[0m\u001b[0mself\u001b[0m\u001b[0;34m)\u001b[0m \u001b[0;34m->\u001b[0m \u001b[0mstr\u001b[0m\u001b[0;34m:\u001b[0m\u001b[0;34m\u001b[0m\u001b[0;34m\u001b[0m\u001b[0m\n",
      "\u001b[0;31mRuntimeError\u001b[0m: Expected all tensors to be on the same device, but found at least two devices, cuda:0 and cpu! (when checking argument for argument mat1 in method wrapper_addmm)"
     ]
    }
   ],
   "source": [
    "model.to(device)\n",
    "loss = []\n",
    "n = len(trainloader)\n",
    "\n",
    "for epoch in range(1):\n",
    "    for i, data in enumerate(trainloader, 0):\n",
    "        X, y = data\n",
    "        \n",
    "        optimizer.zero_grad()\n",
    "        \n",
    "        outputs = model(X)\n",
    "        loss = criterion(outputs, y)\n",
    "        loss.backward()\n",
    "        optimizer.step()"
   ]
  },
  {
   "cell_type": "code",
   "execution_count": null,
   "id": "0121447a-9a60-4ec5-8a36-fe646b8ea6d3",
   "metadata": {
    "tags": []
   },
   "outputs": [],
   "source": [
    "test_y_list = glob('./data/test_target/*.csv')\n",
    "\n",
    "for i in range(5):\n",
    "    testsets = CustomDataset(dataset['test_x'][i*28:(i+1)*28], dataset['test_y'][i*28:(i+1)*28])\n",
    "    testloader = DataLoader(testsets, batch_size=28, shuffle=False)\n",
    "    arr = []\n",
    "\n",
    "    with torch.no_grad():\n",
    "        model.eval()\n",
    "\n",
    "        for data in testloader:\n",
    "            X, y = data\n",
    "\n",
    "            outputs = model(X)\n",
    "            arr.append(outputs)\n",
    "    \n",
    "    submit_df = pd.read_csv(test_y_list[i])\n",
    "    submit_df['predicted_weight_g'] = arr[0]\n",
    "    submit_df.to_csv(test_y_list[i], index=False)"
   ]
  },
  {
   "cell_type": "markdown",
   "id": "f94d4565-5512-4641-a786-96b3734d20bb",
   "metadata": {},
   "source": [
    "# Submission"
   ]
  },
  {
   "cell_type": "code",
   "execution_count": null,
   "id": "a7bae90f-9148-40d9-b43a-b1078c56fee2",
   "metadata": {},
   "outputs": [],
   "source": [
    "import zipfile\n",
    "import os\n",
    "\n",
    "os.chdir(\"./data/test_target/\")\n",
    "submission = zipfile.ZipFile(\"../submission_DL.zip\", 'w')\n",
    "for path in test_y_list:\n",
    "    path = path.split('/')[-1]\n",
    "    submission.write(path)\n",
    "submission.close()\n",
    "os.chdir('../../')\n",
    "os.getcwd()"
   ]
  }
 ],
 "metadata": {
  "kernelspec": {
   "display_name": "Python 3 (ipykernel)",
   "language": "python",
   "name": "python3"
  },
  "language_info": {
   "codemirror_mode": {
    "name": "ipython",
    "version": 3
   },
   "file_extension": ".py",
   "mimetype": "text/x-python",
   "name": "python",
   "nbconvert_exporter": "python",
   "pygments_lexer": "ipython3",
   "version": "3.10.6"
  }
 },
 "nbformat": 4,
 "nbformat_minor": 5
}
