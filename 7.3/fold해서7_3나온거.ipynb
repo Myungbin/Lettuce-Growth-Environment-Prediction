{
  "nbformat": 4,
  "nbformat_minor": 0,
  "metadata": {
    "colab": {
      "provenance": []
    },
    "kernelspec": {
      "name": "python3",
      "display_name": "Python 3"
    },
    "language_info": {
      "name": "python"
    }
  },
  "cells": [
    {
      "cell_type": "code",
      "execution_count": null,
      "metadata": {
        "id": "cb2uQQoqLgIc"
      },
      "outputs": [],
      "source": [
        "def preprocessing(input_path):\n",
        "  all_input_list = sorted(glob.glob(input_path))\n",
        "  train = pd.DataFrame()\n",
        "  for datapath in all_input_list:\n",
        "    data = pd.read_csv(datapath) # 이게 지금 28일치 * 24시\n",
        "    data['obs_time'] = data.index % 24 # 시간통일\n",
        "    data = abs(data)\n",
        "    col_list = data.columns\n",
        "    for i in range(0,len(col_list)):\n",
        "      col = col_list[i]    \n",
        "      if '누적' in col :\n",
        "        data[col] = data.groupby((data.obs_time == 0).cumsum()).agg(col_list[i-1]).cumsum()\n",
        "    data.to_csv(datapath,index=False)\n",
        "    train = pd.concat([train,data])\n",
        "  return train"
      ]
    },
    {
      "cell_type": "code",
      "source": [
        "def make_dataset(input_path, target_path):\n",
        "    train = pd.DataFrame()\n",
        "    all_input_list = sorted(glob.glob(input_path))\n",
        "    all_target_list = sorted(glob.glob(target_path))\n",
        "    for x, y in zip(all_input_list,all_target_list):\n",
        "        x = pd.read_csv(x)\n",
        "        y = pd.read_csv(y)\n",
        "        x = x.iloc[:,1:]\n",
        "        col_list = x.columns[1:]\n",
        "        for i in range(0,28) :\n",
        "            day = x.iloc[24*i:24*i+24]\n",
        "\n",
        "            day_white = day[day['일간누적백색광량']>=0]['일간누적백색광량'].max()\n",
        "            day_water = day[day['일간누적분무량']>=0]['일간누적분무량'].max()\n",
        "            day_light = day[day['일간누적총광량']>=0]['일간누적총광량'].max()\n",
        "            day_blue = day[day['일간누적청색광량']>=0]['일간누적청색광량'].max()\n",
        "            day_red = day[day['일간누적적색광량']>=0]['일간누적적색광량'].max()\n",
        "\n",
        "            time_list = day['obs_time'].unique()\n",
        "            for col in col_list :\n",
        "              if col in ['일간누적백색광량','일간누적총광량','일간누적청색광량','일간누적적색광량','일간누적분무량']:\n",
        "                continue\n",
        "              else :\n",
        "                  for t in range(0,len(time_list)-1) :\n",
        "                      time = time_list[t]\n",
        "                      ntime = time_list[t+1]\n",
        "                      value1 = day[day['obs_time']==time][col].iloc[0]\n",
        "                      value2 = day[day['obs_time']==ntime][col].iloc[0]\n",
        "                      x[col+str(time)+str(\"+\")+str(ntime)] = (value1 + value2)/2\n",
        "\n",
        "            x['day_water_weight'] = math.log(day_water*(i+1)+1)\n",
        "            x['day_white_weight'] = math.log(day_white*(i+1)+1)\n",
        "            x['day_red_weight'] = math.log(day_red*(i+1)+1)\n",
        "            x['day_blue_weight'] = math.log(day_blue*(i+1)+1)\n",
        "            x['day_light_weight'] = math.log(day_light*(i+1)+1)\n",
        "\n",
        "            x['day_white'] = day_white\n",
        "            x['day_water'] = day_water\n",
        "            x['day_red'] = day_red\n",
        "            x['day_blue'] = day_blue\n",
        "            x['day_light'] = day_light\n",
        "\n",
        "            nx = x.iloc[:1,15:]\n",
        "            ny = y.iloc[i:i+1].reset_index(drop=True)\n",
        "            xy = pd.merge(nx,ny,left_index=True, right_index=True)\n",
        "            train = pd.concat([train,xy]).reset_index(drop=True)\n",
        "\n",
        "    return train"
      ],
      "metadata": {
        "id": "CT6Oa7CYL9rO"
      },
      "execution_count": null,
      "outputs": []
    },
    {
      "cell_type": "code",
      "source": [
        "from sklearn.model_selection import KFold\n",
        "from sklearn.metrics import mean_squared_error\n",
        "train = pd.read_csv('drive/MyDrive/dacon/data/train_weight_log.csv')\n",
        "test = pd.read_csv('drive/MyDrive/dacon/data/test_weight_log.csv')\n",
        "X = train.drop(['predicted_weight_g','day_white', 'day_water', 'day_red', 'day_blue','day_light'],axis=1)\n",
        "y = train['predicted_weight_g']\n",
        "CAT_model= {}\n",
        "for f in range(0,27):\n",
        "     train_idx = [i for i in range(0,784)]\n",
        "     valid_idx = train_idx[f*28:f*28+28]\n",
        "     for idx in valid_idx:\n",
        "       train_idx.remove(idx)\n",
        "     print(f'===================================={f+1}============================================')\n",
        "     print(min(valid_idx),max(valid_idx))\n",
        "     x_train, x_val, y_train, y_val = X.iloc[train_idx], X.iloc[valid_idx], y.iloc[train_idx], y.iloc[valid_idx]\n",
        "\n",
        "     CAT = catboost.CatBoostRegressor(task_type='GPU',verbose=0,random_state=404)\n",
        "     CAT.fit(x_train, y_train)\n",
        "\n",
        "     y_pred = CAT.predict(x_val)\n",
        "     mae = mean_squared_error(y_val, y_pred)**0.5\n",
        "     print(f\"{f + 1} Fold MAE = {mae}\")\n",
        "     CAT_model[f] = CAT\n",
        "     print(f'================================================================================\\n\\n')"
      ],
      "metadata": {
        "id": "qEkrZ207LtFT"
      },
      "execution_count": null,
      "outputs": []
    }
  ]
}