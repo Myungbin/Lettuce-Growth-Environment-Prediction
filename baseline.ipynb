{
 "cells": [
  {
   "cell_type": "markdown",
   "metadata": {},
   "source": [
    "datetime열에 주어지는 매 시점부터 총 14일(14×24 = 336시간) 분량의 적산차 변화를 예측"
   ]
  },
  {
   "cell_type": "code",
   "execution_count": 172,
   "metadata": {},
   "outputs": [],
   "source": [
    "import pandas as pd\n",
    "import seaborn as sns\n",
    "import matplotlib.pyplot as plt\n",
    "import numpy as np\n",
    "import tensorflow as tf\n",
    "from keras.models import Sequential\n",
    "from keras.layers import Dense, LSTM, GRU, AveragePooling1D, GlobalAveragePooling1D"
   ]
  },
  {
   "cell_type": "code",
   "execution_count": 173,
   "metadata": {},
   "outputs": [],
   "source": [
    "train = pd.read_csv(\"./data_city/data_tr_city.csv\")\n",
    "test = pd.read_csv(\"./data_city/data_ts_city.csv\")\n",
    "submit = pd.read_csv(\"./data_city/sample_city.csv\")"
   ]
  },
  {
   "cell_type": "code",
   "execution_count": 98,
   "metadata": {},
   "outputs": [],
   "source": [
    "# train['datetime'] = pd.to_datetime(train['datetime'])\n",
    "\n",
    "# train['Year'] = train['datetime'].dt.year\n",
    "# train['Month'] = train['datetime'].dt.month\n",
    "# train['Day'] = train['datetime'].dt.day\n",
    "# train['Dayofweek'] = train['datetime'].dt.dayofweek\n",
    "\n",
    "# train['구미 혁신도시배수지 유출유량 적산차'] = train['구미 혁신도시배수지 유출유량 적산차'].fillna(train['구미 혁신도시배수지 유출유량 적산차'].mean())\n",
    "# train.describe()\n",
    "# train.isna().sum()\n",
    "# plt.figure(figsize=(10,5))\n",
    "# plt.plot(train['구미 혁신도시배수지 유출유량 적산차'])\n",
    "# plt.show()"
   ]
  },
  {
   "cell_type": "code",
   "execution_count": 175,
   "metadata": {},
   "outputs": [],
   "source": [
    "train = train.fillna(method='bfill')"
   ]
  },
  {
   "cell_type": "code",
   "execution_count": 177,
   "metadata": {},
   "outputs": [],
   "source": [
    "def dataset(dataset, start_idx, end_idx, history_size, target_size):\n",
    "    data = []\n",
    "    labels = []\n",
    "    \n",
    "    start_idx = start_idx+history_size\n",
    "    if end_idx is None:\n",
    "        end_idx = len(dataset) - target_size\n",
    "    \n",
    "    for i in range(start_idx, end_idx):\n",
    "        indices = range(i-history_size, i)\n",
    "        data.append(np.reshape(dataset[indices], (history_size, 1)))\n",
    "        labels.append(dataset[i+target_size])\n",
    "    return np.array(data), np.array(labels)"
   ]
  },
  {
   "cell_type": "code",
   "execution_count": 180,
   "metadata": {},
   "outputs": [],
   "source": [
    "def normalize(data, train_split):\n",
    "    data_mean = data[:train_split].mean(axis=0)\n",
    "    data_std = data[:train_split].std(axis=0)\n",
    "    return (data - data_mean) / data_std\n",
    "train['구미 혁신도시배수지 유출유량 적산차'] = normalize(train['구미 혁신도시배수지 유출유량 적산차'], train_split)"
   ]
  },
  {
   "cell_type": "code",
   "execution_count": 181,
   "metadata": {},
   "outputs": [
    {
     "data": {
      "text/plain": [
       "array([<AxesSubplot:>], dtype=object)"
      ]
     },
     "execution_count": 181,
     "metadata": {},
     "output_type": "execute_result"
    },
    {
     "data": {
      "image/png": "[encoded data removed]",
      "text/plain": [
       "<Figure size 432x288 with 1 Axes>"
      ]
     },
     "metadata": {
      "needs_background": "light"
     },
     "output_type": "display_data"
    }
   ],
   "source": [
    "data = train['구미 혁신도시배수지 유출유량 적산차']\n",
    "data.plot(subplots=True)"
   ]
  },
  {
   "cell_type": "code",
   "execution_count": 182,
   "metadata": {},
   "outputs": [],
   "source": [
    "data = data.values"
   ]
  },
  {
   "cell_type": "code",
   "execution_count": 184,
   "metadata": {},
   "outputs": [],
   "source": [
    "split_fraction = 0.715\n",
    "train_split = int(split_fraction * int(train.shape[0]))\n",
    "\n",
    "x_train, y_train = dataset(data, 0, train_split, 3360, 336)\n",
    "x_val, y_val = dataset(data, train_split, 0, 3360, 336)"
   ]
  },
  {
   "cell_type": "code",
   "execution_count": 201,
   "metadata": {},
   "outputs": [
    {
     "name": "stdout",
     "output_type": "stream",
     "text": [
      "x_train.shape: (21710, 3360, 1)\n",
      "y_train.shape: (21710,)\n"
     ]
    }
   ],
   "source": [
    "print(f'x_train.shape: {x_train.shape}')\n",
    "print(f'y_train.shape: {y_train.shape}')"
   ]
  },
  {
   "cell_type": "code",
   "execution_count": 189,
   "metadata": {},
   "outputs": [
    {
     "name": "stdout",
     "output_type": "stream",
     "text": [
      "Single window of past history\n",
      "[[0.00129257]\n",
      " [0.00322054]\n",
      " [0.00109783]\n",
      " ...\n",
      " [0.00246104]\n",
      " [0.00485639]\n",
      " [0.00251946]]\n",
      "\n",
      " Target temperature to predict\n",
      "0.002577883216478743\n"
     ]
    }
   ],
   "source": [
    "print('Single window of past history')\n",
    "print(x_train[0])\n",
    "print('\\n Target temperature to predict')\n",
    "print(y_train[0])"
   ]
  },
  {
   "cell_type": "code",
   "execution_count": 190,
   "metadata": {},
   "outputs": [],
   "source": [
    "def create_time_steps(length):\n",
    "    return list(range(-length, 0))\n",
    "\n",
    "\n",
    "def show_plot(plot_data, delta, title):\n",
    "    labels = ['History', 'True Future', 'Model Prediction']\n",
    "    marker = ['.-', 'rx', 'go']\n",
    "    time_steps = create_time_steps(plot_data[0].shape[0])\n",
    "    if delta:\n",
    "        future = delta\n",
    "    else:\n",
    "        future = 0\n",
    "\n",
    "    plt.title(title)\n",
    "    for i, x in enumerate(plot_data):\n",
    "        if i:\n",
    "            plt.plot(future, plot_data[i], marker[i], markersize=10, label=labels[i])\n",
    "        else:\n",
    "            plt.plot(time_steps, plot_data[i].flatten(), marker[i], label=labels[i])\n",
    "    plt.legend()\n",
    "    plt.axis('auto')\n",
    "    plt.xlim([time_steps[0], (future+5)*2])\n",
    "    plt.xlabel('Time-Step')\n",
    "    return plt"
   ]
  },
  {
   "cell_type": "code",
   "execution_count": 191,
   "metadata": {},
   "outputs": [
    {
     "data": {
      "image/png": "[encoded data removed]",
      "text/plain": [
       "<Figure size 432x288 with 1 Axes>"
      ]
     },
     "metadata": {
      "needs_background": "light"
     },
     "output_type": "display_data"
    }
   ],
   "source": [
    "show_plot([x_train[0], y_train[0]], 0, 'Sample Example').show()\n"
   ]
  },
  {
   "cell_type": "code",
   "execution_count": 206,
   "metadata": {},
   "outputs": [
    {
     "name": "stdout",
     "output_type": "stream",
     "text": [
      "Model: \"model_26\"\n",
      "_________________________________________________________________\n",
      " Layer (type)                Output Shape              Param #   \n",
      "=================================================================\n",
      " input_29 (InputLayer)       [(None, 3360, 1)]         0         \n",
      "                                                                 \n",
      " lstm_28 (LSTM)              (None, 128)               66560     \n",
      "                                                                 \n",
      " dense_26 (Dense)            (None, 336)               43344     \n",
      "                                                                 \n",
      "=================================================================\n",
      "Total params: 109,904\n",
      "Trainable params: 109,904\n",
      "Non-trainable params: 0\n",
      "_________________________________________________________________\n"
     ]
    }
   ],
   "source": [
    "inputs = keras.layers.Input(shape=(x_train.shape[1], x_train.shape[2]))\n",
    "lstm_out = keras.layers.LSTM(128)(inputs)\n",
    "outputs = keras.layers.Dense(336)(lstm_out)\n",
    "\n",
    "model = keras.Model(inputs=inputs, outputs=outputs)\n",
    "model.compile(optimizer='adam', loss=\"mae\", metrics = ['mae'])\n",
    "model.summary()"
   ]
  },
  {
   "cell_type": "code",
   "execution_count": 207,
   "metadata": {},
   "outputs": [
    {
     "name": "stdout",
     "output_type": "stream",
     "text": [
      "679/679 [==============================] - 93s 135ms/step - loss: 0.0122 - mae: 0.0122\n"
     ]
    },
    {
     "data": {
      "text/plain": [
       "<keras.callbacks.History at 0x2b1daee1040>"
      ]
     },
     "execution_count": 207,
     "metadata": {},
     "output_type": "execute_result"
    }
   ],
   "source": [
    "model.fit(\n",
    "x_train, y_train,\n",
    "epochs=1,\n",
    "validation_data=(x_val, y_val)\n",
    ")"
   ]
  },
  {
   "cell_type": "code",
   "execution_count": null,
   "metadata": {},
   "outputs": [],
   "source": [
    "# split_fraction = 0.715\n",
    "# train_split = int(split_fraction * int(train.shape[0]))\n",
    "# step = 6\n",
    "\n",
    "# past = 3360\n",
    "# future = 336\n",
    "# learning_rate = 0.001\n",
    "# batch_size = 256\n",
    "# epochs = 10\n",
    "\n",
    "\n",
    "# def normalize(data, train_split):\n",
    "#     data_mean = data[:train_split].mean(axis=0)\n",
    "#     data_std = data[:train_split].std(axis=0)\n",
    "#     return (data - data_mean) / data_std\n",
    "# train['구미 혁신도시배수지 유출유량 적산차'] = normalize(train['구미 혁신도시배수지 유출유량 적산차'], train_split)\n",
    "# start = past + future\n",
    "# end = start + train_split\n",
    "# sequence_length = int(past / step)\n",
    "# train_data = train.loc[0 : train_split-1]\n",
    "# val_data = train.loc[train_split:]\n",
    "# x_train = train['구미 혁신도시배수지 유출유량 적산차'].values\n",
    "# y_train = train['구미 혁신도시배수지 유출유량 적산차'].iloc[start:end].values\n",
    "\n",
    "# x_train = x_train.reshape(-1, 1)\n",
    "# y_train = y_train.reshape(-1, 1)\n",
    "# from tensorflow import keras\n",
    "# dataset_train = keras.preprocessing.timeseries_dataset_from_array(\n",
    "#     x_train,\n",
    "#     y_train,\n",
    "#     sequence_length=sequence_length,\n",
    "#     sampling_rate=step,\n",
    "#     batch_size=batch_size,\n",
    "# )\n",
    "# dataset_train\n",
    "# x_end = len(val_data) - past - future\n",
    "\n",
    "# label_start = train_split + past + future\n",
    "\n",
    "# x_val = val_data['구미 혁신도시배수지 유출유량 적산차'].values\n",
    "# y_val = val_data['구미 혁신도시배수지 유출유량 적산차'].iloc[label_start:].values\n",
    "# x_val = x_val.reshape(-1, 1)\n",
    "# y_val = y_val.reshape(-1, 1)\n",
    "\n",
    "# dataset_val = keras.preprocessing.timeseries_dataset_from_array(\n",
    "#     x_val,\n",
    "#     y_val,\n",
    "#     sequence_length=sequence_length,\n",
    "#     sampling_rate=step,\n",
    "#     batch_size=batch_size,\n",
    "# )\n",
    "# for batch in dataset_train.take(1):\n",
    "#     inputs, targets = batch\n",
    "\n",
    "# print(\"Input shape:\", inputs.numpy().shape)\n",
    "# print(\"Target shape:\", targets.numpy().shape)"
   ]
  }
 ],
 "metadata": {
  "kernelspec": {
   "display_name": "Python 3.8.10 64-bit",
   "language": "python",
   "name": "python3"
  },
  "language_info": {
   "codemirror_mode": {
    "name": "ipython",
    "version": 3
   },
   "file_extension": ".py",
   "mimetype": "text/x-python",
   "name": "python",
   "nbconvert_exporter": "python",
   "pygments_lexer": "ipython3",
   "version": "3.8.10"
  },
  "orig_nbformat": 4,
  "vscode": {
   "interpreter": {
    "hash": "b081a66ee97bd2b6a16f43955f1d810b7ea816d6eaeb65e157ef9e038445f0c6"
   }
  }
 },
 "nbformat": 4,
 "nbformat_minor": 2
}
