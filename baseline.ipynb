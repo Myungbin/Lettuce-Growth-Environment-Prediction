{
 "cells": [
  {
   "cell_type": "markdown",
   "metadata": {},
   "source": [
    "datetime열에 주어지는 매 시점부터 총 14일(14×24 = 336시간) 분량의 적산차 변화를 예측"
   ]
  },
  {
   "cell_type": "code",
   "execution_count": 17,
   "metadata": {},
   "outputs": [],
   "source": [
    "import pandas as pd\n",
    "import seaborn as sns\n",
    "import matplotlib.pyplot as plt\n",
    "import numpy as np\n",
    "import tensorflow as tf\n",
    "from keras.models import Sequential\n",
    "from keras.layers import Dense, LSTM, GRU, AveragePooling1D, GlobalAveragePooling1D"
   ]
  },
  {
   "cell_type": "code",
   "execution_count": 2,
   "metadata": {},
   "outputs": [],
   "source": [
    "train = pd.read_csv(\"./data_city/data_tr_city.csv\")\n",
    "test = pd.read_csv(\"./data_city/data_ts_city.csv\")\n",
    "submit = pd.read_csv(\"./data_city/sample_city.csv\")"
   ]
  },
  {
   "cell_type": "code",
   "execution_count": 3,
   "metadata": {},
   "outputs": [],
   "source": [
    "train = train.fillna(method='bfill')"
   ]
  },
  {
   "cell_type": "code",
   "execution_count": 4,
   "metadata": {},
   "outputs": [],
   "source": [
    "def dataset(dataset, start_idx, end_idx, history_size, target_size):\n",
    "    data = []\n",
    "    labels = []\n",
    "    \n",
    "    start_idx = start_idx+history_size\n",
    "    print(f'start_idx: {start_idx}')\n",
    "    if end_idx is None:\n",
    "        end_idx = len(dataset) - target_size\n",
    "    \n",
    "    for i in range(start_idx, end_idx):\n",
    "        indices = range(i-history_size, i)\n",
    "        print(f'indices: {indices}')\n",
    "        data.append(np.reshape(dataset[indices], (history_size, 1)))\n",
    "        labels.append(dataset[i+target_size])\n",
    "    return np.array(data), np.array(labels)"
   ]
  },
  {
   "cell_type": "code",
   "execution_count": 7,
   "metadata": {},
   "outputs": [
    {
     "data": {
      "text/plain": [
       "array([<AxesSubplot:>], dtype=object)"
      ]
     },
     "execution_count": 7,
     "metadata": {},
     "output_type": "execute_result"
    },
    {
     "data": {
      "image/png": "[encoded data removed]",
      "text/plain": [
       "<Figure size 432x288 with 1 Axes>"
      ]
     },
     "metadata": {
      "needs_background": "light"
     },
     "output_type": "display_data"
    }
   ],
   "source": [
    "data = train['구미 혁신도시배수지 유출유량 적산차']\n",
    "data.plot(subplots=True)"
   ]
  },
  {
   "cell_type": "code",
   "execution_count": 23,
   "metadata": {},
   "outputs": [
    {
     "ename": "TypeError",
     "evalue": "normalize() missing 1 required positional argument: 'train_split'",
     "output_type": "error",
     "traceback": [
      "\u001b[1;31m---------------------------------------------------------------------------\u001b[0m",
      "\u001b[1;31mTypeError\u001b[0m                                 Traceback (most recent call last)",
      "\u001b[1;32mc:\\mb_job\\project\\Competition\\Water-demand-Prediction\\baseline.ipynb 셀 7\u001b[0m in \u001b[0;36m<cell line: 5>\u001b[1;34m()\u001b[0m\n\u001b[0;32m      <a href='vscode-notebook-cell:/c%3A/mb_job/project/Competition/Water-demand-Prediction/baseline.ipynb#X33sZmlsZQ%3D%3D?line=2'>3</a>\u001b[0m     data_std \u001b[39m=\u001b[39m data[:train_split]\u001b[39m.\u001b[39mstd(axis\u001b[39m=\u001b[39m\u001b[39m0\u001b[39m)\n\u001b[0;32m      <a href='vscode-notebook-cell:/c%3A/mb_job/project/Competition/Water-demand-Prediction/baseline.ipynb#X33sZmlsZQ%3D%3D?line=3'>4</a>\u001b[0m     \u001b[39mreturn\u001b[39;00m (data \u001b[39m-\u001b[39m data_mean) \u001b[39m/\u001b[39m data_std\n\u001b[1;32m----> <a href='vscode-notebook-cell:/c%3A/mb_job/project/Competition/Water-demand-Prediction/baseline.ipynb#X33sZmlsZQ%3D%3D?line=4'>5</a>\u001b[0m train[\u001b[39m'\u001b[39m\u001b[39m구미 혁신도시배수지 유출유량 적산차\u001b[39m\u001b[39m'\u001b[39m] \u001b[39m=\u001b[39m normalize(train[\u001b[39m'\u001b[39;49m\u001b[39m구미 혁신도시배수지 유출유량 적산차\u001b[39;49m\u001b[39m'\u001b[39;49m])\n",
      "\u001b[1;31mTypeError\u001b[0m: normalize() missing 1 required positional argument: 'train_split'"
     ]
    }
   ],
   "source": [
    "def normalize(data, ):\n",
    "    data_mean = data.mean(axis=0)\n",
    "    data_std = data.std(axis=0)\n",
    "    return (data - data_mean) / data_std\n",
    "train['구미 혁신도시배수지 유출유량 적산차'] = normalize(train['구미 혁신도시배수지 유출유량 적산차'])"
   ]
  },
  {
   "cell_type": "code",
   "execution_count": 8,
   "metadata": {},
   "outputs": [],
   "source": [
    "data = data.values"
   ]
  },
  {
   "cell_type": "code",
   "execution_count": 9,
   "metadata": {},
   "outputs": [],
   "source": [
    "split_fraction = 0.715\n",
    "train_split = int(split_fraction * int(train.shape[0]))\n",
    "\n",
    "x_train, y_train = dataset(data, 0, train_split, 3360, 336)\n",
    "x_val, y_val = dataset(data, train_split, None, 3360, 336)"
   ]
  },
  {
   "cell_type": "code",
   "execution_count": 10,
   "metadata": {},
   "outputs": [
    {
     "name": "stdout",
     "output_type": "stream",
     "text": [
      "x_train.shape: (21710, 3360, 1)\n",
      "y_train.shape: (21710,)\n",
      "x_validation.shape: (6297, 3360, 1)\n",
      "y_validation.shape: (6297,)\n"
     ]
    }
   ],
   "source": [
    "print(f'x_train.shape: {x_train.shape}')\n",
    "print(f'y_train.shape: {y_train.shape}')\n",
    "print(f'x_validation.shape: {x_val.shape}')\n",
    "print(f'y_validation.shape: {y_val.shape}')"
   ]
  },
  {
   "cell_type": "code",
   "execution_count": 11,
   "metadata": {},
   "outputs": [
    {
     "name": "stdout",
     "output_type": "stream",
     "text": [
      "Single window of past history\n",
      "[[138.]\n",
      " [237.]\n",
      " [128.]\n",
      " ...\n",
      " [198.]\n",
      " [321.]\n",
      " [201.]]\n",
      "\n",
      " Target temperature to predict\n",
      "204.0\n"
     ]
    }
   ],
   "source": [
    "print('Single window of past history')\n",
    "print(x_train[0])\n",
    "print('\\n Target temperature to predict')\n",
    "print(y_train[0])"
   ]
  },
  {
   "cell_type": "code",
   "execution_count": 12,
   "metadata": {},
   "outputs": [
    {
     "data": {
      "text/plain": [
       "(3360, 1)"
      ]
     },
     "execution_count": 12,
     "metadata": {},
     "output_type": "execute_result"
    }
   ],
   "source": [
    "x_train[0].shape"
   ]
  },
  {
   "cell_type": "code",
   "execution_count": 13,
   "metadata": {},
   "outputs": [],
   "source": [
    "def create_time_steps(length):\n",
    "    return list(range(-length, 0))\n",
    "\n",
    "\n",
    "def show_plot(plot_data, delta, title):\n",
    "    labels = ['History', 'True Future', 'Model Prediction']\n",
    "    marker = ['.-', 'rx', 'go']\n",
    "    time_steps = create_time_steps(plot_data[0].shape[0])\n",
    "    if delta:\n",
    "        future = delta\n",
    "    else:\n",
    "        future = 0\n",
    "\n",
    "    plt.title(title)\n",
    "    for i, x in enumerate(plot_data):\n",
    "        if i:\n",
    "            plt.plot(future, plot_data[i], marker[i], markersize=10, label=labels[i])\n",
    "        else:\n",
    "            plt.plot(time_steps, plot_data[i].flatten(), marker[i], label=labels[i])\n",
    "    plt.legend()\n",
    "    plt.axis('auto')\n",
    "    plt.xlim([time_steps[0], (future+5)*2])\n",
    "    plt.xlabel('Time-Step')\n",
    "    return plt"
   ]
  },
  {
   "cell_type": "code",
   "execution_count": 14,
   "metadata": {},
   "outputs": [
    {
     "data": {
      "image/png": "[encoded data removed]",
      "text/plain": [
       "<Figure size 432x288 with 1 Axes>"
      ]
     },
     "metadata": {
      "needs_background": "light"
     },
     "output_type": "display_data"
    }
   ],
   "source": [
    "show_plot([x_train[0], y_train[0]], 0, 'Sample Example').show()\n"
   ]
  },
  {
   "cell_type": "code",
   "execution_count": 20,
   "metadata": {},
   "outputs": [
    {
     "name": "stdout",
     "output_type": "stream",
     "text": [
      "Model: \"model_1\"\n",
      "_________________________________________________________________\n",
      " Layer (type)                Output Shape              Param #   \n",
      "=================================================================\n",
      " input_2 (InputLayer)        [(None, 3360, 1)]         0         \n",
      "                                                                 \n",
      " lstm_1 (LSTM)               (None, 128)               66560     \n",
      "                                                                 \n",
      " dense_1 (Dense)             (None, 1)                 129       \n",
      "                                                                 \n",
      "=================================================================\n",
      "Total params: 66,689\n",
      "Trainable params: 66,689\n",
      "Non-trainable params: 0\n",
      "_________________________________________________________________\n"
     ]
    }
   ],
   "source": [
    "import keras\n",
    "inputs = keras.layers.Input(shape=(x_train.shape[1], x_train.shape[2]))\n",
    "lstm_out = keras.layers.LSTM(128)(inputs)\n",
    "outputs = keras.layers.Dense(1)(lstm_out)\n",
    "\n",
    "model = keras.Model(inputs=inputs, outputs=outputs)\n",
    "model.compile(optimizer='adam', loss=\"mae\", metrics = ['mae'])\n",
    "model.summary()"
   ]
  },
  {
   "cell_type": "code",
   "execution_count": 21,
   "metadata": {},
   "outputs": [
    {
     "name": "stdout",
     "output_type": "stream",
     "text": [
      "679/679 [==============================] - 102s 147ms/step - loss: 690.8522 - mae: 690.8522 - val_loss: 187.0758 - val_mae: 187.0758\n"
     ]
    },
    {
     "data": {
      "text/plain": [
       "<keras.callbacks.History at 0x1bfcb88e910>"
      ]
     },
     "execution_count": 21,
     "metadata": {},
     "output_type": "execute_result"
    }
   ],
   "source": [
    "model.fit(\n",
    "x_train, y_train,\n",
    "epochs=1,\n",
    "validation_data=(x_val, y_val)\n",
    ")"
   ]
  },
  {
   "cell_type": "code",
   "execution_count": null,
   "metadata": {},
   "outputs": [
    {
     "data": {
      "text/plain": [
       "(8424,)"
      ]
     },
     "execution_count": 282,
     "metadata": {},
     "output_type": "execute_result"
    }
   ],
   "source": [
    "test.shape"
   ]
  },
  {
   "cell_type": "code",
   "execution_count": null,
   "metadata": {},
   "outputs": [
    {
     "data": {
      "text/plain": [
       "(8424,)"
      ]
     },
     "execution_count": 287,
     "metadata": {},
     "output_type": "execute_result"
    }
   ],
   "source": [
    "test.shape"
   ]
  },
  {
   "cell_type": "code",
   "execution_count": null,
   "metadata": {},
   "outputs": [],
   "source": [
    "x_test, y_test = dataset(test, 0, 8424-336, 3360, 336)"
   ]
  },
  {
   "cell_type": "code",
   "execution_count": 22,
   "metadata": {},
   "outputs": [
    {
     "ename": "NameError",
     "evalue": "name 'x_test' is not defined",
     "output_type": "error",
     "traceback": [
      "\u001b[1;31m---------------------------------------------------------------------------\u001b[0m",
      "\u001b[1;31mNameError\u001b[0m                                 Traceback (most recent call last)",
      "\u001b[1;32mc:\\mb_job\\project\\Competition\\Water-demand-Prediction\\baseline.ipynb 셀 21\u001b[0m in \u001b[0;36m<cell line: 1>\u001b[1;34m()\u001b[0m\n\u001b[1;32m----> <a href='vscode-notebook-cell:/c%3A/mb_job/project/Competition/Water-demand-Prediction/baseline.ipynb#X26sZmlsZQ%3D%3D?line=0'>1</a>\u001b[0m y_pred \u001b[39m=\u001b[39m model\u001b[39m.\u001b[39mpredict(x_test)\n",
      "\u001b[1;31mNameError\u001b[0m: name 'x_test' is not defined"
     ]
    }
   ],
   "source": [
    "y_pred = model.predict(x_test)"
   ]
  },
  {
   "cell_type": "code",
   "execution_count": null,
   "metadata": {},
   "outputs": [
    {
     "data": {
      "text/plain": [
       "(4728, 336)"
      ]
     },
     "execution_count": 293,
     "metadata": {},
     "output_type": "execute_result"
    }
   ],
   "source": [
    "y_pred.shape"
   ]
  },
  {
   "cell_type": "code",
   "execution_count": null,
   "metadata": {},
   "outputs": [
    {
     "data": {
      "text/plain": [
       "array([0.14197192, 0.19534692, 0.16735525, 0.21472548, 0.1560742 ,\n",
       "       0.21581668, 0.17004359, 0.17811328, 0.2005536 , 0.16936211,\n",
       "       0.19520915, 0.19912575, 0.19473843, 0.19773568, 0.18434504,\n",
       "       0.19722803, 0.18923785, 0.17125367, 0.2022812 , 0.16535701,\n",
       "       0.17752306, 0.21601106, 0.1989215 , 0.17341551, 0.17154373,\n",
       "       0.1518147 , 0.13874835, 0.23774286, 0.18537514, 0.22736014,\n",
       "       0.21322003, 0.20130286, 0.2125101 , 0.18813355, 0.21558918,\n",
       "       0.17031294, 0.20309673, 0.14472502, 0.1735518 , 0.2041149 ,\n",
       "       0.18279506, 0.17118129, 0.14238665, 0.22572173, 0.1993001 ,\n",
       "       0.20681977, 0.19012286, 0.18040295, 0.20546448, 0.16356435,\n",
       "       0.2097932 , 0.1777174 , 0.19385533, 0.2011646 , 0.20868476,\n",
       "       0.15297107, 0.21117578, 0.21513985, 0.18341096, 0.19892402,\n",
       "       0.20428185, 0.17622031, 0.16286567, 0.19735995, 0.19822323,\n",
       "       0.18645059, 0.19582607, 0.21735892, 0.20266053, 0.1714197 ,\n",
       "       0.1902694 , 0.20803899, 0.21898568, 0.17595638, 0.20109098,\n",
       "       0.19365983, 0.19008325, 0.15774773, 0.19836019, 0.19713978,\n",
       "       0.20575933, 0.19926004, 0.19359781, 0.21456832, 0.215599  ,\n",
       "       0.18896648, 0.1769303 , 0.19581811, 0.1643517 , 0.1844666 ,\n",
       "       0.18284911, 0.16392197, 0.1678964 , 0.17862883, 0.21069339,\n",
       "       0.1738249 , 0.20239113, 0.19679393, 0.1987706 , 0.18924834,\n",
       "       0.18613163, 0.16575474, 0.18795522, 0.19333822, 0.19939518,\n",
       "       0.199859  , 0.19137587, 0.1918466 , 0.19813015, 0.20253165,\n",
       "       0.22268957, 0.20369655, 0.21895503, 0.1930645 , 0.22457233,\n",
       "       0.182104  , 0.18119605, 0.15473127, 0.2091554 , 0.17800698,\n",
       "       0.17721103, 0.18868302, 0.16197677, 0.18527399, 0.16687982,\n",
       "       0.17866755, 0.1530082 , 0.21318585, 0.14918242, 0.19057032,\n",
       "       0.18088253, 0.16092299, 0.1920566 , 0.1843173 , 0.18797877,\n",
       "       0.20821339, 0.15936036, 0.21954808, 0.18848906, 0.15555435,\n",
       "       0.18030885, 0.22629733, 0.18797177, 0.19538249, 0.18286134,\n",
       "       0.18649513, 0.19657448, 0.22567418, 0.17743747, 0.20895354,\n",
       "       0.16393484, 0.15400943, 0.20471601, 0.17928559, 0.18833707,\n",
       "       0.17423509, 0.18636782, 0.19905347, 0.20568666, 0.17368928,\n",
       "       0.16910727, 0.18331549, 0.20016144, 0.17831475, 0.21326011,\n",
       "       0.1666721 , 0.17139493, 0.19533896, 0.20073485, 0.18244807,\n",
       "       0.21599239, 0.21549416, 0.18868859, 0.1885611 , 0.17115174,\n",
       "       0.19473453, 0.19569115, 0.19798945, 0.2024032 , 0.1918969 ,\n",
       "       0.16956663, 0.17788854, 0.2000268 , 0.18132487, 0.19220634,\n",
       "       0.1835957 , 0.2154248 , 0.15690562, 0.21706563, 0.20026231,\n",
       "       0.15506884, 0.21002947, 0.22255883, 0.1843778 , 0.20666726,\n",
       "       0.18558154, 0.1540327 , 0.2014566 , 0.19485168, 0.18849768,\n",
       "       0.15920927, 0.1753472 , 0.17425568, 0.22280861, 0.2115248 ,\n",
       "       0.20849393, 0.17850086, 0.21738352, 0.18174544, 0.18972282,\n",
       "       0.17848489, 0.18417293, 0.18430555, 0.16740666, 0.16091226,\n",
       "       0.19673856, 0.1833787 , 0.1857963 , 0.19368133, 0.21775256,\n",
       "       0.16383609, 0.17859015, 0.20672947, 0.2115212 , 0.20947272,\n",
       "       0.17136332, 0.24191438, 0.1849997 , 0.12716398, 0.2193313 ,\n",
       "       0.17975523, 0.18861711, 0.1762443 , 0.17315495, 0.20899211,\n",
       "       0.17656367, 0.17327467, 0.19202907, 0.19183971, 0.18065977,\n",
       "       0.13454461, 0.20507935, 0.20955981, 0.18609145, 0.18345   ,\n",
       "       0.1803011 , 0.19088452, 0.17269737, 0.17851134, 0.18090123,\n",
       "       0.18379292, 0.17706406, 0.16323802, 0.19346565, 0.15809052,\n",
       "       0.17951602, 0.20451884, 0.1543219 , 0.17984454, 0.18459474,\n",
       "       0.1723622 , 0.21563677, 0.1739824 , 0.15254842, 0.21645159,\n",
       "       0.18501075, 0.1842627 , 0.21112457, 0.18238305, 0.18423747,\n",
       "       0.20208079, 0.174448  , 0.19046193, 0.16666949, 0.21229285,\n",
       "       0.22838658, 0.18568224, 0.16104205, 0.1770273 , 0.18857935,\n",
       "       0.15133537, 0.17020206, 0.17840779, 0.18860991, 0.17221975,\n",
       "       0.18162519, 0.17718114, 0.19199601, 0.2025087 , 0.22538762,\n",
       "       0.18945827, 0.20516327, 0.21671283, 0.19081432, 0.17178845,\n",
       "       0.18065582, 0.1933651 , 0.14296636, 0.19234885, 0.2162216 ,\n",
       "       0.1814234 , 0.18937802, 0.1984502 , 0.18253306, 0.17629202,\n",
       "       0.1854615 , 0.20110068, 0.19392213, 0.2054594 , 0.18846375,\n",
       "       0.19494538, 0.20577233, 0.1685319 , 0.17082606, 0.17970641,\n",
       "       0.2133376 , 0.18752328, 0.24647605, 0.1776726 , 0.18455324,\n",
       "       0.13911016, 0.15539913, 0.17909396, 0.1722104 , 0.13799472,\n",
       "       0.19506735, 0.18089955, 0.1944804 , 0.21099082, 0.20885411,\n",
       "       0.12865743, 0.2199043 , 0.19477709, 0.21333255, 0.2062255 ,\n",
       "       0.1698199 ], dtype=float32)"
      ]
     },
     "execution_count": 272,
     "metadata": {},
     "output_type": "execute_result"
    }
   ],
   "source": []
  },
  {
   "cell_type": "code",
   "execution_count": null,
   "metadata": {},
   "outputs": [],
   "source": [
    "# split_fraction = 0.715\n",
    "# train_split = int(split_fraction * int(train.shape[0]))\n",
    "# step = 6\n",
    "\n",
    "# past = 3360\n",
    "# future = 336\n",
    "# learning_rate = 0.001\n",
    "# batch_size = 256\n",
    "# epochs = 10\n",
    "\n",
    "\n",
    "# def normalize(data, train_split):\n",
    "#     data_mean = data[:train_split].mean(axis=0)\n",
    "#     data_std = data[:train_split].std(axis=0)\n",
    "#     return (data - data_mean) / data_std\n",
    "# train['구미 혁신도시배수지 유출유량 적산차'] = normalize(train['구미 혁신도시배수지 유출유량 적산차'], train_split)\n",
    "# start = past + future\n",
    "# end = start + train_split\n",
    "# sequence_length = int(past / step)\n",
    "# train_data = train.loc[0 : train_split-1]\n",
    "# val_data = train.loc[train_split:]\n",
    "# x_train = train['구미 혁신도시배수지 유출유량 적산차'].values\n",
    "# y_train = train['구미 혁신도시배수지 유출유량 적산차'].iloc[start:end].values\n",
    "\n",
    "# x_train = x_train.reshape(-1, 1)\n",
    "# y_train = y_train.reshape(-1, 1)\n",
    "# from tensorflow import keras\n",
    "# dataset_train = keras.preprocessing.timeseries_dataset_from_array(\n",
    "#     x_train,\n",
    "#     y_train,\n",
    "#     sequence_length=sequence_length,\n",
    "#     sampling_rate=step,\n",
    "#     batch_size=batch_size,\n",
    "# )\n",
    "# dataset_train\n",
    "# x_end = len(val_data) - past - future\n",
    "\n",
    "# label_start = train_split + past + future\n",
    "\n",
    "# x_val = val_data['구미 혁신도시배수지 유출유량 적산차'].values\n",
    "# y_val = val_data['구미 혁신도시배수지 유출유량 적산차'].iloc[label_start:].values\n",
    "# x_val = x_val.reshape(-1, 1)\n",
    "# y_val = y_val.reshape(-1, 1)\n",
    "\n",
    "# dataset_val = keras.preprocessing.timeseries_dataset_from_array(\n",
    "#     x_val,\n",
    "#     y_val,\n",
    "#     sequence_length=sequence_length,\n",
    "#     sampling_rate=step,\n",
    "#     batch_size=batch_size,\n",
    "# )\n",
    "# for batch in dataset_train.take(1):\n",
    "#     inputs, targets = batch\n",
    "\n",
    "# print(\"Input shape:\", inputs.numpy().shape)\n",
    "# print(\"Target shape:\", targets.numpy().shape)"
   ]
  }
 ],
 "metadata": {
  "kernelspec": {
   "display_name": "Python 3.8.10 64-bit",
   "language": "python",
   "name": "python3"
  },
  "language_info": {
   "codemirror_mode": {
    "name": "ipython",
    "version": 3
   },
   "file_extension": ".py",
   "mimetype": "text/x-python",
   "name": "python",
   "nbconvert_exporter": "python",
   "pygments_lexer": "ipython3",
   "version": "3.8.10"
  },
  "orig_nbformat": 4,
  "vscode": {
   "interpreter": {
    "hash": "b081a66ee97bd2b6a16f43955f1d810b7ea816d6eaeb65e157ef9e038445f0c6"
   }
  }
 },
 "nbformat": 4,
 "nbformat_minor": 2
}
