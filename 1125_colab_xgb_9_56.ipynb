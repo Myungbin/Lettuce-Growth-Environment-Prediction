{
  "nbformat": 4,
  "nbformat_minor": 0,
  "metadata": {
    "colab": {
      "provenance": [],
      "machine_shape": "hm"
    },
    "kernelspec": {
      "name": "python3",
      "display_name": "Python 3"
    },
    "language_info": {
      "name": "python"
    },
    "accelerator": "GPU",
    "gpuClass": "standard"
  },
  "cells": [
    {
      "cell_type": "markdown",
      "source": [
        "# gpu/ram/drive"
      ],
      "metadata": {
        "id": "sqHR8NE8JgbN"
      }
    },
    {
      "cell_type": "code",
      "source": [
        "gpu_info = !nvidia-smi\n",
        "gpu_info = '\\n'.join(gpu_info)\n",
        "if gpu_info.find('failed') >= 0:\n",
        "  print('Not connected to a GPU')\n",
        "else:\n",
        "  print(gpu_info)"
      ],
      "metadata": {
        "colab": {
          "base_uri": "https://localhost:8080/"
        },
        "id": "YPSVrR9FJlmj",
        "outputId": "1a8e038b-e80e-4e72-bdcb-05f4833babaa"
      },
      "execution_count": 2,
      "outputs": [
        {
          "output_type": "stream",
          "name": "stdout",
          "text": [
            "Fri Nov 25 09:37:44 2022       \n",
            "+-----------------------------------------------------------------------------+\n",
            "| NVIDIA-SMI 460.32.03    Driver Version: 460.32.03    CUDA Version: 11.2     |\n",
            "|-------------------------------+----------------------+----------------------+\n",
            "| GPU  Name        Persistence-M| Bus-Id        Disp.A | Volatile Uncorr. ECC |\n",
            "| Fan  Temp  Perf  Pwr:Usage/Cap|         Memory-Usage | GPU-Util  Compute M. |\n",
            "|                               |                      |               MIG M. |\n",
            "|===============================+======================+======================|\n",
            "|   0  Tesla T4            Off  | 00000000:00:04.0 Off |                    0 |\n",
            "| N/A   40C    P8     9W /  70W |      0MiB / 15109MiB |      0%      Default |\n",
            "|                               |                      |                  N/A |\n",
            "+-------------------------------+----------------------+----------------------+\n",
            "                                                                               \n",
            "+-----------------------------------------------------------------------------+\n",
            "| Processes:                                                                  |\n",
            "|  GPU   GI   CI        PID   Type   Process name                  GPU Memory |\n",
            "|        ID   ID                                                   Usage      |\n",
            "|=============================================================================|\n",
            "|  No running processes found                                                 |\n",
            "+-----------------------------------------------------------------------------+\n"
          ]
        }
      ]
    },
    {
      "cell_type": "code",
      "execution_count": 3,
      "metadata": {
        "colab": {
          "base_uri": "https://localhost:8080/"
        },
        "id": "XRc3HHbPI2uW",
        "outputId": "c8380f7a-5e1a-4321-8b1b-52d607df501a"
      },
      "outputs": [
        {
          "output_type": "stream",
          "name": "stdout",
          "text": [
            "Mounted at /content/drive\n"
          ]
        }
      ],
      "source": [
        "from google.colab import drive\n",
        "import pandas as pd\n",
        "drive.mount('/content/drive')\n",
        "import gc\n",
        "def csv_to_parquet(csv_path, save_name):\n",
        "    df = pd.read_csv(csv_path)\n",
        "    df.to_parquet(f'./{save_name}.parquet')\n",
        "    del df\n",
        "    gc.collect()\n",
        "    print(save_name, 'Done.')"
      ]
    },
    {
      "cell_type": "code",
      "source": [
        "from psutil import virtual_memory\n",
        "ram_gb = virtual_memory().total / 1e9\n",
        "print('Your runtime has {:.1f} gigabytes of available RAM\\n'.format(ram_gb))\n",
        "\n",
        "if ram_gb < 20:\n",
        "  print('Not using a high-RAM runtime')\n",
        "else:\n",
        "  print('You are using a high-RAM runtime!')"
      ],
      "metadata": {
        "colab": {
          "base_uri": "https://localhost:8080/"
        },
        "id": "ws6lQAcJJfOE",
        "outputId": "c824e8fb-643a-4cc0-fac8-23cb2b7f0d02"
      },
      "execution_count": 4,
      "outputs": [
        {
          "output_type": "stream",
          "name": "stdout",
          "text": [
            "Your runtime has 27.3 gigabytes of available RAM\n",
            "\n",
            "You are using a high-RAM runtime!\n"
          ]
        }
      ]
    },
    {
      "cell_type": "markdown",
      "source": [
        "# import"
      ],
      "metadata": {
        "id": "ItXhHNKqJsKg"
      }
    },
    {
      "cell_type": "code",
      "source": [
        "import random\n",
        "import pandas as pd\n",
        "import numpy as np\n",
        "import os\n",
        "import glob\n",
        "import warnings\n",
        "warnings.filterwarnings('ignore')"
      ],
      "metadata": {
        "id": "yIqQB2iSJ0VZ"
      },
      "execution_count": 7,
      "outputs": []
    },
    {
      "cell_type": "markdown",
      "source": [
        "# modeling"
      ],
      "metadata": {
        "id": "sBU8OxISJ1II"
      }
    },
    {
      "cell_type": "code",
      "source": [
        "def make_dataset(input_path, target_path):\n",
        "    train = pd.DataFrame()\n",
        "    all_input_list = sorted(glob.glob(input_path))\n",
        "    all_target_list = sorted(glob.glob(target_path))\n",
        "    for x, y in zip(all_input_list,all_target_list):\n",
        "        x = pd.read_csv(x)\n",
        "        y = pd.read_csv(y)\n",
        "        x['obs_time'] = x['obs_time'].str[:2]\n",
        "        x = x.iloc[:,1:]\n",
        "        col_list = x.columns[1:]\n",
        "        for i in range(0,28) :\n",
        "            day = x.iloc[24*i:24*i+24]\n",
        "            time_list = day['obs_time'].unique()\n",
        "            if len(time_list) > 24 :\n",
        "                for i in range(0,len(time_list)):\n",
        "                    x['obs_time'] = x['obs_time'].replace(time_list[24+i],time_list[i])\n",
        "            for col in col_list :\n",
        "                for time in time_list :\n",
        "                    value = day[day['obs_time']==time][col].iloc[0]\n",
        "                    x[col+time] = value\n",
        "            nx = x.iloc[:1,15:]\n",
        "            ny = y.iloc[i:i+1].reset_index(drop=True)\n",
        "            xy = pd.merge(nx,ny,left_index=True, right_index=True)\n",
        "            train = pd.concat([train,xy]).reset_index(drop=True)\n",
        "    return train"
      ],
      "metadata": {
        "id": "CIyj2S2BJunn"
      },
      "execution_count": 5,
      "outputs": []
    },
    {
      "cell_type": "code",
      "source": [
        "train_input_path, train_target_path = 'drive/MyDrive/dacon/data/train_input/*.csv', 'drive/MyDrive/dacon/data/train_target/*.csv'\n",
        "test_input_path, test_target_path = 'drive/MyDrive/dacon/data/test_input/*.csv', 'drive/MyDrive/dacon/data/test_target/*.csv'\n",
        "\n",
        "train = make_dataset(train_input_path, train_target_path)\n",
        "test = make_dataset(test_input_path, test_target_path)"
      ],
      "metadata": {
        "id": "RZV0MwQpJuqM"
      },
      "execution_count": 17,
      "outputs": []
    },
    {
      "cell_type": "code",
      "source": [
        "train_test = train.copy()\n",
        "test_test = test.copy()"
      ],
      "metadata": {
        "id": "BYNCl_joMfqO"
      },
      "execution_count": 18,
      "outputs": []
    },
    {
      "cell_type": "code",
      "source": [
        "train_test['DAT'] = (train_test['DAT']-1)*10\n",
        "train_test['DAT']"
      ],
      "metadata": {
        "colab": {
          "base_uri": "https://localhost:8080/"
        },
        "id": "HI3JZ8lqLci_",
        "outputId": "edb0b250-4040-4240-fa46-92dd7861e426"
      },
      "execution_count": 26,
      "outputs": [
        {
          "output_type": "execute_result",
          "data": {
            "text/plain": [
              "0        0\n",
              "1       10\n",
              "2       20\n",
              "3       30\n",
              "4       40\n",
              "      ... \n",
              "779    230\n",
              "780    240\n",
              "781    250\n",
              "782    260\n",
              "783    270\n",
              "Name: DAT, Length: 784, dtype: int64"
            ]
          },
          "metadata": {},
          "execution_count": 26
        }
      ]
    },
    {
      "cell_type": "code",
      "source": [
        "test_test['DAT'] = (test_test['DAT']-1)*10\n",
        "test_test['DAT']"
      ],
      "metadata": {
        "colab": {
          "base_uri": "https://localhost:8080/"
        },
        "id": "OJFrmqaVMCdK",
        "outputId": "a05e85c9-c3ae-4233-d94f-d10dafb688cf"
      },
      "execution_count": 27,
      "outputs": [
        {
          "output_type": "execute_result",
          "data": {
            "text/plain": [
              "0        0\n",
              "1       10\n",
              "2       20\n",
              "3       30\n",
              "4       40\n",
              "      ... \n",
              "135    230\n",
              "136    240\n",
              "137    250\n",
              "138    260\n",
              "139    270\n",
              "Name: DAT, Length: 140, dtype: int64"
            ]
          },
          "metadata": {},
          "execution_count": 27
        }
      ]
    },
    {
      "cell_type": "code",
      "source": [
        "import xgboost"
      ],
      "metadata": {
        "id": "snHk7-glLWr7"
      },
      "execution_count": 12,
      "outputs": []
    },
    {
      "cell_type": "code",
      "source": [
        "X = train_test.iloc[:,:-1]\n",
        "y = train_test.iloc[:,-1:]\n",
        "testX = test_test.iloc[:,:-1]\n",
        "testy = test_test.iloc[:,-1:]"
      ],
      "metadata": {
        "id": "A_yGJjurLWuY"
      },
      "execution_count": 40,
      "outputs": []
    },
    {
      "cell_type": "code",
      "source": [
        "xgb_model = xgboost.XGBRegressor()\n",
        "xgb_model.fit(X, y)"
      ],
      "metadata": {
        "colab": {
          "base_uri": "https://localhost:8080/"
        },
        "id": "5jnsB7v8MJDw",
        "outputId": "20ba1173-012b-4457-9200-94bd52a6a076"
      },
      "execution_count": 41,
      "outputs": [
        {
          "output_type": "stream",
          "name": "stdout",
          "text": [
            "[09:58:30] WARNING: /workspace/src/objective/regression_obj.cu:152: reg:linear is now deprecated in favor of reg:squarederror.\n"
          ]
        },
        {
          "output_type": "execute_result",
          "data": {
            "text/plain": [
              "XGBRegressor()"
            ]
          },
          "metadata": {},
          "execution_count": 41
        }
      ]
    },
    {
      "cell_type": "code",
      "source": [
        "y_pred = xgb_model.predict(testX)"
      ],
      "metadata": {
        "id": "5wLWKSNKMJGn"
      },
      "execution_count": 42,
      "outputs": []
    },
    {
      "cell_type": "code",
      "source": [
        "y_pred[:28] # 원래"
      ],
      "metadata": {
        "colab": {
          "base_uri": "https://localhost:8080/"
        },
        "id": "GcuOa5G0MwmA",
        "outputId": "03b5021d-8d73-4515-b95c-31fc136462a0"
      },
      "execution_count": 43,
      "outputs": [
        {
          "output_type": "execute_result",
          "data": {
            "text/plain": [
              "array([ 3.314386 ,  2.873422 ,  3.0523722,  3.691428 ,  4.943701 ,\n",
              "        4.2387676,  4.9655294,  5.451253 ,  6.681161 ,  7.442542 ,\n",
              "        8.6249075, 11.074293 , 23.12757  , 28.255405 , 18.212914 ,\n",
              "       25.777475 , 28.320366 , 19.346506 , 18.880136 , 24.509848 ,\n",
              "       52.697346 , 53.73388  , 64.404015 , 76.070755 , 69.60325  ,\n",
              "       81.6572   , 99.0856   , 83.30005  ], dtype=float32)"
            ]
          },
          "metadata": {},
          "execution_count": 43
        }
      ]
    },
    {
      "cell_type": "code",
      "source": [
        "y_pred[:28] # *2"
      ],
      "metadata": {
        "colab": {
          "base_uri": "https://localhost:8080/"
        },
        "id": "-OR5AZyMMJI3",
        "outputId": "8b71db4d-e27b-4e0e-b22f-e95af808d8c7"
      },
      "execution_count": 16,
      "outputs": [
        {
          "output_type": "execute_result",
          "data": {
            "text/plain": [
              "array([ 3.314386 ,  2.873422 ,  3.0523722,  3.691428 ,  4.943701 ,\n",
              "        4.2387676,  4.9655294,  5.451253 ,  6.681161 ,  7.442542 ,\n",
              "        8.6249075, 11.074293 , 23.12757  , 28.255405 , 18.212914 ,\n",
              "       25.777475 , 28.320366 , 19.346506 , 18.880136 , 24.509848 ,\n",
              "       52.697346 , 53.73388  , 64.404015 , 76.070755 , 69.60325  ,\n",
              "       81.6572   , 99.0856   , 83.30005  ], dtype=float32)"
            ]
          },
          "metadata": {},
          "execution_count": 16
        }
      ]
    },
    {
      "cell_type": "code",
      "source": [
        "y_pred[:28] # *10"
      ],
      "metadata": {
        "colab": {
          "base_uri": "https://localhost:8080/"
        },
        "id": "WsmpVetjMJLR",
        "outputId": "86323d01-67a5-4517-ffb1-8d5712443ba6"
      },
      "execution_count": 31,
      "outputs": [
        {
          "output_type": "execute_result",
          "data": {
            "text/plain": [
              "array([ 3.314386 ,  2.873422 ,  3.0523722,  3.691428 ,  4.943701 ,\n",
              "        4.2387676,  4.9655294,  5.451253 ,  6.681161 ,  7.442542 ,\n",
              "        8.6249075, 11.074293 , 23.12757  , 28.255405 , 18.212914 ,\n",
              "       25.777475 , 28.320366 , 19.346506 , 18.880136 , 24.509848 ,\n",
              "       52.697346 , 53.73388  , 64.404015 , 76.070755 , 69.60325  ,\n",
              "       81.6572   , 99.0856   , 83.30005  ], dtype=float32)"
            ]
          },
          "metadata": {},
          "execution_count": 31
        }
      ]
    },
    {
      "cell_type": "code",
      "source": [
        "from sklearn.model_selection import train_test_split\n",
        "X = train.iloc[:,:-1]\n",
        "y = train.iloc[:,-1:]\n",
        "X_train, X_test, y_train, y_test = train_test_split(X, y, test_size=0.1, random_state=42)"
      ],
      "metadata": {
        "id": "P73ppM3uN-eF"
      },
      "execution_count": 32,
      "outputs": []
    },
    {
      "cell_type": "code",
      "source": [
        "xgb_model = xgboost.XGBRegressor()\n",
        "xgb_model.fit(X_train, y_train)"
      ],
      "metadata": {
        "colab": {
          "base_uri": "https://localhost:8080/"
        },
        "id": "1oAF5-BXOGC8",
        "outputId": "4f2e3449-12b8-41e3-c1a8-f5032a6f55d9"
      },
      "execution_count": 34,
      "outputs": [
        {
          "output_type": "stream",
          "name": "stdout",
          "text": [
            "[09:57:27] WARNING: /workspace/src/objective/regression_obj.cu:152: reg:linear is now deprecated in favor of reg:squarederror.\n"
          ]
        },
        {
          "output_type": "execute_result",
          "data": {
            "text/plain": [
              "XGBRegressor()"
            ]
          },
          "metadata": {},
          "execution_count": 34
        }
      ]
    },
    {
      "cell_type": "code",
      "source": [
        "y_pred = xgb_model.predict(X_test)"
      ],
      "metadata": {
        "id": "VX2QCJCrOGE4"
      },
      "execution_count": 35,
      "outputs": []
    },
    {
      "cell_type": "code",
      "source": [
        "from sklearn.metrics import mean_squared_error\n",
        "\n",
        "RMSE = mean_squared_error(y_test, y_pred)**0.5"
      ],
      "metadata": {
        "id": "BvAdfBCmN-ha"
      },
      "execution_count": 36,
      "outputs": []
    },
    {
      "cell_type": "code",
      "source": [
        "RMSE"
      ],
      "metadata": {
        "colab": {
          "base_uri": "https://localhost:8080/"
        },
        "id": "eGDEGiaKOMNP",
        "outputId": "a0b16030-3c3c-4621-9669-b64daab6d841"
      },
      "execution_count": 37,
      "outputs": [
        {
          "output_type": "execute_result",
          "data": {
            "text/plain": [
              "12.219482311851545"
            ]
          },
          "metadata": {},
          "execution_count": 37
        }
      ]
    },
    {
      "cell_type": "code",
      "source": [
        "all_target_list = sorted(glob.glob(test_target_path))"
      ],
      "metadata": {
        "id": "GKliRh0YOhcK"
      },
      "execution_count": 44,
      "outputs": []
    },
    {
      "cell_type": "code",
      "source": [
        "i=0\n",
        "for test_path in all_target_list:\n",
        "    submit_df = pd.read_csv(test_path)\n",
        "    submit_df['predicted_weight_g'] = y_pred[i*28:i*28+28]\n",
        "    submit_df.to_csv(test_path, index=False)\n",
        "    i+=1"
      ],
      "metadata": {
        "id": "MjWjBZRDOheQ"
      },
      "execution_count": 45,
      "outputs": []
    }
  ]
}