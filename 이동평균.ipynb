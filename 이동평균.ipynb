{
 "cells": [
  {
   "cell_type": "code",
   "execution_count": 10,
   "metadata": {},
   "outputs": [],
   "source": [
    "import pandas as pd\n",
    "from feature.base_dataset import limit_range"
   ]
  },
  {
   "cell_type": "code",
   "execution_count": 11,
   "metadata": {},
   "outputs": [],
   "source": [
    "def moving_average(input_list):\n",
    "    \"\"\"make moving_average dataset\n",
    "\n",
    "    Args:\n",
    "        input_list (list): train_input_list\n",
    "\n",
    "    Returns:\n",
    "        DataFrame: moving_average time dataset\n",
    "    \"\"\"    \n",
    "    df_moving = pd.DataFrame()\n",
    "    for i in input_list:\n",
    "        df = pd.read_csv(i)\n",
    "        df = limit_range(df)\n",
    "        df = df.fillna(method='ffill')\n",
    "        df = df.drop(['DAT', 'obs_time', '일간누적분무량', '일간누적백색광량',\n",
    "                    '일간누적적색광량', '일간누적청색광량', '일간누적총광량'], axis=1)\n",
    "           \n",
    "        ma = df.rolling(3, min_periods=1).mean()\n",
    "        ma['time'] = [i%24 for i in range(len(ma))]\n",
    "        ma['DAT'] = [i//24 for i in range(len(ma))]\n",
    "\n",
    "        df = pd.pivot_table(ma, index=['DAT'], columns=['time'], aggfunc='mean')\n",
    "        df.columns = [''.join(str(col)) for col in df.columns]\n",
    "        df = df.reset_index()    \n",
    "        \n",
    "        df_moving = pd.concat([df_moving, df])\n",
    "    return df_moving\n",
    "    "
   ]
  },
  {
   "cell_type": "code",
   "execution_count": 12,
   "metadata": {},
   "outputs": [],
   "source": [
    "from glob import glob\n",
    "train_input_list = sorted(glob('./data/train_input/*.csv'))\n",
    "train_target_list = sorted(glob('./data/train_target/*.csv'))\n",
    "\n",
    "test_input_list = sorted(glob('./data/test_input/*.csv'))\n",
    "test_target_list = sorted(glob('./data/test_target/*.csv'))"
   ]
  },
  {
   "cell_type": "code",
   "execution_count": 13,
   "metadata": {},
   "outputs": [],
   "source": [
    "train = moving_average(train_input_list)\n",
    "test = moving_average(test_input_list)"
   ]
  },
  {
   "cell_type": "code",
   "execution_count": 15,
   "metadata": {},
   "outputs": [],
   "source": [
    "train.to_csv('train_roling.csv', index=False)\n",
    "test.to_csv('test_roling.csv', index=False)"
   ]
  },
  {
   "cell_type": "code",
   "execution_count": null,
   "metadata": {},
   "outputs": [],
   "source": [
    "def make_dataset(all_input_list, all_target_list):\n",
    "    '''\n",
    "    Train, Test데이터를 하나의 데이터 프레임으로 변경\n",
    "    '''\n",
    "    df_all = pd.DataFrame()\n",
    "    df_all2 = pd.DataFrame()\n",
    "    length = len(all_input_list)\n",
    "    for idx in range(length):\n",
    "        X = pd.read_csv(all_input_list[idx])\n",
    "        y = pd.read_csv(all_target_list[idx])\n",
    "        q5 = X['시간당분무량'].quantile(0.05)\n",
    "        q95 = X['시간당분무량'].quantile(0.95)\n",
    "        X1 = X.clip(q5, q95, axis=1)\n",
    "        y['DAT'] = y['DAT']-1\n",
    "        df_concat = pd.merge(X1, y, on='DAT', how='left')\n",
    "        df_concat2 = pd.merge(X, y, on='DAT', how='left')\n",
    "        df_concat['Case'] = idx+1\n",
    "        df_all = pd.concat([df_all, df_concat])\n",
    "        df_all2 = pd.concat([df_all2, df_concat2])\n",
    "    return df_all, df_all2"
   ]
  },
  {
   "cell_type": "code",
   "execution_count": null,
   "metadata": {},
   "outputs": [],
   "source": []
  }
 ],
 "metadata": {
  "kernelspec": {
   "display_name": "Python 3.9.13 ('base')",
   "language": "python",
   "name": "python3"
  },
  "language_info": {
   "codemirror_mode": {
    "name": "ipython",
    "version": 3
   },
   "file_extension": ".py",
   "mimetype": "text/x-python",
   "name": "python",
   "nbconvert_exporter": "python",
   "pygments_lexer": "ipython3",
   "version": "3.9.13"
  },
  "orig_nbformat": 4,
  "vscode": {
   "interpreter": {
    "hash": "8b89323bfb51462e07b3b44fbe5501f0ab989a383b4d33571ac0c27eb59569d4"
   }
  }
 },
 "nbformat": 4,
 "nbformat_minor": 2
}
