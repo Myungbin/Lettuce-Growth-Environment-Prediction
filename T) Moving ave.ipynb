{
 "cells": [
  {
   "cell_type": "code",
   "execution_count": 34,
   "metadata": {},
   "outputs": [],
   "source": [
    "from feature.clip_make_dataset import make_data\n",
    "from feature.after_dataset import accumulate\n",
    "import pandas as pd\n",
    "from glob import glob\n",
    "from sklearn.metrics import mean_squared_error\n",
    "from sklearn.model_selection import train_test_split\n",
    "import glob\n",
    "from xgboost import XGBRegressor\n",
    "from catboost import CatBoostRegressor\n",
    "from lightgbm import LGBMRegressor\n",
    "from sklearn.linear_model import LinearRegression, Ridge\n",
    "import warnings\n",
    "import matplotlib.pyplot as plt\n",
    "warnings.filterwarnings('ignore')"
   ]
  },
  {
   "cell_type": "code",
   "execution_count": 18,
   "metadata": {},
   "outputs": [],
   "source": [
    "train_input_list = './data/train_input/*.csv'\n",
    "train_target_list = './data/train_target/*.csv'\n",
    "\n",
    "test_input_list = './data/test_input/*.csv'\n",
    "test_target_list = './data/test_target/*.csv'"
   ]
  },
  {
   "cell_type": "code",
   "execution_count": 19,
   "metadata": {},
   "outputs": [],
   "source": [
    "train, test, p_train, p_test = make_data(train_input_list, train_target_list, test_input_list, test_target_list)"
   ]
  },
  {
   "cell_type": "code",
   "execution_count": 20,
   "metadata": {},
   "outputs": [],
   "source": [
    "train_rol = pd.read_csv('./data/train_roling.csv')\n",
    "test_rol = pd.read_csv('./data/test_roling.csv')\n",
    "train_rol = train_rol.drop(['DAT'], axis=1)\n",
    "test_rol = test_rol.drop(['DAT'], axis=1)"
   ]
  },
  {
   "cell_type": "code",
   "execution_count": 21,
   "metadata": {},
   "outputs": [],
   "source": [
    "accumulate(train, test, '누적분무량')\n",
    "accumulate(train, test, '누적백색광량')\n",
    "accumulate(train, test, '누적청색광량')\n",
    "accumulate(train, test, '누적적색광량')"
   ]
  },
  {
   "cell_type": "code",
   "execution_count": 22,
   "metadata": {},
   "outputs": [],
   "source": [
    "# train = pd.concat([train, train_1, train_3, train_std], axis=1)\n",
    "# test = pd.concat([test, test_1, test_3, test_std], axis=1)\n",
    "\n",
    "# train = train.drop(['index'], axis=1)\n",
    "# test = test.drop(['index'], axis=1)\n",
    "train = train.reset_index()\n",
    "test  = test.reset_index()\n",
    "train = pd.concat([train, train_rol], axis=1)\n",
    "test = pd.concat([test, test_rol], axis=1)\n",
    "\n",
    "# train = pd.concat([train, p_train], axis=1)\n",
    "# test = pd.concat([test, p_test], axis=1)"
   ]
  },
  {
   "cell_type": "code",
   "execution_count": 29,
   "metadata": {},
   "outputs": [],
   "source": [
    "def model_train(train, test, model):\n",
    "    '''\n",
    "    train shape = (784, 18), test shape = (140, 18)\n",
    "    model => sklearn api model\n",
    "    '''\n",
    "\n",
    "    X = train.drop(['predicted_weight_g', 'Case', 'obs_time', '6time'], axis=1)\n",
    "    y = train['predicted_weight_g']\n",
    "\n",
    "    X_train, X_val, y_train, y_val = train_test_split(X, y, test_size=0.3, random_state=113, shuffle=True)\n",
    "    \n",
    "    x_test = test.drop(['predicted_weight_g', 'Case', 'obs_time', '6time'], axis=1)\n",
    "    \n",
    "    model.fit(X_train, y_train)\n",
    "    y_val_pred = model.predict(X_val)\n",
    "\n",
    "    rmse = mean_squared_error(y_val, y_val_pred)**0.5\n",
    "    print(f\"validation rmse: {rmse}\")\n",
    "    \n",
    "    x_train = train.drop(['predicted_weight_g', 'Case', 'obs_time', '6time'], axis=1)\n",
    "    y_train = train['predicted_weight_g']\n",
    "    \n",
    "    model.fit(x_train, y_train)\n",
    "    y_pred = model.predict(x_test)\n",
    "    x_test['predicted_weight_g'] = y_pred\n",
    "    submit = x_test[['DAT', 'predicted_weight_g']]\n",
    "    # submit['DAT'] = submit['DAT']\n",
    "    all_target_list = sorted(glob.glob('./data/test_target/*.csv'))\n",
    "    for idx, test_path in enumerate(all_target_list):\n",
    "        submit_df = pd.read_csv(test_path)\n",
    "        submit_df['predicted_weight_g'] = submit['predicted_weight_g'][idx*28:idx*28+28].values\n",
    "        submit_df.to_csv(test_path, index=False)"
   ]
  },
  {
   "cell_type": "code",
   "execution_count": 39,
   "metadata": {},
   "outputs": [
    {
     "name": "stdout",
     "output_type": "stream",
     "text": [
      "Learning rate set to 0.037231\n",
      "0:\tlearn: 40.8360278\ttotal: 161ms\tremaining: 2m 40s\n",
      "100:\tlearn: 7.6906061\ttotal: 1.65s\tremaining: 14.7s\n",
      "200:\tlearn: 3.7596402\ttotal: 3.09s\tremaining: 12.3s\n",
      "300:\tlearn: 2.4499390\ttotal: 5.25s\tremaining: 12.2s\n",
      "400:\tlearn: 1.7453132\ttotal: 7.51s\tremaining: 11.2s\n",
      "500:\tlearn: 1.3277612\ttotal: 8.9s\tremaining: 8.87s\n",
      "600:\tlearn: 1.0293528\ttotal: 10.3s\tremaining: 6.86s\n",
      "700:\tlearn: 0.8360205\ttotal: 11.8s\tremaining: 5.02s\n",
      "800:\tlearn: 0.6791757\ttotal: 13.9s\tremaining: 3.45s\n",
      "900:\tlearn: 0.5584532\ttotal: 16s\tremaining: 1.76s\n",
      "999:\tlearn: 0.4652840\ttotal: 17.4s\tremaining: 0us\n",
      "validation rmse: 6.081672653847054\n",
      "Learning rate set to 0.039399\n",
      "0:\tlearn: 40.4997203\ttotal: 17.6ms\tremaining: 17.6s\n",
      "100:\tlearn: 6.9459083\ttotal: 1.55s\tremaining: 13.8s\n",
      "200:\tlearn: 3.6782770\ttotal: 3.4s\tremaining: 13.5s\n",
      "300:\tlearn: 2.5742399\ttotal: 6.02s\tremaining: 14s\n",
      "400:\tlearn: 1.8996634\ttotal: 8s\tremaining: 11.9s\n",
      "500:\tlearn: 1.5057937\ttotal: 9.62s\tremaining: 9.58s\n",
      "600:\tlearn: 1.1992054\ttotal: 11.5s\tremaining: 7.63s\n",
      "700:\tlearn: 0.9625871\ttotal: 13.8s\tremaining: 5.87s\n",
      "800:\tlearn: 0.7903778\ttotal: 16s\tremaining: 3.97s\n",
      "900:\tlearn: 0.6632416\ttotal: 19.8s\tremaining: 2.18s\n",
      "999:\tlearn: 0.5711841\ttotal: 24.9s\tremaining: 0us\n"
     ]
    }
   ],
   "source": [
    "xgb = XGBRegressor()\n",
    "cat = CatBoostRegressor(verbose=100, early_stopping_rounds=50, random_seed=113)\n",
    "lgbm = LGBMRegressor()\n",
    "linear = LinearRegression()\n",
    "rig = Ridge(alpha=10)\n",
    "\n",
    "model_train(train, test, cat)"
   ]
  },
  {
   "cell_type": "code",
   "execution_count": 43,
   "metadata": {},
   "outputs": [],
   "source": [
    "X = train.drop(['predicted_weight_g', 'Case', 'obs_time', '6time', 'index'], axis=1)\n",
    "y = train['predicted_weight_g']\n",
    "from sklearn.model_selection import StratifiedKFold, KFold\n",
    "\n",
    "skf = KFold(n_splits=5, shuffle=True, random_state=404)\n",
    "\n",
    "folds = []\n",
    "\n",
    "for train_idx, val_idx in skf.split(X, y):\n",
    "    folds.append((train_idx, val_idx))\n",
    "\n",
    "XGB_model = {}\n",
    "\n",
    "for f in range(5):\n",
    "    print(\n",
    "        f'===================================={f+1}============================================')\n",
    "    train_idx, val_idx = folds[f]\n",
    "\n",
    "    x_train, x_val, y_train, y_val = X.iloc[train_idx], X.iloc[val_idx], y.iloc[train_idx], y.iloc[val_idx]\n",
    "\n",
    "    XGB = CatBoostRegressor(random_seed=42, early_stopping_rounds=35, verbose=500)\n",
    "    XGB.fit(x_train, y_train)\n",
    "\n",
    "    y_pred = XGB.predict(x_val)\n",
    "    rmse = mean_squared_error(y_val, y_pred)**0.5\n",
    "    print(f\"{f + 1} Fold RMSE = {rmse}\")\n",
    "    XGB_model[f] = XGB\n",
    "    print(f'================================================================================\\n\\n')\n",
    "\n",
    "\n",
    "submit = test[['DAT', 'predicted_weight_g']]\n",
    "x_test = test.drop(['predicted_weight_g', 'Case', 'obs_time', '6time', 'index'], axis=1)\n",
    "for fold in range(5):\n",
    "    submit['predicted_weight_g'] += XGB_model[fold].predict(x_test)/5\n",
    "all_target_list = sorted(glob.glob('./data/test_target/*.csv'))\n",
    "for idx, test_path in enumerate(all_target_list):\n",
    "    submit_df = pd.read_csv(test_path)\n",
    "    submit_df['predicted_weight_g'] = submit['predicted_weight_g'][idx*28:idx*28+28].values\n",
    "    submit_df.to_csv(test_path, index=False)"
   ]
  },
  {
   "cell_type": "code",
   "execution_count": 71,
   "metadata": {},
   "outputs": [
    {
     "data": {
      "text/html": [
       "<div>\n",
       "<style scoped>\n",
       "    .dataframe tbody tr th:only-of-type {\n",
       "        vertical-align: middle;\n",
       "    }\n",
       "\n",
       "    .dataframe tbody tr th {\n",
       "        vertical-align: top;\n",
       "    }\n",
       "\n",
       "    .dataframe thead th {\n",
       "        text-align: right;\n",
       "    }\n",
       "</style>\n",
       "<table border=\"1\" class=\"dataframe\">\n",
       "  <thead>\n",
       "    <tr style=\"text-align: right;\">\n",
       "      <th></th>\n",
       "      <th>imp</th>\n",
       "    </tr>\n",
       "  </thead>\n",
       "  <tbody>\n",
       "    <tr>\n",
       "      <th>('시간당적색광량', 23)</th>\n",
       "      <td>0.000257</td>\n",
       "    </tr>\n",
       "    <tr>\n",
       "      <th>('시간당총광량', 8)</th>\n",
       "      <td>0.001222</td>\n",
       "    </tr>\n",
       "    <tr>\n",
       "      <th>('ec관측치', 9)</th>\n",
       "      <td>0.001261</td>\n",
       "    </tr>\n",
       "    <tr>\n",
       "      <th>('시간당적색광량', 4)</th>\n",
       "      <td>0.001446</td>\n",
       "    </tr>\n",
       "    <tr>\n",
       "      <th>('ec관측치', 11)</th>\n",
       "      <td>0.001637</td>\n",
       "    </tr>\n",
       "    <tr>\n",
       "      <th>...</th>\n",
       "      <td>...</td>\n",
       "    </tr>\n",
       "    <tr>\n",
       "      <th>('co2관측치', 9)</th>\n",
       "      <td>1.364377</td>\n",
       "    </tr>\n",
       "    <tr>\n",
       "      <th>월간누적백색광량</th>\n",
       "      <td>2.667871</td>\n",
       "    </tr>\n",
       "    <tr>\n",
       "      <th>월간누적적색광량</th>\n",
       "      <td>4.488112</td>\n",
       "    </tr>\n",
       "    <tr>\n",
       "      <th>월간누적분무량</th>\n",
       "      <td>15.613039</td>\n",
       "    </tr>\n",
       "    <tr>\n",
       "      <th>DAT</th>\n",
       "      <td>32.102902</td>\n",
       "    </tr>\n",
       "  </tbody>\n",
       "</table>\n",
       "<p>238 rows × 1 columns</p>\n",
       "</div>"
      ],
      "text/plain": [
       "                       imp\n",
       "('시간당적색광량', 23)   0.000257\n",
       "('시간당총광량', 8)     0.001222\n",
       "('ec관측치', 9)      0.001261\n",
       "('시간당적색광량', 4)    0.001446\n",
       "('ec관측치', 11)     0.001637\n",
       "...                    ...\n",
       "('co2관측치', 9)     1.364377\n",
       "월간누적백색광량          2.667871\n",
       "월간누적적색광량          4.488112\n",
       "월간누적분무량          15.613039\n",
       "DAT              32.102902\n",
       "\n",
       "[238 rows x 1 columns]"
      ]
     },
     "execution_count": 71,
     "metadata": {},
     "output_type": "execute_result"
    }
   ],
   "source": [
    "df_imp = pd.DataFrame({'imp':XGB.feature_importances_}, index = XGB.feature_names_)\n",
    "df_imp = df_imp[df_imp.imp > 0].sort_values('imp').copy()\n",
    "df_imp"
   ]
  },
  {
   "cell_type": "code",
   "execution_count": null,
   "metadata": {},
   "outputs": [],
   "source": []
  }
 ],
 "metadata": {
  "kernelspec": {
   "display_name": "Python 3.9.13 ('base')",
   "language": "python",
   "name": "python3"
  },
  "language_info": {
   "codemirror_mode": {
    "name": "ipython",
    "version": 3
   },
   "file_extension": ".py",
   "mimetype": "text/x-python",
   "name": "python",
   "nbconvert_exporter": "python",
   "pygments_lexer": "ipython3",
   "version": "3.9.13"
  },
  "orig_nbformat": 4,
  "vscode": {
   "interpreter": {
    "hash": "8b89323bfb51462e07b3b44fbe5501f0ab989a383b4d33571ac0c27eb59569d4"
   }
  }
 },
 "nbformat": 4,
 "nbformat_minor": 2
}
