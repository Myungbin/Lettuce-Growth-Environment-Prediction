{
 "cells": [
  {
   "cell_type": "code",
   "execution_count": 8,
   "metadata": {},
   "outputs": [],
   "source": [
    "from tabgan.sampler import OriginalGenerator, GANGenerator\n",
    "import pandas as pd\n",
    "import numpy as np\n",
    "import warnings\n",
    "import sklearn\n",
    "warnings.filterwarnings(action='ignore') "
   ]
  },
  {
   "cell_type": "code",
   "execution_count": 9,
   "metadata": {},
   "outputs": [],
   "source": [
    "train = pd.read_csv('./data/train_all.csv')\n",
    "test = pd.read_csv('./data/test_all.csv')"
   ]
  },
  {
   "cell_type": "code",
   "execution_count": 10,
   "metadata": {},
   "outputs": [],
   "source": [
    "x_train = train.drop(['predicted_weight_g'], axis=1)\n",
    "y_train = pd.DataFrame(train['predicted_weight_g'])\n",
    "test = test.drop(['predicted_weight_g'], axis=1)"
   ]
  },
  {
   "cell_type": "code",
   "execution_count": 14,
   "metadata": {},
   "outputs": [],
   "source": [
    "x_train = x_train.fillna(method='ffill')"
   ]
  },
  {
   "cell_type": "code",
   "execution_count": 15,
   "metadata": {},
   "outputs": [
    {
     "data": {
      "application/vnd.jupyter.widget-view+json": {
       "model_id": "c307f510d91444bc996c284e77658521",
       "version_major": 2,
       "version_minor": 0
      },
      "text/plain": [
       "Fitting CTGAN transformers for each column:   0%|          | 0/18 [00:00<?, ?it/s]"
      ]
     },
     "metadata": {},
     "output_type": "display_data"
    },
    {
     "data": {
      "application/vnd.jupyter.widget-view+json": {
       "model_id": "d5efd783cbb146f8a6793b5b4f894426",
       "version_major": 2,
       "version_minor": 0
      },
      "text/plain": [
       "Training CTGAN, epochs::   0%|          | 0/500 [00:00<?, ?it/s]"
      ]
     },
     "metadata": {},
     "output_type": "display_data"
    }
   ],
   "source": [
    "new_train1, new_target1 = OriginalGenerator().generate_data_pipe(x_train, y_train, test, )\n",
    "new_train2, new_target2 = GANGenerator().generate_data_pipe(x_train, y_train, test, )"
   ]
  },
  {
   "cell_type": "code",
   "execution_count": 22,
   "metadata": {},
   "outputs": [
    {
     "data": {
      "text/html": [
       "<div>\n",
       "<style scoped>\n",
       "    .dataframe tbody tr th:only-of-type {\n",
       "        vertical-align: middle;\n",
       "    }\n",
       "\n",
       "    .dataframe tbody tr th {\n",
       "        vertical-align: top;\n",
       "    }\n",
       "\n",
       "    .dataframe thead th {\n",
       "        text-align: right;\n",
       "    }\n",
       "</style>\n",
       "<table border=\"1\" class=\"dataframe\">\n",
       "  <thead>\n",
       "    <tr style=\"text-align: right;\">\n",
       "      <th></th>\n",
       "      <th>DAT</th>\n",
       "      <th>obs_time</th>\n",
       "      <th>내부온도관측치</th>\n",
       "      <th>내부습도관측치</th>\n",
       "      <th>co2관측치</th>\n",
       "      <th>ec관측치</th>\n",
       "      <th>시간당분무량</th>\n",
       "      <th>일간누적분무량</th>\n",
       "      <th>시간당백색광량</th>\n",
       "      <th>일간누적백색광량</th>\n",
       "      <th>시간당적색광량</th>\n",
       "      <th>일간누적적색광량</th>\n",
       "      <th>시간당청색광량</th>\n",
       "      <th>일간누적청색광량</th>\n",
       "      <th>시간당총광량</th>\n",
       "      <th>일간누적총광량</th>\n",
       "      <th>Case</th>\n",
       "    </tr>\n",
       "  </thead>\n",
       "  <tbody>\n",
       "    <tr>\n",
       "      <th>0</th>\n",
       "      <td>22</td>\n",
       "      <td>16</td>\n",
       "      <td>29.186667</td>\n",
       "      <td>78.476668</td>\n",
       "      <td>532.100000</td>\n",
       "      <td>0.442515</td>\n",
       "      <td>123.400000</td>\n",
       "      <td>1727.600000</td>\n",
       "      <td>0.000000</td>\n",
       "      <td>0.000000</td>\n",
       "      <td>4881.660000</td>\n",
       "      <td>48618.024000</td>\n",
       "      <td>4621.175000</td>\n",
       "      <td>46023.770000</td>\n",
       "      <td>9502.835000</td>\n",
       "      <td>94641.794000</td>\n",
       "      <td>2</td>\n",
       "    </tr>\n",
       "    <tr>\n",
       "      <th>1</th>\n",
       "      <td>22</td>\n",
       "      <td>17</td>\n",
       "      <td>29.986666</td>\n",
       "      <td>79.113333</td>\n",
       "      <td>514.450000</td>\n",
       "      <td>0.432468</td>\n",
       "      <td>123.400000</td>\n",
       "      <td>1851.000000</td>\n",
       "      <td>0.000000</td>\n",
       "      <td>0.000000</td>\n",
       "      <td>4881.660000</td>\n",
       "      <td>53499.684000</td>\n",
       "      <td>4621.175000</td>\n",
       "      <td>50644.945000</td>\n",
       "      <td>9502.835000</td>\n",
       "      <td>104144.629000</td>\n",
       "      <td>2</td>\n",
       "    </tr>\n",
       "    <tr>\n",
       "      <th>2</th>\n",
       "      <td>24</td>\n",
       "      <td>17</td>\n",
       "      <td>28.125000</td>\n",
       "      <td>77.546667</td>\n",
       "      <td>501.950000</td>\n",
       "      <td>0.000000</td>\n",
       "      <td>123.400000</td>\n",
       "      <td>1851.000000</td>\n",
       "      <td>0.000000</td>\n",
       "      <td>0.000000</td>\n",
       "      <td>4881.660000</td>\n",
       "      <td>53473.207200</td>\n",
       "      <td>4621.175000</td>\n",
       "      <td>50619.881000</td>\n",
       "      <td>9502.835000</td>\n",
       "      <td>104093.088200</td>\n",
       "      <td>2</td>\n",
       "    </tr>\n",
       "    <tr>\n",
       "      <th>3</th>\n",
       "      <td>24</td>\n",
       "      <td>16</td>\n",
       "      <td>27.600000</td>\n",
       "      <td>78.182000</td>\n",
       "      <td>501.233333</td>\n",
       "      <td>0.000000</td>\n",
       "      <td>123.400000</td>\n",
       "      <td>1727.600000</td>\n",
       "      <td>0.000000</td>\n",
       "      <td>0.000000</td>\n",
       "      <td>4881.660000</td>\n",
       "      <td>48591.547200</td>\n",
       "      <td>4621.175000</td>\n",
       "      <td>45998.706000</td>\n",
       "      <td>9502.835000</td>\n",
       "      <td>94590.253200</td>\n",
       "      <td>2</td>\n",
       "    </tr>\n",
       "    <tr>\n",
       "      <th>4</th>\n",
       "      <td>23</td>\n",
       "      <td>16</td>\n",
       "      <td>27.421667</td>\n",
       "      <td>78.554999</td>\n",
       "      <td>516.666667</td>\n",
       "      <td>0.000000</td>\n",
       "      <td>123.400000</td>\n",
       "      <td>1727.600000</td>\n",
       "      <td>0.000000</td>\n",
       "      <td>0.000000</td>\n",
       "      <td>4881.660000</td>\n",
       "      <td>48609.750000</td>\n",
       "      <td>4621.175000</td>\n",
       "      <td>46015.937500</td>\n",
       "      <td>9502.835000</td>\n",
       "      <td>94625.687500</td>\n",
       "      <td>2</td>\n",
       "    </tr>\n",
       "    <tr>\n",
       "      <th>...</th>\n",
       "      <td>...</td>\n",
       "      <td>...</td>\n",
       "      <td>...</td>\n",
       "      <td>...</td>\n",
       "      <td>...</td>\n",
       "      <td>...</td>\n",
       "      <td>...</td>\n",
       "      <td>...</td>\n",
       "      <td>...</td>\n",
       "      <td>...</td>\n",
       "      <td>...</td>\n",
       "      <td>...</td>\n",
       "      <td>...</td>\n",
       "      <td>...</td>\n",
       "      <td>...</td>\n",
       "      <td>...</td>\n",
       "      <td>...</td>\n",
       "    </tr>\n",
       "    <tr>\n",
       "      <th>452</th>\n",
       "      <td>6</td>\n",
       "      <td>5</td>\n",
       "      <td>25.642538</td>\n",
       "      <td>65.623273</td>\n",
       "      <td>544.788357</td>\n",
       "      <td>1.025920</td>\n",
       "      <td>1494.178210</td>\n",
       "      <td>15557.522849</td>\n",
       "      <td>3057.897769</td>\n",
       "      <td>199394.277260</td>\n",
       "      <td>2969.381549</td>\n",
       "      <td>736.012965</td>\n",
       "      <td>96.079057</td>\n",
       "      <td>2247.235666</td>\n",
       "      <td>14368.532402</td>\n",
       "      <td>6265.728332</td>\n",
       "      <td>5</td>\n",
       "    </tr>\n",
       "    <tr>\n",
       "      <th>453</th>\n",
       "      <td>5</td>\n",
       "      <td>7</td>\n",
       "      <td>21.917739</td>\n",
       "      <td>58.270802</td>\n",
       "      <td>671.957903</td>\n",
       "      <td>1.246775</td>\n",
       "      <td>1767.905991</td>\n",
       "      <td>7507.984074</td>\n",
       "      <td>2571.652184</td>\n",
       "      <td>731.628649</td>\n",
       "      <td>120.329187</td>\n",
       "      <td>32304.152041</td>\n",
       "      <td>98.602776</td>\n",
       "      <td>6048.286729</td>\n",
       "      <td>31341.759052</td>\n",
       "      <td>6732.676158</td>\n",
       "      <td>1</td>\n",
       "    </tr>\n",
       "    <tr>\n",
       "      <th>454</th>\n",
       "      <td>0</td>\n",
       "      <td>8</td>\n",
       "      <td>22.989488</td>\n",
       "      <td>42.801014</td>\n",
       "      <td>358.290021</td>\n",
       "      <td>0.000333</td>\n",
       "      <td>1071.404506</td>\n",
       "      <td>136.990660</td>\n",
       "      <td>11804.840806</td>\n",
       "      <td>119496.505806</td>\n",
       "      <td>1525.239602</td>\n",
       "      <td>86220.285548</td>\n",
       "      <td>28.490077</td>\n",
       "      <td>23600.760738</td>\n",
       "      <td>19109.592590</td>\n",
       "      <td>168592.540242</td>\n",
       "      <td>2</td>\n",
       "    </tr>\n",
       "    <tr>\n",
       "      <th>455</th>\n",
       "      <td>14</td>\n",
       "      <td>8</td>\n",
       "      <td>33.731622</td>\n",
       "      <td>58.731770</td>\n",
       "      <td>556.032070</td>\n",
       "      <td>1.378547</td>\n",
       "      <td>316.604984</td>\n",
       "      <td>17264.265897</td>\n",
       "      <td>17384.444793</td>\n",
       "      <td>95361.434240</td>\n",
       "      <td>455.407643</td>\n",
       "      <td>31210.942478</td>\n",
       "      <td>77.880536</td>\n",
       "      <td>64194.520428</td>\n",
       "      <td>645.308767</td>\n",
       "      <td>74952.740116</td>\n",
       "      <td>1</td>\n",
       "    </tr>\n",
       "    <tr>\n",
       "      <th>456</th>\n",
       "      <td>4</td>\n",
       "      <td>14</td>\n",
       "      <td>31.208972</td>\n",
       "      <td>57.310880</td>\n",
       "      <td>778.510882</td>\n",
       "      <td>0.499036</td>\n",
       "      <td>92.397765</td>\n",
       "      <td>432.050025</td>\n",
       "      <td>10949.024835</td>\n",
       "      <td>5928.066079</td>\n",
       "      <td>1536.483562</td>\n",
       "      <td>103566.042386</td>\n",
       "      <td>106.985556</td>\n",
       "      <td>1283.278777</td>\n",
       "      <td>487.040273</td>\n",
       "      <td>208868.339752</td>\n",
       "      <td>3</td>\n",
       "    </tr>\n",
       "  </tbody>\n",
       "</table>\n",
       "<p>457 rows × 17 columns</p>\n",
       "</div>"
      ],
      "text/plain": [
       "     DAT  obs_time    내부온도관측치    내부습도관측치      co2관측치     ec관측치       시간당분무량  \\\n",
       "0     22        16  29.186667  78.476668  532.100000  0.442515   123.400000   \n",
       "1     22        17  29.986666  79.113333  514.450000  0.432468   123.400000   \n",
       "2     24        17  28.125000  77.546667  501.950000  0.000000   123.400000   \n",
       "3     24        16  27.600000  78.182000  501.233333  0.000000   123.400000   \n",
       "4     23        16  27.421667  78.554999  516.666667  0.000000   123.400000   \n",
       "..   ...       ...        ...        ...         ...       ...          ...   \n",
       "452    6         5  25.642538  65.623273  544.788357  1.025920  1494.178210   \n",
       "453    5         7  21.917739  58.270802  671.957903  1.246775  1767.905991   \n",
       "454    0         8  22.989488  42.801014  358.290021  0.000333  1071.404506   \n",
       "455   14         8  33.731622  58.731770  556.032070  1.378547   316.604984   \n",
       "456    4        14  31.208972  57.310880  778.510882  0.499036    92.397765   \n",
       "\n",
       "          일간누적분무량       시간당백색광량       일간누적백색광량      시간당적색광량       일간누적적색광량  \\\n",
       "0     1727.600000      0.000000       0.000000  4881.660000   48618.024000   \n",
       "1     1851.000000      0.000000       0.000000  4881.660000   53499.684000   \n",
       "2     1851.000000      0.000000       0.000000  4881.660000   53473.207200   \n",
       "3     1727.600000      0.000000       0.000000  4881.660000   48591.547200   \n",
       "4     1727.600000      0.000000       0.000000  4881.660000   48609.750000   \n",
       "..            ...           ...            ...          ...            ...   \n",
       "452  15557.522849   3057.897769  199394.277260  2969.381549     736.012965   \n",
       "453   7507.984074   2571.652184     731.628649   120.329187   32304.152041   \n",
       "454    136.990660  11804.840806  119496.505806  1525.239602   86220.285548   \n",
       "455  17264.265897  17384.444793   95361.434240   455.407643   31210.942478   \n",
       "456    432.050025  10949.024835    5928.066079  1536.483562  103566.042386   \n",
       "\n",
       "         시간당청색광량      일간누적청색광량        시간당총광량        일간누적총광량  Case  \n",
       "0    4621.175000  46023.770000   9502.835000   94641.794000     2  \n",
       "1    4621.175000  50644.945000   9502.835000  104144.629000     2  \n",
       "2    4621.175000  50619.881000   9502.835000  104093.088200     2  \n",
       "3    4621.175000  45998.706000   9502.835000   94590.253200     2  \n",
       "4    4621.175000  46015.937500   9502.835000   94625.687500     2  \n",
       "..           ...           ...           ...            ...   ...  \n",
       "452    96.079057   2247.235666  14368.532402    6265.728332     5  \n",
       "453    98.602776   6048.286729  31341.759052    6732.676158     1  \n",
       "454    28.490077  23600.760738  19109.592590  168592.540242     2  \n",
       "455    77.880536  64194.520428    645.308767   74952.740116     1  \n",
       "456   106.985556   1283.278777    487.040273  208868.339752     3  \n",
       "\n",
       "[457 rows x 17 columns]"
      ]
     },
     "execution_count": 22,
     "metadata": {},
     "output_type": "execute_result"
    }
   ],
   "source": [
    "new_train2"
   ]
  },
  {
   "cell_type": "code",
   "execution_count": 93,
   "metadata": {},
   "outputs": [
    {
     "data": {
      "application/vnd.jupyter.widget-view+json": {
       "model_id": "d9015f47fa3b4460916445fb772ba7c2",
       "version_major": 2,
       "version_minor": 0
      },
      "text/plain": [
       "Fitting CTGAN transformers for each column:   0%|          | 0/163 [00:00<?, ?it/s]"
      ]
     },
     "metadata": {},
     "output_type": "display_data"
    },
    {
     "data": {
      "application/vnd.jupyter.widget-view+json": {
       "model_id": "1e1bf59afb8e402982f57e84cd68fa95",
       "version_major": 2,
       "version_minor": 0
      },
      "text/plain": [
       "Training CTGAN, epochs::   0%|          | 0/500 [00:00<?, ?it/s]"
      ]
     },
     "metadata": {},
     "output_type": "display_data"
    }
   ],
   "source": [
    "new_train3, new_target3 = GANGenerator(gen_x_times=1.1, cat_cols=None,\n",
    "           bot_filter_quantile=0.001, top_filter_quantile=0.999, is_post_process=True,\n",
    "           adversarial_model_params={\n",
    "               \"metrics\": \"AUC\", \"max_depth\": 2, \"max_bin\": 100, \n",
    "               \"learning_rate\": 0.02, \"random_state\": 42, \"n_estimators\": 500,\n",
    "           }, pregeneration_frac=2, only_generated_data=False,\n",
    "           gan_params = {\"batch_size\": 500, \"patience\": 25, \"epochs\" : 500,}).generate_data_pipe(x_train, y_train,\n",
    "                                          test, deep_copy=True, only_adversarial=False, use_adversarial=True)"
   ]
  },
  {
   "cell_type": "code",
   "execution_count": 17,
   "metadata": {},
   "outputs": [
    {
     "ename": "AttributeError",
     "evalue": "module 'sklearn' has no attribute 'datasets'",
     "output_type": "error",
     "traceback": [
      "\u001b[1;31m---------------------------------------------------------------------------\u001b[0m",
      "\u001b[1;31mAttributeError\u001b[0m                            Traceback (most recent call last)",
      "\u001b[1;32mc:\\mb_job\\project\\Competition\\Lettuce-Growth-Environment-Prediction\\GAN\\GAN_for_tabular.ipynb 셀 5\u001b[0m in \u001b[0;36m<cell line: 7>\u001b[1;34m()\u001b[0m\n\u001b[0;32m      <a href='vscode-notebook-cell:/c%3A/mb_job/project/Competition/Lettuce-Growth-Environment-Prediction/GAN/GAN_for_tabular.ipynb#X15sZmlsZQ%3D%3D?line=1'>2</a>\u001b[0m     clf\u001b[39m.\u001b[39mfit(X_train, y_train)\n\u001b[0;32m      <a href='vscode-notebook-cell:/c%3A/mb_job/project/Competition/Lettuce-Growth-Environment-Prediction/GAN/GAN_for_tabular.ipynb#X15sZmlsZQ%3D%3D?line=2'>3</a>\u001b[0m     \u001b[39mreturn\u001b[39;00m sklearn\u001b[39m.\u001b[39mmetrics\u001b[39m.\u001b[39mroc_auc_score(y_test, clf\u001b[39m.\u001b[39mpredict_proba(X_test)[:, \u001b[39m1\u001b[39m])\n\u001b[1;32m----> <a href='vscode-notebook-cell:/c%3A/mb_job/project/Competition/Lettuce-Growth-Environment-Prediction/GAN/GAN_for_tabular.ipynb#X15sZmlsZQ%3D%3D?line=6'>7</a>\u001b[0m dataset \u001b[39m=\u001b[39m sklearn\u001b[39m.\u001b[39;49mdatasets\u001b[39m.\u001b[39mload_breast_cancer()\n\u001b[0;32m      <a href='vscode-notebook-cell:/c%3A/mb_job/project/Competition/Lettuce-Growth-Environment-Prediction/GAN/GAN_for_tabular.ipynb#X15sZmlsZQ%3D%3D?line=7'>8</a>\u001b[0m clf \u001b[39m=\u001b[39m sklearn\u001b[39m.\u001b[39mensemble\u001b[39m.\u001b[39mRandomForestClassifier(n_estimators\u001b[39m=\u001b[39m\u001b[39m25\u001b[39m, max_depth\u001b[39m=\u001b[39m\u001b[39m6\u001b[39m)\n\u001b[0;32m      <a href='vscode-notebook-cell:/c%3A/mb_job/project/Competition/Lettuce-Growth-Environment-Prediction/GAN/GAN_for_tabular.ipynb#X15sZmlsZQ%3D%3D?line=8'>9</a>\u001b[0m X_train, X_test, y_train, y_test \u001b[39m=\u001b[39m sklearn\u001b[39m.\u001b[39mmodel_selection\u001b[39m.\u001b[39mtrain_test_split(\n\u001b[0;32m     <a href='vscode-notebook-cell:/c%3A/mb_job/project/Competition/Lettuce-Growth-Environment-Prediction/GAN/GAN_for_tabular.ipynb#X15sZmlsZQ%3D%3D?line=9'>10</a>\u001b[0m     pd\u001b[39m.\u001b[39mDataFrame(dataset\u001b[39m.\u001b[39mdata), pd\u001b[39m.\u001b[39mDataFrame(dataset\u001b[39m.\u001b[39mtarget, columns\u001b[39m=\u001b[39m[\u001b[39m\"\u001b[39m\u001b[39mtarget\u001b[39m\u001b[39m\"\u001b[39m]), test_size\u001b[39m=\u001b[39m\u001b[39m0.33\u001b[39m, random_state\u001b[39m=\u001b[39m\u001b[39m42\u001b[39m)\n",
      "\u001b[1;31mAttributeError\u001b[0m: module 'sklearn' has no attribute 'datasets'"
     ]
    }
   ],
   "source": [
    "def fit_predict(clf, X_train, y_train, X_test, y_test):\n",
    "    clf.fit(X_train, y_train)\n",
    "    return sklearn.metrics.roc_auc_score(y_test, clf.predict_proba(X_test)[:, 1])\n",
    "\n",
    "\n",
    "\n",
    "dataset = sklearn.datasets.load_breast_cancer()\n",
    "clf = sklearn.ensemble.RandomForestClassifier(n_estimators=25, max_depth=6)\n",
    "X_train, X_test, y_train, y_test = sklearn.model_selection.train_test_split(\n",
    "    pd.DataFrame(dataset.data), pd.DataFrame(dataset.target, columns=[\"target\"]), test_size=0.33, random_state=42)\n",
    "print(\"initial metric\", fit_predict(clf, X_train, y_train, X_test, y_test))\n",
    "\n",
    "new_train1, new_target1 = OriginalGenerator().generate_data_pipe(X_train, y_train, X_test, )\n",
    "print(\"OriginalGenerator metric\", fit_predict(clf, new_train1, new_target1, X_test, y_test))\n",
    "\n",
    "new_train1, new_target1 = GANGenerator().generate_data_pipe(X_train, y_train, X_test, )\n",
    "print(\"GANGenerator metric\", fit_predict(clf, new_train1, new_target1, X_test, y_test))"
   ]
  },
  {
   "cell_type": "code",
   "execution_count": 22,
   "metadata": {},
   "outputs": [],
   "source": [
    "import torch\n",
    "\n",
    "batch_size, N, K = 3, 10, 256\n",
    "\n",
    "x = torch.rand(batch_size, N, K) # [M, N, K]\n",
    "y = torch.rand(batch_size, N, K) # [M, N, K]\n",
    "\n",
    "output1 = torch.cat([x,y], dim=1) #[M, N+N, K]\n",
    "output2 = torch.cat([x,y], dim=2) #[M, N, K+K]"
   ]
  },
  {
   "cell_type": "code",
   "execution_count": 27,
   "metadata": {},
   "outputs": [
    {
     "name": "stdout",
     "output_type": "stream",
     "text": [
      "torch.Size([3, 10, 256])\n",
      "torch.Size([3, 10, 256])\n",
      "torch.Size([3, 20, 256])\n",
      "torch.Size([3, 10, 512])\n"
     ]
    }
   ],
   "source": [
    "print(x.shape)\n",
    "print(y.shape)\n",
    "print(output1.shape)\n",
    "print(output2.shape)"
   ]
  },
  {
   "attachments": {},
   "cell_type": "markdown",
   "metadata": {},
   "source": [
    "torch.cat의 dim=1이면 행의 개수더하기\n",
    "torch.cat의 dim=2면 열의 개수더하기\n"
   ]
  }
 ],
 "metadata": {
  "kernelspec": {
   "display_name": "Python 3",
   "language": "python",
   "name": "python3"
  },
  "language_info": {
   "codemirror_mode": {
    "name": "ipython",
    "version": 3
   },
   "file_extension": ".py",
   "mimetype": "text/x-python",
   "name": "python",
   "nbconvert_exporter": "python",
   "pygments_lexer": "ipython3",
   "version": "3.8.10"
  },
  "orig_nbformat": 4,
  "vscode": {
   "interpreter": {
    "hash": "b081a66ee97bd2b6a16f43955f1d810b7ea816d6eaeb65e157ef9e038445f0c6"
   }
  }
 },
 "nbformat": 4,
 "nbformat_minor": 2
}
