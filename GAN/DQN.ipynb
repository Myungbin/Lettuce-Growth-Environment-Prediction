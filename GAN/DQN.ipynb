{
 "cells": [
  {
   "cell_type": "code",
   "execution_count": 1,
   "metadata": {},
   "outputs": [],
   "source": [
    "import math\n",
    "import random\n",
    "import numpy as np\n",
    "import pandas as pd\n",
    "import tensorflow as tf\n",
    "import matplotlib.pyplot as plt\n",
    "import joblib\n",
    "\n",
    "from tqdm import tqdm_notebook, tqdm\n",
    "from collections import deque"
   ]
  },
  {
   "cell_type": "code",
   "execution_count": 2,
   "metadata": {},
   "outputs": [],
   "source": [
    "class AI_Feature():\n",
    "    \n",
    "    def __init__(self, state_size, action_space=2, model_name=\"TestM\"): # action = feature 값을 올린다, 떨어트린다\n",
    "        self.state_size = state_size\n",
    "        self.action_space = action_space\n",
    "        \n",
    "        # 모델 파라미터\n",
    "        self.memory = deque(maxlen=2000)\n",
    "        self.inventory = []\n",
    "        self.model_name = model_name\n",
    "        \n",
    "        self.gamma = 0.95 # 장기간 보상 대비 현재 보상을 최대화\n",
    "        self.epsilon = 1.0 # 무작위 행동 or 모델을 사용할지\n",
    "        self.epsilon_final = 0.01 # \n",
    "        self.epsilon_decay = 0.995\n",
    "        \n",
    "        self.model = self.model_builder() \n",
    "        \n",
    "    def model_builder(self):\n",
    "        model = tf.keras.models.Sequential()\n",
    "        \n",
    "        model.add(tf.keras.layers.Dense(units=32, activation='relu', input_dim=self.state_size))\n",
    "        \n",
    "        model.add(tf.keras.layers.Dense(units=64, activation='relu'))\n",
    "        \n",
    "        model.add(tf.keras.layers.Dense(units=128, activation='relu'))\n",
    "        \n",
    "        model.add(tf.keras.layers.Dense(units=self.action_space, activation='linear'))\n",
    "        \n",
    "        model.compile(loss='mse', optimizer=tf.keras.optimizers.Adam(lr=1e-3))\n",
    "        \n",
    "        return model\n",
    "    \n",
    "    # 특정 상태에서 수행할 행동\n",
    "    def trade(self, state):\n",
    "        \"\"\"\n",
    "        1. 상태를 입력으로 가져와 무작위 숫자 생성\n",
    "        2. 무작위수가 epsilon보다 작거나 같으면 무작위 행동 수행(처음에는 무조건 작음) => returen이 우리가 할 행동\n",
    "        3. 무작위수가 epsilon보다 큰 경우 가능성이 높은 행동 반환\n",
    "        \"\"\"        \n",
    "        # 무작위수가 epsilon보다 작거나 같으면 무작위 행동 수행\n",
    "        # 무작위 행동 => 값을 올리거나 떨어트리거나\n",
    "        if random.random() <= self.epsilon:\n",
    "            return random.randrange(self.action_space)\n",
    "        # 무작위수가 epsilon보다 큰 경우 모델을 사용할때 수행할 행동\n",
    "        actions = self.model.predict(state) # 상태를 예측\n",
    "        return np.argmax(actions[0]) # 가장 가능성이 높은 행동 반환\n",
    "    \n",
    "    \n",
    "    def batch_trade(self, batch_szie):\n",
    "        \n",
    "        batch = []\n",
    "        \n",
    "        for i in range(len(self.memory) - batch_szie + 1, len(self.memory)):\n",
    "            batch.append(self.memory[i])\n",
    "        \n",
    "        for state, action, reward, next_state, done in batch:\n",
    "            reward = reward\n",
    "            if not done: # agent가 종료상태가 아님을 확인, \n",
    "                reward = reward + self.gamma * np.amax(self.model.predict(next_state)[0]) # 모델로 예측한 목표변수를 정의한 후의 할인된 총 보상\n",
    "                \n",
    "            target = self.model.predict(state) # 행동을 현재보상으로 수정(mse를 쓰는 이유)\n",
    "            target[0][action] = reward # \n",
    "            \n",
    "            self.model.fit(state, target, epochs=1, verbose=0) # 배치마다 모델을 학습\n",
    "            \n",
    "        if self.epsilon > self.epsilon_final: # 앱실론 파라미터 감소\n",
    "            self.epsilon *= self.epsilon_decay"
   ]
  },
  {
   "cell_type": "code",
   "execution_count": 3,
   "metadata": {},
   "outputs": [],
   "source": [
    "def sigmoid(x):\n",
    "    return 1 / (1 + math.exp(-x))"
   ]
  },
  {
   "cell_type": "code",
   "execution_count": 7,
   "metadata": {},
   "outputs": [],
   "source": [
    "base_model = joblib.load('../base.pkl') "
   ]
  },
  {
   "cell_type": "code",
   "execution_count": 21,
   "metadata": {},
   "outputs": [],
   "source": [
    "data = pd.read_csv('train.csv')\n",
    "data = data.drop(['predicted_weight_g', 'Case', 'obs_time'], axis=1)"
   ]
  },
  {
   "cell_type": "code",
   "execution_count": 31,
   "metadata": {},
   "outputs": [
    {
     "data": {
      "text/plain": [
       "array([1.78119233])"
      ]
     },
     "execution_count": 31,
     "metadata": {},
     "output_type": "execute_result"
    }
   ],
   "source": [
    "test_data = data[:1]\n",
    "tlqkf = test_data-0.05\n",
    "base_model.predict(tlqkf)"
   ]
  }
 ],
 "metadata": {
  "kernelspec": {
   "display_name": "Python 3",
   "language": "python",
   "name": "python3"
  },
  "language_info": {
   "codemirror_mode": {
    "name": "ipython",
    "version": 3
   },
   "file_extension": ".py",
   "mimetype": "text/x-python",
   "name": "python",
   "nbconvert_exporter": "python",
   "pygments_lexer": "ipython3",
   "version": "3.8.10 (tags/v3.8.10:3d8993a, May  3 2021, 11:48:03) [MSC v.1928 64 bit (AMD64)]"
  },
  "orig_nbformat": 4,
  "vscode": {
   "interpreter": {
    "hash": "b081a66ee97bd2b6a16f43955f1d810b7ea816d6eaeb65e157ef9e038445f0c6"
   }
  }
 },
 "nbformat": 4,
 "nbformat_minor": 2
}
