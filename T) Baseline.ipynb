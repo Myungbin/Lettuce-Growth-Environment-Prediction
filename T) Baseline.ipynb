{
 "cells": [
  {
   "cell_type": "code",
   "execution_count": 45,
   "metadata": {},
   "outputs": [],
   "source": [
    "from feature.make_dataset import make_data\n",
    "from feature.after_dataset import accumulate\n",
    "import pandas as pd\n",
    "from glob import glob\n",
    "from sklearn.metrics import mean_squared_error\n",
    "from sklearn.model_selection import train_test_split\n",
    "import glob\n",
    "from xgboost import XGBRegressor\n",
    "from catboost import CatBoostRegressor\n",
    "from lightgbm import LGBMRegressor\n",
    "from sklearn.linear_model import LinearRegression\n",
    "import warnings\n",
    "warnings.filterwarnings('ignore')\n"
   ]
  },
  {
   "cell_type": "code",
   "execution_count": 46,
   "metadata": {},
   "outputs": [],
   "source": [
    "train_input_list = './data/train_input/*.csv'\n",
    "train_target_list = './data/train_target/*.csv'\n",
    "\n",
    "test_input_list = './data/test_input/*.csv'\n",
    "test_target_list = './data/test_target/*.csv'"
   ]
  },
  {
   "cell_type": "code",
   "execution_count": 47,
   "metadata": {},
   "outputs": [],
   "source": [
    "train, test, p_train, p_test = make_data(train_input_list, train_target_list, test_input_list, test_target_list)"
   ]
  },
  {
   "cell_type": "code",
   "execution_count": 48,
   "metadata": {},
   "outputs": [],
   "source": [
    "train_1 = pd.read_csv('./data/preprocessing/train_quantile0.25.csv')\n",
    "test_1 = pd.read_csv('./data/preprocessing/test_quantile0.25.csv')\n",
    "train_3 = pd.read_csv('./data/preprocessing/train_quantile0.75.csv')\n",
    "test_3 = pd.read_csv('./data/preprocessing/test_quantile0.75.csv')\n",
    "train_std = pd.read_csv('./data/preprocessing/train_std.csv')\n",
    "test_std = pd.read_csv('./data/preprocessing/test_std.csv')\n",
    "# train_mid = pd.read_csv('./data/preprocessing/train_median.csv')\n",
    "# test_mid = pd.read_csv('./data/preprocessing/test_median.csv')\n",
    "# train_sem = pd.read_csv('./data/preprocessing/train_sem.csv')\n",
    "# test_sem = pd.read_csv('./data/preprocessing/test_sem.csv')"
   ]
  },
  {
   "cell_type": "code",
   "execution_count": 49,
   "metadata": {},
   "outputs": [],
   "source": [
    "train_3.columns = [col+' 3' for col in train_3.columns]\n",
    "test_3.columns = [col+' 3' for col in test_3.columns]\n",
    "train_1.columns = [col+' 1' for col in train_1.columns]\n",
    "test_1.columns = [col+' 1' for col in test_1.columns]\n",
    "train_std.columns = [col+' std' for col in train_std.columns]\n",
    "test_std.columns = [col+' std' for col in test_std.columns]\n",
    "# train_mid.columns = [col+' mid' for col in train_mid.columns]\n",
    "# test_mid.columns = [col+' mid' for col in test_mid.columns]\n",
    "# train_sem.columns = [col+' sem' for col in train_sem.columns]\n",
    "# test_sem.columns = [col+' sem' for col in test_sem.columns]"
   ]
  },
  {
   "cell_type": "code",
   "execution_count": 50,
   "metadata": {},
   "outputs": [],
   "source": [
    "train = train.reset_index()\n",
    "test  = test.reset_index()\n",
    "train_3 = train_3.reset_index()\n",
    "test_3 = test_3.reset_index()\n",
    "train_1 = train_1.reset_index()\n",
    "test_1 = test_1.reset_index()\n",
    "train_std = train_std.reset_index()\n",
    "test_std = test_std.reset_index()\n",
    "# train_mid = train_mid.reset_index()\n",
    "# test_mid = test_mid.reset_index()\n",
    "# train_sem = train_sem.reset_index()\n",
    "# test_sem = test_sem.reset_index()\n"
   ]
  },
  {
   "cell_type": "code",
   "execution_count": 51,
   "metadata": {},
   "outputs": [],
   "source": [
    "train = pd.concat([train, train_1, train_3, train_std], axis=1)\n",
    "test = pd.concat([test, test_1, test_3, test_std], axis=1)"
   ]
  },
  {
   "cell_type": "code",
   "execution_count": 52,
   "metadata": {},
   "outputs": [],
   "source": [
    "train = train.drop(['index'], axis=1)\n",
    "test = test.drop(['index'], axis=1)"
   ]
  },
  {
   "cell_type": "code",
   "execution_count": 53,
   "metadata": {},
   "outputs": [],
   "source": [
    "train = pd.concat([train, p_train], axis=1)\n",
    "test = pd.concat([test, p_test], axis=1)"
   ]
  },
  {
   "cell_type": "code",
   "execution_count": 54,
   "metadata": {},
   "outputs": [],
   "source": [
    "accumulate(train, test, '누적분무량')\n",
    "accumulate(train, test, '누적백색광량')\n",
    "accumulate(train, test, '누적청색광량')\n",
    "accumulate(train, test, '누적적색광량')\n",
    "accumulate(train, test, '누적총광량')"
   ]
  },
  {
   "cell_type": "code",
   "execution_count": 55,
   "metadata": {},
   "outputs": [],
   "source": [
    "def model_train(train, test, model):\n",
    "    '''\n",
    "    train shape = (784, 18), test shape = (140, 18)\n",
    "    model => sklearn api model\n",
    "    '''\n",
    "\n",
    "    X = train.drop(['predicted_weight_g', 'Case', 'obs_time'], axis=1)\n",
    "    y = train['predicted_weight_g']\n",
    "\n",
    "    X_train, X_val, y_train, y_val = train_test_split(X, y, test_size=0.3, random_state=113, shuffle=True)\n",
    "    \n",
    "    x_test = test.drop(['predicted_weight_g', 'Case', 'obs_time'], axis=1)\n",
    "    \n",
    "    model.fit(X_train, y_train)\n",
    "    y_val_pred = model.predict(X_val)\n",
    "\n",
    "    rmse = mean_squared_error(y_val, y_val_pred)**0.5\n",
    "    print(f\"validation rmse: {rmse}\")\n",
    "    \n",
    "    x_train = train.drop(['predicted_weight_g', 'Case', 'obs_time'], axis=1)\n",
    "    y_train = train['predicted_weight_g']\n",
    "    \n",
    "    model.fit(x_train, y_train)\n",
    "    y_pred = model.predict(x_test)\n",
    "    x_test['predicted_weight_g'] = y_pred\n",
    "    submit = x_test[['DAT', 'predicted_weight_g']]\n",
    "    submit['DAT'] = submit['DAT']+1\n",
    "    all_target_list = sorted(glob.glob('./data/test_target/*.csv'))\n",
    "    for idx, test_path in enumerate(all_target_list):\n",
    "        submit_df = pd.read_csv(test_path)\n",
    "        submit_df['predicted_weight_g'] = submit['predicted_weight_g'][idx*28:idx*28+28].values\n",
    "        submit_df.to_csv(test_path, index=False)"
   ]
  },
  {
   "cell_type": "code",
   "execution_count": 56,
   "metadata": {},
   "outputs": [
    {
     "name": "stdout",
     "output_type": "stream",
     "text": [
      "Learning rate set to 0.037333\n",
      "0:\tlearn: 40.7184677\ttotal: 9.4ms\tremaining: 9.39s\n",
      "100:\tlearn: 7.8527340\ttotal: 986ms\tremaining: 8.78s\n",
      "200:\tlearn: 5.6067142\ttotal: 2s\tremaining: 7.96s\n",
      "300:\tlearn: 4.9664862\ttotal: 2.99s\tremaining: 6.94s\n",
      "400:\tlearn: 4.6977367\ttotal: 3.96s\tremaining: 5.92s\n",
      "500:\tlearn: 4.3434528\ttotal: 4.87s\tremaining: 4.85s\n",
      "600:\tlearn: 4.1191460\ttotal: 5.86s\tremaining: 3.89s\n",
      "700:\tlearn: 3.8981229\ttotal: 6.85s\tremaining: 2.92s\n",
      "800:\tlearn: 3.5081550\ttotal: 7.79s\tremaining: 1.94s\n",
      "900:\tlearn: 3.2652689\ttotal: 8.72s\tremaining: 958ms\n",
      "999:\tlearn: 3.1221828\ttotal: 9.69s\tremaining: 0us\n",
      "validation rmse: 9.12521808631475\n",
      "Learning rate set to 0.039126\n",
      "0:\tlearn: 40.3252323\ttotal: 11.1ms\tremaining: 11.1s\n",
      "100:\tlearn: 6.9754696\ttotal: 1.01s\tremaining: 9.01s\n",
      "200:\tlearn: 5.0427961\ttotal: 1.99s\tremaining: 7.9s\n",
      "300:\tlearn: 4.5843875\ttotal: 2.98s\tremaining: 6.91s\n",
      "400:\tlearn: 4.2436538\ttotal: 3.98s\tremaining: 5.95s\n",
      "500:\tlearn: 4.0011902\ttotal: 4.99s\tremaining: 4.97s\n",
      "600:\tlearn: 3.7480191\ttotal: 5.94s\tremaining: 3.94s\n",
      "700:\tlearn: 3.5437117\ttotal: 6.84s\tremaining: 2.92s\n",
      "800:\tlearn: 3.3989259\ttotal: 7.75s\tremaining: 1.93s\n",
      "900:\tlearn: 3.3514640\ttotal: 8.71s\tremaining: 957ms\n",
      "999:\tlearn: 3.3080312\ttotal: 9.67s\tremaining: 0us\n"
     ]
    }
   ],
   "source": [
    "xgb = XGBRegressor()\n",
    "cat = CatBoostRegressor(verbose=100, early_stopping_rounds=50, task_type=\"GPU\", random_seed=113)\n",
    "lgbm = LGBMRegressor()\n",
    "linear = LinearRegression()\n",
    "\n",
    "model_train(train, test, cat)"
   ]
  },
  {
   "cell_type": "code",
   "execution_count": 57,
   "metadata": {},
   "outputs": [
    {
     "data": {
      "text/html": [
       "<div>\n",
       "<style scoped>\n",
       "    .dataframe tbody tr th:only-of-type {\n",
       "        vertical-align: middle;\n",
       "    }\n",
       "\n",
       "    .dataframe tbody tr th {\n",
       "        vertical-align: top;\n",
       "    }\n",
       "\n",
       "    .dataframe thead th {\n",
       "        text-align: right;\n",
       "    }\n",
       "</style>\n",
       "<table border=\"1\" class=\"dataframe\">\n",
       "  <thead>\n",
       "    <tr style=\"text-align: right;\">\n",
       "      <th></th>\n",
       "      <th>imp</th>\n",
       "    </tr>\n",
       "  </thead>\n",
       "  <tbody>\n",
       "    <tr>\n",
       "      <th>('ec관측치', 2.0)</th>\n",
       "      <td>0.000040</td>\n",
       "    </tr>\n",
       "    <tr>\n",
       "      <th>('시간당백색광량', 1.0)</th>\n",
       "      <td>0.000047</td>\n",
       "    </tr>\n",
       "    <tr>\n",
       "      <th>('시간당적색광량', 1.0)</th>\n",
       "      <td>0.000179</td>\n",
       "    </tr>\n",
       "    <tr>\n",
       "      <th>('시간당백색광량', 4.0)</th>\n",
       "      <td>0.000292</td>\n",
       "    </tr>\n",
       "    <tr>\n",
       "      <th>('시간당적색광량', 3.0)</th>\n",
       "      <td>0.000315</td>\n",
       "    </tr>\n",
       "    <tr>\n",
       "      <th>...</th>\n",
       "      <td>...</td>\n",
       "    </tr>\n",
       "    <tr>\n",
       "      <th>시간당총광량 std</th>\n",
       "      <td>5.102149</td>\n",
       "    </tr>\n",
       "    <tr>\n",
       "      <th>월간누적적색광량</th>\n",
       "      <td>10.297923</td>\n",
       "    </tr>\n",
       "    <tr>\n",
       "      <th>월간누적백색광량</th>\n",
       "      <td>10.431380</td>\n",
       "    </tr>\n",
       "    <tr>\n",
       "      <th>월간누적분무량</th>\n",
       "      <td>20.194500</td>\n",
       "    </tr>\n",
       "    <tr>\n",
       "      <th>DAT</th>\n",
       "      <td>24.507984</td>\n",
       "    </tr>\n",
       "  </tbody>\n",
       "</table>\n",
       "<p>102 rows × 1 columns</p>\n",
       "</div>"
      ],
      "text/plain": [
       "                        imp\n",
       "('ec관측치', 2.0)     0.000040\n",
       "('시간당백색광량', 1.0)   0.000047\n",
       "('시간당적색광량', 1.0)   0.000179\n",
       "('시간당백색광량', 4.0)   0.000292\n",
       "('시간당적색광량', 3.0)   0.000315\n",
       "...                     ...\n",
       "시간당총광량 std         5.102149\n",
       "월간누적적색광량          10.297923\n",
       "월간누적백색광량          10.431380\n",
       "월간누적분무량           20.194500\n",
       "DAT               24.507984\n",
       "\n",
       "[102 rows x 1 columns]"
      ]
     },
     "execution_count": 57,
     "metadata": {},
     "output_type": "execute_result"
    }
   ],
   "source": [
    "df_imp = pd.DataFrame({'imp':cat.feature_importances_}, index = cat.feature_names_)\n",
    "df_imp = df_imp[df_imp.imp > 0].sort_values('imp').copy()\n",
    "df_imp"
   ]
  },
  {
   "cell_type": "code",
   "execution_count": null,
   "metadata": {},
   "outputs": [],
   "source": []
  }
 ],
 "metadata": {
  "kernelspec": {
   "display_name": "Python 3.8.10 64-bit",
   "language": "python",
   "name": "python3"
  },
  "language_info": {
   "codemirror_mode": {
    "name": "ipython",
    "version": 3
   },
   "file_extension": ".py",
   "mimetype": "text/x-python",
   "name": "python",
   "nbconvert_exporter": "python",
   "pygments_lexer": "ipython3",
   "version": "3.8.10"
  },
  "orig_nbformat": 4,
  "vscode": {
   "interpreter": {
    "hash": "b081a66ee97bd2b6a16f43955f1d810b7ea816d6eaeb65e157ef9e038445f0c6"
   }
  }
 },
 "nbformat": 4,
 "nbformat_minor": 2
}
