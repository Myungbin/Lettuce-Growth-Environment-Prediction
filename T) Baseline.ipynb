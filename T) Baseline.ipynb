{
 "cells": [
  {
   "cell_type": "code",
   "execution_count": 39,
   "metadata": {},
   "outputs": [],
   "source": [
    "from feature.make_dataset import make_data\n",
    "import pandas as pd\n",
    "from glob import glob\n",
    "from sklearn.metrics import mean_squared_error\n",
    "from sklearn.model_selection import train_test_split\n",
    "import glob\n",
    "from xgboost import XGBRegressor\n",
    "from catboost import CatBoostRegressor\n",
    "from lightgbm import LGBMRegressor\n",
    "from sklearn.linear_model import LinearRegression"
   ]
  },
  {
   "cell_type": "code",
   "execution_count": 40,
   "metadata": {},
   "outputs": [],
   "source": [
    "train_input_list = './data/train_input/*.csv'\n",
    "train_target_list = './data/train_target/*.csv'\n",
    "\n",
    "test_input_list = './data/test_input/*.csv'\n",
    "test_target_list = './data/test_target/*.csv'"
   ]
  },
  {
   "cell_type": "code",
   "execution_count": 41,
   "metadata": {},
   "outputs": [
    {
     "name": "stderr",
     "output_type": "stream",
     "text": [
      "c:\\mb_job\\project\\Competition\\Lettuce-Growth-Environment-Prediction\\feature\\base_dataset.py:58: SettingWithCopyWarning: \n",
      "A value is trying to be set on a copy of a slice from a DataFrame\n",
      "\n",
      "See the caveats in the documentation: https://pandas.pydata.org/pandas-docs/stable/user_guide/indexing.html#returning-a-view-versus-a-copy\n",
      "  df[cum_col][i*24:(i+1)*24] = cumsum\n",
      "c:\\mb_job\\project\\Competition\\Lettuce-Growth-Environment-Prediction\\feature\\base_dataset.py:72: SettingWithCopyWarning: \n",
      "A value is trying to be set on a copy of a slice from a DataFrame\n",
      "\n",
      "See the caveats in the documentation: https://pandas.pydata.org/pandas-docs/stable/user_guide/indexing.html#returning-a-view-versus-a-copy\n",
      "  df[cum_col][i*24:(i+1)*24] = cumsum\n"
     ]
    }
   ],
   "source": [
    "train, test, p_train, p_test = make_data(train_input_list, train_target_list, test_input_list, test_target_list)"
   ]
  },
  {
   "cell_type": "code",
   "execution_count": 42,
   "metadata": {},
   "outputs": [],
   "source": [
    "train_1 = pd.read_csv('./data/preprocessing/train_quantile1.csv')\n",
    "test_1 = pd.read_csv('./data/preprocessing/test_quantile1.csv')\n",
    "train_3 = pd.read_csv('./data/preprocessing/train_quantile3.csv')\n",
    "test_3 = pd.read_csv('./data/preprocessing/test_quantile3.csv')\n",
    "train_std = pd.read_csv('./data/preprocessing/train_std.csv')\n",
    "test_std = pd.read_csv('./data/preprocessing/test_std.csv')"
   ]
  },
  {
   "cell_type": "code",
   "execution_count": 43,
   "metadata": {},
   "outputs": [],
   "source": [
    "train_1 = train_1[['내부온도관측치', '내부습도관측치', 'co2관측치', 'ec관측치', '시간당분무량',\n",
    "                  '일간누적분무량', '시간당백색광량', '일간누적백색광량', '시간당적색광량', '일간누적적색광량', '시간당청색광량',\n",
    "                  '일간누적청색광량', '시간당총광량', '일간누적총광량']]\n",
    "test_1 = test_1[['내부온도관측치', '내부습도관측치', 'co2관측치', 'ec관측치', '시간당분무량',\n",
    "                  '일간누적분무량', '시간당백색광량', '일간누적백색광량', '시간당적색광량', '일간누적적색광량', '시간당청색광량',\n",
    "                  '일간누적청색광량', '시간당총광량', '일간누적총광량']]\n",
    "train_3 = train_3[['내부온도관측치', '내부습도관측치', 'co2관측치', 'ec관측치', '시간당분무량',\n",
    "                  '일간누적분무량', '시간당백색광량', '일간누적백색광량', '시간당적색광량', '일간누적적색광량', '시간당청색광량',\n",
    "                  '일간누적청색광량', '시간당총광량', '일간누적총광량']]\n",
    "test_3 = test_3[['내부온도관측치', '내부습도관측치', 'co2관측치', 'ec관측치', '시간당분무량',\n",
    "                  '일간누적분무량', '시간당백색광량', '일간누적백색광량', '시간당적색광량', '일간누적적색광량', '시간당청색광량',\n",
    "                  '일간누적청색광량', '시간당총광량', '일간누적총광량']]\n",
    "train_std = train_std[['내부온도관측치', '내부습도관측치', 'co2관측치', 'ec관측치', '시간당분무량',\n",
    "                  '일간누적분무량', '시간당백색광량', '일간누적백색광량', '시간당적색광량', '일간누적적색광량', '시간당청색광량',\n",
    "                  '일간누적청색광량', '시간당총광량', '일간누적총광량']]\n",
    "test_std = test_std[['내부온도관측치', '내부습도관측치', 'co2관측치', 'ec관측치', '시간당분무량',\n",
    "                  '일간누적분무량', '시간당백색광량', '일간누적백색광량', '시간당적색광량', '일간누적적색광량', '시간당청색광량',\n",
    "                  '일간누적청색광량', '시간당총광량', '일간누적총광량']]\n"
   ]
  },
  {
   "cell_type": "code",
   "execution_count": 44,
   "metadata": {},
   "outputs": [],
   "source": [
    "train_3.columns = [col+'3' for col in train_3.columns]\n",
    "test_3.columns = [col+'3' for col in test_3.columns]\n",
    "train_1.columns = [col+'1' for col in train_1.columns]\n",
    "test_1.columns = [col+'1' for col in test_1.columns]\n",
    "train_std.columns = [col+'std' for col in train_std.columns]\n",
    "test_std.columns = [col+'std' for col in test_std.columns]"
   ]
  },
  {
   "cell_type": "code",
   "execution_count": 45,
   "metadata": {},
   "outputs": [],
   "source": [
    "train = train.reset_index()\n",
    "test  = test.reset_index()\n",
    "train_3 = train_3.reset_index()\n",
    "test_3 = test_3.reset_index()\n",
    "train_1 = train_1.reset_index()\n",
    "test_1 = test_1.reset_index()\n",
    "train_std = train_std.reset_index()\n",
    "test_std = test_std.reset_index()\n"
   ]
  },
  {
   "cell_type": "code",
   "execution_count": 46,
   "metadata": {},
   "outputs": [],
   "source": [
    "train = pd.concat([train, train_1, train_3, train_std], axis=1)\n",
    "test = pd.concat([test, test_1, test_3, test_std], axis=1)"
   ]
  },
  {
   "cell_type": "code",
   "execution_count": 47,
   "metadata": {},
   "outputs": [],
   "source": [
    "train = train.drop(['index'], axis=1)\n",
    "test = test.drop(['index'], axis=1)"
   ]
  },
  {
   "cell_type": "code",
   "execution_count": 48,
   "metadata": {},
   "outputs": [],
   "source": [
    "def model_train(train, test, model):\n",
    "    '''\n",
    "    train shape = (784, 18), test shape = (140, 18)\n",
    "    model => sklearn api model\n",
    "    '''\n",
    "\n",
    "    X = train.drop(['predicted_weight_g', 'Case', 'obs_time'], axis=1)\n",
    "    y = train['predicted_weight_g']\n",
    "\n",
    "    X_train, X_val, y_train, y_val = train_test_split(X, y, test_size=0.3, random_state=113, shuffle=True)\n",
    "    \n",
    "    x_test = test.drop(['predicted_weight_g', 'Case', 'obs_time'], axis=1)\n",
    "    \n",
    "    model.fit(X_train, y_train)\n",
    "    y_val_pred = model.predict(X_val)\n",
    "\n",
    "    rmse = mean_squared_error(y_val, y_val_pred)**0.5\n",
    "    print(f\"validation rmse: {rmse}\")\n",
    "    \n",
    "    x_train = train.drop(['predicted_weight_g', 'Case', 'obs_time'], axis=1)\n",
    "    y_train = train['predicted_weight_g']\n",
    "    \n",
    "    model.fit(x_train, y_train)\n",
    "    y_pred = model.predict(x_test)\n",
    "    x_test['predicted_weight_g'] = y_pred\n",
    "    submit = x_test[['DAT', 'predicted_weight_g']]\n",
    "    submit['DAT'] = submit['DAT']+1\n",
    "    all_target_list = sorted(glob.glob('./data/test_target/*.csv'))\n",
    "    for idx, test_path in enumerate(all_target_list):\n",
    "        submit_df = pd.read_csv(test_path)\n",
    "        submit_df['predicted_weight_g'] = submit['predicted_weight_g'][idx*28:idx*28+28].values\n",
    "        submit_df.to_csv(test_path, index=False)"
   ]
  },
  {
   "cell_type": "code",
   "execution_count": 31,
   "metadata": {},
   "outputs": [
    {
     "name": "stdout",
     "output_type": "stream",
     "text": [
      "Learning rate set to 0.037333\n",
      "0:\tlearn: 40.7823749\ttotal: 14.5ms\tremaining: 14.5s\n",
      "100:\tlearn: 7.7160615\ttotal: 1.39s\tremaining: 12.3s\n",
      "200:\tlearn: 5.4069313\ttotal: 2.73s\tremaining: 10.8s\n",
      "300:\tlearn: 4.9669458\ttotal: 4.02s\tremaining: 9.33s\n",
      "400:\tlearn: 4.5432955\ttotal: 5.32s\tremaining: 7.95s\n",
      "500:\tlearn: 4.2288732\ttotal: 6.66s\tremaining: 6.63s\n",
      "600:\tlearn: 3.9639934\ttotal: 7.93s\tremaining: 5.27s\n",
      "700:\tlearn: 3.8610017\ttotal: 9.27s\tremaining: 3.95s\n",
      "800:\tlearn: 3.7032992\ttotal: 10.6s\tremaining: 2.63s\n",
      "900:\tlearn: 3.5861392\ttotal: 11.9s\tremaining: 1.3s\n",
      "999:\tlearn: 3.4773178\ttotal: 13.1s\tremaining: 0us\n",
      "validation rmse: 8.798115197165734\n",
      "Learning rate set to 0.039126\n",
      "0:\tlearn: 40.3656518\ttotal: 13.2ms\tremaining: 13.2s\n",
      "100:\tlearn: 7.2823253\ttotal: 1.41s\tremaining: 12.6s\n",
      "200:\tlearn: 5.5371537\ttotal: 2.77s\tremaining: 11s\n",
      "300:\tlearn: 5.1713181\ttotal: 4.1s\tremaining: 9.53s\n",
      "400:\tlearn: 4.8992119\ttotal: 5.41s\tremaining: 8.08s\n",
      "500:\tlearn: 4.5806003\ttotal: 6.78s\tremaining: 6.75s\n",
      "600:\tlearn: 4.3889438\ttotal: 8.06s\tremaining: 5.35s\n",
      "700:\tlearn: 4.2487483\ttotal: 9.36s\tremaining: 3.99s\n",
      "800:\tlearn: 4.0661013\ttotal: 10.6s\tremaining: 2.64s\n",
      "900:\tlearn: 3.8929554\ttotal: 12s\tremaining: 1.32s\n",
      "999:\tlearn: 3.7865848\ttotal: 13.3s\tremaining: 0us\n"
     ]
    },
    {
     "name": "stderr",
     "output_type": "stream",
     "text": [
      "C:\\Users\\jkpark\\AppData\\Local\\Temp\\ipykernel_31256\\2960248603.py:30: SettingWithCopyWarning: \n",
      "A value is trying to be set on a copy of a slice from a DataFrame.\n",
      "Try using .loc[row_indexer,col_indexer] = value instead\n",
      "\n",
      "See the caveats in the documentation: https://pandas.pydata.org/pandas-docs/stable/user_guide/indexing.html#returning-a-view-versus-a-copy\n",
      "  submit['DAT'] = submit['DAT']+1\n"
     ]
    }
   ],
   "source": [
    "xgb = XGBRegressor()\n",
    "cat = CatBoostRegressor(verbose=100, early_stopping_rounds=50, task_type=\"GPU\")\n",
    "lgbm = LGBMRegressor()\n",
    "linear = LinearRegression()\n",
    "\n",
    "model_train(train, test, cat)"
   ]
  }
 ],
 "metadata": {
  "kernelspec": {
   "display_name": "Python 3.8.10 64-bit",
   "language": "python",
   "name": "python3"
  },
  "language_info": {
   "codemirror_mode": {
    "name": "ipython",
    "version": 3
   },
   "file_extension": ".py",
   "mimetype": "text/x-python",
   "name": "python",
   "nbconvert_exporter": "python",
   "pygments_lexer": "ipython3",
   "version": "3.8.10"
  },
  "orig_nbformat": 4,
  "vscode": {
   "interpreter": {
    "hash": "b081a66ee97bd2b6a16f43955f1d810b7ea816d6eaeb65e157ef9e038445f0c6"
   }
  }
 },
 "nbformat": 4,
 "nbformat_minor": 2
}
