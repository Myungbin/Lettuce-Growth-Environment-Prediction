{
 "cells": [
  {
   "cell_type": "code",
   "execution_count": 105,
   "metadata": {},
   "outputs": [],
   "source": [
    "from feature.make_dataset import make_data\n",
    "import pandas as pd\n",
    "from glob import glob\n",
    "from sklearn.metrics import mean_squared_error\n",
    "from sklearn.model_selection import train_test_split\n",
    "import glob\n",
    "from xgboost import XGBRegressor\n",
    "from catboost import CatBoostRegressor\n",
    "from lightgbm import LGBMRegressor\n",
    "from sklearn.linear_model import LinearRegression\n",
    "import warnings\n",
    "warnings.filterwarnings('ignore')\n"
   ]
  },
  {
   "cell_type": "code",
   "execution_count": 106,
   "metadata": {},
   "outputs": [],
   "source": [
    "train_input_list = './data/train_input/*.csv'\n",
    "train_target_list = './data/train_target/*.csv'\n",
    "\n",
    "test_input_list = './data/test_input/*.csv'\n",
    "test_target_list = './data/test_target/*.csv'"
   ]
  },
  {
   "cell_type": "code",
   "execution_count": 107,
   "metadata": {},
   "outputs": [
    {
     "name": "stderr",
     "output_type": "stream",
     "text": [
      "c:\\mb_job\\project\\Competition\\Lettuce-Growth-Environment-Prediction\\feature\\base_dataset.py:58: SettingWithCopyWarning: \n",
      "A value is trying to be set on a copy of a slice from a DataFrame\n",
      "\n",
      "See the caveats in the documentation: https://pandas.pydata.org/pandas-docs/stable/user_guide/indexing.html#returning-a-view-versus-a-copy\n",
      "  df[cum_col][i*24:(i+1)*24] = cumsum\n",
      "c:\\mb_job\\project\\Competition\\Lettuce-Growth-Environment-Prediction\\feature\\base_dataset.py:72: SettingWithCopyWarning: \n",
      "A value is trying to be set on a copy of a slice from a DataFrame\n",
      "\n",
      "See the caveats in the documentation: https://pandas.pydata.org/pandas-docs/stable/user_guide/indexing.html#returning-a-view-versus-a-copy\n",
      "  df[cum_col][i*24:(i+1)*24] = cumsum\n"
     ]
    }
   ],
   "source": [
    "train, test, p_train, p_test = make_data(train_input_list, train_target_list, test_input_list, test_target_list)"
   ]
  },
  {
   "cell_type": "code",
   "execution_count": 109,
   "metadata": {},
   "outputs": [],
   "source": [
    "train_1 = pd.read_csv('./data/preprocessing/train_quantile0.25.csv')\n",
    "test_1 = pd.read_csv('./data/preprocessing/test_quantile0.25.csv')\n",
    "train_3 = pd.read_csv('./data/preprocessing/train_quantile0.75.csv')\n",
    "test_3 = pd.read_csv('./data/preprocessing/test_quantile0.75.csv')\n",
    "train_std = pd.read_csv('./data/preprocessing/train_std.csv')\n",
    "test_std = pd.read_csv('./data/preprocessing/test_std.csv')\n",
    "train_mid = pd.read_csv('./data/preprocessing/train_median.csv')\n",
    "test_mid = pd.read_csv('./data/preprocessing/test_median.csv')"
   ]
  },
  {
   "cell_type": "code",
   "execution_count": 110,
   "metadata": {},
   "outputs": [],
   "source": [
    "train_3.columns = [col+' 3' for col in train_3.columns]\n",
    "test_3.columns = [col+' 3' for col in test_3.columns]\n",
    "train_1.columns = [col+' 1' for col in train_1.columns]\n",
    "test_1.columns = [col+' 1' for col in test_1.columns]\n",
    "train_std.columns = [col+' std' for col in train_std.columns]\n",
    "test_std.columns = [col+' std' for col in test_std.columns]\n",
    "train_mid.columns = [col+' mid' for col in train_mid.columns]\n",
    "test_mid.columns = [col+' mid' for col in test_mid.columns]"
   ]
  },
  {
   "cell_type": "code",
   "execution_count": 111,
   "metadata": {},
   "outputs": [],
   "source": [
    "train = train.reset_index()\n",
    "test  = test.reset_index()\n",
    "train_3 = train_3.reset_index()\n",
    "test_3 = test_3.reset_index()\n",
    "train_1 = train_1.reset_index()\n",
    "test_1 = test_1.reset_index()\n",
    "train_std = train_std.reset_index()\n",
    "test_std = test_std.reset_index()\n",
    "train_mid = train_mid.reset_index()\n",
    "test_mid = test_mid.reset_index()\n"
   ]
  },
  {
   "cell_type": "code",
   "execution_count": 112,
   "metadata": {},
   "outputs": [],
   "source": [
    "train = pd.concat([train, train_1, train_3, train_std, train_mid], axis=1)\n",
    "test = pd.concat([test, test_1, test_3, test_std, test_mid], axis=1)"
   ]
  },
  {
   "cell_type": "code",
   "execution_count": 113,
   "metadata": {},
   "outputs": [],
   "source": [
    "train = train.drop(['index'], axis=1)\n",
    "test = test.drop(['index'], axis=1)"
   ]
  },
  {
   "cell_type": "code",
   "execution_count": 119,
   "metadata": {},
   "outputs": [],
   "source": [
    "train = pd.concat([train, p_train], axis=1)\n",
    "test = pd.concat([test, p_test], axis=1)"
   ]
  },
  {
   "cell_type": "code",
   "execution_count": 121,
   "metadata": {},
   "outputs": [],
   "source": [
    "def model_train(train, test, model):\n",
    "    '''\n",
    "    train shape = (784, 18), test shape = (140, 18)\n",
    "    model => sklearn api model\n",
    "    '''\n",
    "\n",
    "    X = train.drop(['predicted_weight_g', 'Case', 'obs_time'], axis=1)\n",
    "    y = train['predicted_weight_g']\n",
    "\n",
    "    X_train, X_val, y_train, y_val = train_test_split(X, y, test_size=0.3, random_state=113, shuffle=True)\n",
    "    \n",
    "    x_test = test.drop(['predicted_weight_g', 'Case', 'obs_time'], axis=1)\n",
    "    \n",
    "    model.fit(X_train, y_train)\n",
    "    y_val_pred = model.predict(X_val)\n",
    "\n",
    "    rmse = mean_squared_error(y_val, y_val_pred)**0.5\n",
    "    print(f\"validation rmse: {rmse}\")\n",
    "    \n",
    "    x_train = train.drop(['predicted_weight_g', 'Case', 'obs_time'], axis=1)\n",
    "    y_train = train['predicted_weight_g']\n",
    "    \n",
    "    model.fit(x_train, y_train)\n",
    "    y_pred = model.predict(x_test)\n",
    "    x_test['predicted_weight_g'] = y_pred\n",
    "    submit = x_test[['DAT', 'predicted_weight_g']]\n",
    "    submit['DAT'] = submit['DAT']+1\n",
    "    all_target_list = sorted(glob.glob('./data/test_target/*.csv'))\n",
    "    for idx, test_path in enumerate(all_target_list):\n",
    "        submit_df = pd.read_csv(test_path)\n",
    "        submit_df['predicted_weight_g'] = submit['predicted_weight_g'][idx*28:idx*28+28].values\n",
    "        submit_df.to_csv(test_path, index=False)"
   ]
  },
  {
   "cell_type": "code",
   "execution_count": 124,
   "metadata": {},
   "outputs": [
    {
     "name": "stdout",
     "output_type": "stream",
     "text": [
      "Learning rate set to 0.037333\n",
      "0:\tlearn: 40.7703422\ttotal: 9.08ms\tremaining: 9.07s\n",
      "100:\tlearn: 8.3556613\ttotal: 936ms\tremaining: 8.33s\n",
      "200:\tlearn: 5.8776129\ttotal: 1.85s\tremaining: 7.35s\n",
      "300:\tlearn: 5.0483855\ttotal: 2.76s\tremaining: 6.42s\n",
      "400:\tlearn: 4.7099678\ttotal: 3.65s\tremaining: 5.46s\n",
      "500:\tlearn: 4.4108802\ttotal: 4.55s\tremaining: 4.53s\n",
      "600:\tlearn: 4.0666769\ttotal: 5.46s\tremaining: 3.63s\n",
      "700:\tlearn: 3.6751749\ttotal: 6.38s\tremaining: 2.72s\n",
      "800:\tlearn: 3.3572233\ttotal: 7.29s\tremaining: 1.81s\n",
      "900:\tlearn: 3.2345092\ttotal: 8.16s\tremaining: 896ms\n",
      "999:\tlearn: 3.1544748\ttotal: 9.07s\tremaining: 0us\n",
      "validation rmse: 9.166773932467919\n",
      "Learning rate set to 0.039126\n",
      "0:\tlearn: 40.3695066\ttotal: 9.47ms\tremaining: 9.46s\n",
      "100:\tlearn: 8.0300737\ttotal: 916ms\tremaining: 8.15s\n",
      "200:\tlearn: 6.0080861\ttotal: 1.8s\tremaining: 7.15s\n",
      "300:\tlearn: 5.1377865\ttotal: 2.72s\tremaining: 6.32s\n",
      "400:\tlearn: 4.6357647\ttotal: 3.59s\tremaining: 5.36s\n",
      "500:\tlearn: 4.3169911\ttotal: 4.49s\tremaining: 4.47s\n",
      "600:\tlearn: 4.0623519\ttotal: 5.38s\tremaining: 3.58s\n",
      "700:\tlearn: 3.7914694\ttotal: 6.28s\tremaining: 2.68s\n",
      "800:\tlearn: 3.6408725\ttotal: 7.17s\tremaining: 1.78s\n",
      "900:\tlearn: 3.4264313\ttotal: 8.15s\tremaining: 895ms\n",
      "999:\tlearn: 3.3334673\ttotal: 9.04s\tremaining: 0us\n"
     ]
    },
    {
     "name": "stderr",
     "output_type": "stream",
     "text": [
      "C:\\Users\\jkpark\\AppData\\Local\\Temp\\ipykernel_31256\\3184216771.py:27: SettingWithCopyWarning: \n",
      "A value is trying to be set on a copy of a slice from a DataFrame.\n",
      "Try using .loc[row_indexer,col_indexer] = value instead\n",
      "\n",
      "See the caveats in the documentation: https://pandas.pydata.org/pandas-docs/stable/user_guide/indexing.html#returning-a-view-versus-a-copy\n",
      "  submit['DAT'] = submit['DAT']+1\n"
     ]
    }
   ],
   "source": [
    "xgb = XGBRegressor()\n",
    "cat = CatBoostRegressor(verbose=100, early_stopping_rounds=50, task_type=\"GPU\")\n",
    "lgbm = LGBMRegressor()\n",
    "linear = LinearRegression()\n",
    "\n",
    "model_train(train, test, cat)"
   ]
  }
 ],
 "metadata": {
  "kernelspec": {
   "display_name": "Python 3.8.10 64-bit",
   "language": "python",
   "name": "python3"
  },
  "language_info": {
   "codemirror_mode": {
    "name": "ipython",
    "version": 3
   },
   "file_extension": ".py",
   "mimetype": "text/x-python",
   "name": "python",
   "nbconvert_exporter": "python",
   "pygments_lexer": "ipython3",
   "version": "3.8.10"
  },
  "orig_nbformat": 4,
  "vscode": {
   "interpreter": {
    "hash": "b081a66ee97bd2b6a16f43955f1d810b7ea816d6eaeb65e157ef9e038445f0c6"
   }
  }
 },
 "nbformat": 4,
 "nbformat_minor": 2
}
