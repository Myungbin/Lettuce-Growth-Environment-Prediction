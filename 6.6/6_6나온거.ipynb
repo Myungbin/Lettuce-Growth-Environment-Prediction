{
  "nbformat": 4,
  "nbformat_minor": 0,
  "metadata": {
    "colab": {
      "provenance": []
    },
    "kernelspec": {
      "name": "python3",
      "display_name": "Python 3"
    },
    "language_info": {
      "name": "python"
    }
  },
  "cells": [
    {
      "cell_type": "code",
      "execution_count": null,
      "metadata": {
        "id": "Q-W1YVMFd9Ug"
      },
      "outputs": [],
      "source": [
        "def preprocessing(input_path):\n",
        "  all_input_list = sorted(glob.glob(input_path))\n",
        "  train = pd.DataFrame()\n",
        "  for datapath in all_input_list:\n",
        "    data = pd.read_csv(datapath) # \n",
        "    data['obs_time'] = data.index % 24 # 시간통일\n",
        "    df = abs(data)\n",
        "    df.loc[(df['내부온도관측치'] > 40), '내부온도관측치'] = 40\n",
        "    df.loc[(df['내부습도관측치'] > 100), '내부습도관측치'] = 100\n",
        "    df.loc[(df['co2관측치'] > 1200), 'co2관측치'] = 1200\n",
        "    df.loc[(df['ec관측치'] > 8), 'ec관측치'] = 8\n",
        "    df.loc[(df['시간당분무량'] > 3000), '시간당분무량'] = 3000\n",
        "    df.loc[(df['시간당백색광량'] > 120000), '시간당백색광량'] = 120000\n",
        "    df.loc[(df['시간당적색광량'] > 120000), '시간당적색광량'] = 120000\n",
        "    df.loc[(df['시간당청색광량'] > 120000), '시간당청색광량'] = 120000\n",
        "    df.loc[(df['시간당총광량'] > 120000), '시간당총광량'] = 120000\n",
        "    col_list = df.columns\n",
        "    for i in range(0,len(col_list)):\n",
        "      col = col_list[i]    \n",
        "      if '누적' in col :\n",
        "        df[col] = df.groupby((df.obs_time == 0).cumsum()).agg(col_list[i-1]).cumsum()\n",
        "    df.to_csv(datapath,index=False)\n",
        "    train = pd.concat([train,df])\n",
        "  print('finish!!')\n",
        "  return train"
      ]
    },
    {
      "cell_type": "code",
      "source": [
        "traininput = preprocessing('drive/MyDrive/dacon/data/train_input/*.csv')"
      ],
      "metadata": {
        "id": "m1z29jxzeA4u"
      },
      "execution_count": null,
      "outputs": []
    },
    {
      "cell_type": "code",
      "source": [
        "testinput = preprocessing('drive/MyDrive/dacon/data/test_input/*.csv')"
      ],
      "metadata": {
        "id": "HtODx_pqeG8b"
      },
      "execution_count": null,
      "outputs": []
    },
    {
      "cell_type": "code",
      "source": [
        "colname = traininput.columns"
      ],
      "metadata": {
        "id": "dnQN-ceCeINK"
      },
      "execution_count": null,
      "outputs": []
    },
    {
      "cell_type": "code",
      "source": [
        "from sklearn.preprocessing import StandardScaler\n",
        "scaler = StandardScaler()\n",
        "trainsd = scaler.fit(traininput.iloc[:,2:]).transform(traininput.iloc[:,2:])\n",
        "testsd = scaler.fit(traininput.iloc[:,2:]).transform(testinput.iloc[:,2:])\n",
        "\n",
        "trainsd = pd.DataFrame(trainsd,columns=colname[2:]).reset_index(drop=True)\n",
        "testsd = pd.DataFrame(testsd,columns=colname[2:]).reset_index(drop=True)\n",
        "\n",
        "train=pd.merge(traininput.iloc[:,:2].reset_index(drop=True),trainsd,left_index=True, right_index=True)\n",
        "test=pd.merge(testinput.iloc[:,:2].reset_index(drop=True),testsd,left_index=True, right_index=True)"
      ],
      "metadata": {
        "id": "At2_DaheeJQa"
      },
      "execution_count": null,
      "outputs": []
    },
    {
      "cell_type": "code",
      "source": [
        "def preprocessing2(input_path, data):\n",
        "  all_input_list = sorted(glob.glob(input_path))\n",
        "  for i in range(0,len(all_input_list)):\n",
        "    df = data.iloc[ 24*28*i : 24*28*(i+1)]\n",
        "    df.to_csv(all_input_list[i],index=False)"
      ],
      "metadata": {
        "id": "dIPuHVD_eK7B"
      },
      "execution_count": null,
      "outputs": []
    },
    {
      "cell_type": "code",
      "source": [
        "preprocessing2('drive/MyDrive/dacon/data/train_input/*.csv',train)"
      ],
      "metadata": {
        "id": "8jYPa09seMSx"
      },
      "execution_count": null,
      "outputs": []
    },
    {
      "cell_type": "code",
      "source": [
        "preprocessing2('drive/MyDrive/dacon/data/test_input/*.csv',test)"
      ],
      "metadata": {
        "id": "oWL8dYgDeMQx"
      },
      "execution_count": null,
      "outputs": []
    },
    {
      "cell_type": "code",
      "source": [
        "def make_dataset(input_path, target_path):\n",
        "    train = pd.DataFrame()\n",
        "    all_input_list = sorted(glob.glob(input_path))\n",
        "    all_target_list = sorted(glob.glob(target_path))\n",
        "    for x, y in zip(all_input_list,all_target_list):\n",
        "        x = pd.read_csv(x)\n",
        "        y = pd.read_csv(y)\n",
        "        x = x.iloc[:,1:]\n",
        "        col_list = x.columns[1:]\n",
        "        for i in range(0,28) :\n",
        "            day = x.iloc[24*i:24*i+24]\n",
        "\n",
        "            day_white = day[day['일간누적백색광량']>=0]['일간누적백색광량'].max()\n",
        "            day_water = day[day['일간누적분무량']>=0]['일간누적분무량'].max()\n",
        "            day_light = day[day['일간누적총광량']>=0]['일간누적총광량'].max()\n",
        "            day_blue = day[day['일간누적청색광량']>=0]['일간누적청색광량'].max()\n",
        "            day_red = day[day['일간누적적색광량']>=0]['일간누적적색광량'].max()\n",
        "\n",
        "            day_white2 = day[day['일간누적백색광량']>=0]['일간누적백색광량'].mean()\n",
        "            day_water2 = day[day['일간누적분무량']>=0]['일간누적분무량'].mean()\n",
        "            day_light2 = day[day['일간누적총광량']>=0]['일간누적총광량'].mean()\n",
        "            day_blue2 = day[day['일간누적청색광량']>=0]['일간누적청색광량'].mean()\n",
        "            day_red2 = day[day['일간누적적색광량']>=0]['일간누적적색광량'].mean()\n",
        "\n",
        "            time_list = day['obs_time'].unique()\n",
        "            for col in col_list :\n",
        "              if col in ['일간누적백색광량','일간누적총광량','일간누적청색광량','일간누적적색광량','일간누적분무량']:\n",
        "                for t in range(0,len(time_list)):\n",
        "                  time = time_list[t]\n",
        "                  value1 = day[day['obs_time']==time][col].iloc[0]\n",
        "                  x[col+str(time)] = value1\n",
        "                  \n",
        "              else :\n",
        "                  for t in range(0,len(time_list)-3) :\n",
        "                      time = time_list[t]\n",
        "                      ntime = time_list[t+1]\n",
        "                      nntime = time_list[t+2]\n",
        "                      nnntime = time_list[t+3]\n",
        "                      value1 = day[day['obs_time']==time][col].iloc[0]\n",
        "                      value2 = day[day['obs_time']==ntime][col].iloc[0]\n",
        "                      value3 = day[day['obs_time']==nntime][col].iloc[0]\n",
        "                      value4 = day[day['obs_time']==nnntime][col].iloc[0]\n",
        "                      x[col+str(time)+str(\"+\")+str(nnntime)] = value1 + value2 + value3 + value4\n",
        "\n",
        "            x['day_water_weight_max'] = (day_water*(i+1))\n",
        "            x['day_white_weight_max'] = (day_white*(i+1))\n",
        "            x['day_red_weight_max'] = (day_red*(i+1))\n",
        "            x['day_blue_weight_max'] = (day_blue*(i+1))\n",
        "            x['day_light_weight_max'] = (day_light*(i+1))\n",
        "\n",
        "            x['day_water_weight_mean'] = (day_water2*(i+1))\n",
        "            x['day_white_weight_mean'] = (day_white2*(i+1))\n",
        "            x['day_red_weight_mean'] = (day_red2*(i+1))\n",
        "            x['day_blue_weight_mean'] = (day_blue2*(i+1))\n",
        "            x['day_light_weight_mean'] = (day_light2*(i+1))\n",
        "\n",
        "            nx = x.iloc[:1,15:]\n",
        "            ny = y.iloc[i:i+1].reset_index(drop=True)\n",
        "            xy = pd.merge(nx,ny,left_index=True, right_index=True)\n",
        "            train = pd.concat([train,xy]).reset_index(drop=True)\n",
        "\n",
        "    return train"
      ],
      "metadata": {
        "id": "dnTunC8_eMOZ"
      },
      "execution_count": null,
      "outputs": []
    },
    {
      "cell_type": "code",
      "source": [
        "train_input_path, train_target_path = 'drive/MyDrive/dacon/data/train_input/*.csv', 'drive/MyDrive/dacon/data/train_target/*.csv'\n",
        "test_input_path, test_target_path = 'drive/MyDrive/dacon/data/test_input/*.csv', 'drive/MyDrive/dacon/data/test_target/*.csv'\n",
        "\n",
        "train = make_dataset(train_input_path, train_target_path)\n",
        "test = make_dataset(test_input_path, test_target_path)"
      ],
      "metadata": {
        "id": "gUZvJeKKeMKp"
      },
      "execution_count": null,
      "outputs": []
    },
    {
      "cell_type": "code",
      "source": [
        "train=train.fillna(0)\n",
        "test=test.fillna(0)"
      ],
      "metadata": {
        "id": "yHFn9KRreMHZ"
      },
      "execution_count": null,
      "outputs": []
    },
    {
      "cell_type": "code",
      "source": [
        "train.to_csv('drive/MyDrive/dacon/data/train_standardscale_weight_max_mean_time4.csv',index=False)\n",
        "test.to_csv('drive/MyDrive/dacon/data/test_standardscale_weight_max_mean_time4.csv',index=False)"
      ],
      "metadata": {
        "id": "lw9SWzxDeWDn"
      },
      "execution_count": null,
      "outputs": []
    },
    {
      "cell_type": "code",
      "source": [
        "corr_df = train.corr()\n",
        "corr_df = corr_df.apply(lambda x: round(x ,2))\n",
        "s = corr_df.unstack()\n",
        "성장 = pd.DataFrame(s['predicted_weight_g']).sort_values(by=0).fillna(0)\n",
        "성장[0] = abs(성장[0])\n",
        "성장.sort_values(by=[0],ascending=False).reset_index().to_csv('target값이랑corr.csv',index=False,encoding='utf-8-sig')\n",
        "under_1per = 성장[성장[0]<0.15].index\n",
        "under_1per"
      ],
      "metadata": {
        "id": "RpPN07M3eV_c"
      },
      "execution_count": null,
      "outputs": []
    },
    {
      "cell_type": "code",
      "source": [
        "drop_column = train.copy()\n",
        "drop_column = drop_column.drop(under_1per,axis=1)"
      ],
      "metadata": {
        "id": "D4-hl5N8eV4M"
      },
      "execution_count": null,
      "outputs": []
    },
    {
      "cell_type": "code",
      "source": [
        "drop_columntt = test.copy()\n",
        "drop_columntt = drop_columntt.drop(under_1per,axis=1)"
      ],
      "metadata": {
        "id": "udvr-mpUeV10"
      },
      "execution_count": null,
      "outputs": []
    },
    {
      "cell_type": "code",
      "source": [
        "import catboost\n",
        "X = drop_column.drop(['predicted_weight_g'],axis=1)\n",
        "y = drop_column['predicted_weight_g']\n",
        "model= {}\n",
        "for f in range(0,27):\n",
        "      train_idx = [i for i in range(0,784)]\n",
        "      valid_idx = train_idx[f*28:f*28+28]\n",
        "      for idx in valid_idx:\n",
        "        train_idx.remove(idx)\n",
        "      print(f'===================================={f+1}============================================')\n",
        "      #print(min(valid_idx),max(valid_idx))\n",
        "      x_train, x_val, y_train, y_val = X.iloc[train_idx], X.iloc[valid_idx], y.iloc[train_idx], y.iloc[valid_idx]\n",
        "      \n",
        "      xgb_model = catboost.CatBoostRegressor( task_type='GPU',verbose=0,random_state=404)\n",
        "      xgb_model.fit(x_train, y_train)\n",
        "      \n",
        "      y_pred = xgb_model.predict(x_val)\n",
        "      rmse = mean_squared_error(y_val, y_pred)**0.5\n",
        "      print(f\"{f + 1} Fold rmse = {rmse}\")\n",
        "      model[f] = xgb_model\n",
        "      print(f'================================================================================\\n\\n')"
      ],
      "metadata": {
        "id": "61m-8tzYel60"
      },
      "execution_count": null,
      "outputs": []
    },
    {
      "cell_type": "code",
      "source": [
        "testX = drop_columntt.drop(['predicted_weight_g'],axis=1)\n",
        "pc=[0]*140\n",
        "for fold in range(27):\n",
        "    pc += model[fold].predict(testX)/27\n",
        "pc"
      ],
      "metadata": {
        "id": "bDZ3GGCxel4m"
      },
      "execution_count": null,
      "outputs": []
    },
    {
      "cell_type": "code",
      "source": [
        "i=0\n",
        "all_target_list = sorted(glob.glob('drive/MyDrive/dacon/data/test_target/*.csv'))\n",
        "for test_path in all_target_list:\n",
        "    submit_df = pd.read_csv(test_path)\n",
        "    submit_df['predicted_weight_g'] = pc[i*28:i*28+28]\n",
        "    submit_df.to_csv(test_path, index=False)\n",
        "    i+=1"
      ],
      "metadata": {
        "id": "OGv8ph2xel2O"
      },
      "execution_count": null,
      "outputs": []
    },
    {
      "cell_type": "code",
      "source": [],
      "metadata": {
        "id": "Mqx_4LdCelvl"
      },
      "execution_count": null,
      "outputs": []
    }
  ]
}