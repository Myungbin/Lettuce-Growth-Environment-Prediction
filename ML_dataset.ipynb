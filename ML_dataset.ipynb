{
 "cells": [
  {
   "cell_type": "code",
   "execution_count": 252,
   "metadata": {},
   "outputs": [],
   "source": [
    "import random\n",
    "import pandas as pd\n",
    "import numpy as np\n",
    "import os\n",
    "from glob import glob\n",
    "import datetime\n",
    "import matplotlib.pyplot as plt"
   ]
  },
  {
   "cell_type": "code",
   "execution_count": 253,
   "metadata": {},
   "outputs": [],
   "source": [
    "def make_dataset(all_input_list, all_target_list):\n",
    "    '''\n",
    "    Train, Test데이터를 하나의 데이터 프레임으로 변경\n",
    "    '''\n",
    "    df_all = pd.DataFrame()\n",
    "    length = len(all_input_list)\n",
    "    for idx in range(length):\n",
    "        X = pd.read_csv(all_input_list[idx])\n",
    "        y = pd.read_csv(all_target_list[idx])\n",
    "        y['DAT'] = y['DAT']-1\n",
    "        df_concat = pd.merge(X, y, on='DAT', how='left')\n",
    "        df_concat['Case'] = idx+1\n",
    "        df_all = pd.concat([df_all, df_concat])\n",
    "    return df_all\n",
    "\n",
    "\n",
    "def time_value(df):\n",
    "    ''' \n",
    "    ex) 00:59:59 => 01:00:00으로 변환 후 시간단위만 추출\n",
    "    '''\n",
    "    df['obs_time'] = pd.to_datetime(df[\"obs_time\"]) + datetime.timedelta(seconds=1)\n",
    "    df['obs_time'] = df['obs_time'].dt.hour\n",
    "    return df\n",
    "\n",
    "def limit_range(df):\n",
    "    '''\n",
    "    환경 변수 별 제한 범위를 넘어서는 값을 결측치 처리\n",
    "    '''\n",
    "    df.loc[(df['내부온도관측치'] < 4) | (df['내부온도관측치'] > 40), '내부온도관측치'] = np.nan\n",
    "    df.loc[(df['내부습도관측치'] < 0) | (df['내부습도관측치'] > 100), '내부습도관측치'] = np.nan\n",
    "    df.loc[(df['co2관측치'] < 0) | (df['co2관측치'] > 1200), 'co2관측치'] = np.nan\n",
    "    df.loc[(df['ec관측치'] < 0) | (df['ec관측치'] > 8), 'ec관측치'] = np.nan\n",
    "    df.loc[(df['시간당분무량'] < 0) | (df['시간당분무량'] > 3000), '시간당분무량'] = np.nan\n",
    "    df.loc[(df['일간누적분무량'] < 0) | (df['일간누적분무량'] > 72000), '일간누적분무량'] = np.nan\n",
    "    df.loc[(df['시간당백색광량'] < 0) | (df['시간당백색광량'] > 120000), '시간당백색광량'] = np.nan\n",
    "    df.loc[(df['일간누적백색광량'] < 0) | (df['일간누적백색광량'] > 2880000), '일간누적백색광량'] = np.nan\n",
    "    df.loc[(df['시간당적색광량'] < 0) | (df['시간당적색광량'] > 120000), '시간당적색광량'] = np.nan\n",
    "    df.loc[(df['일간누적적색광량'] < 0) | (df['일간누적적색광량'] > 2880000), '일간누적적색광량'] = np.nan\n",
    "    df.loc[(df['시간당청색광량'] < 0) | (df['시간당청색광량'] > 120000), '시간당청색광량'] = np.nan\n",
    "    df.loc[(df['일간누적청색광량'] < 0) | (df['일간누적청색광량'] > 2880000), '일간누적청색광량'] = np.nan\n",
    "    df.loc[(df['시간당총광량'] < 0) | (df['시간당총광량'] > 120000), '시간당총광량'] = np.nan\n",
    "    df.loc[(df['일간누적총광량'] < 0) | (df['일간누적총광량'] > 2880000), '일간누적총광량'] = np.nan\n",
    "    return df\n",
    "\n",
    "def col_cumsum(df, col, cum_col):\n",
    "    '''\n",
    "    시간값에 이상치가 있어서 누적값을 새로 생성\n",
    "    '''\n",
    "    import itertools\n",
    "    df[cum_col] = 0\n",
    "    for i in range(784):\n",
    "        result = itertools.accumulate(df[col][i*24:(i+1)*24])\n",
    "        cumsum = [value for value in result]\n",
    "        df[cum_col][i*24:(i+1)*24] = cumsum\n",
    "        \n",
    "    return df\n",
    "\n",
    "def apply_cumsum(df):\n",
    "    df = col_cumsum(df, \"시간당분무량\", \"일간누적분무량\")\n",
    "    df = col_cumsum(df, \"시간당백색광량\", \"일간누적백색광량\")\n",
    "    df = col_cumsum(df, \"시간당적색광량\", \"일간누적적색광량\")\n",
    "    df = col_cumsum(df, \"시간당청색광량\", \"일간누적청색광량\")\n",
    "    df = col_cumsum(df, \"시간당총광량\", \"일간누적총광량\")\n",
    "    \n",
    "    return df"
   ]
  },
  {
   "cell_type": "code",
   "execution_count": 254,
   "metadata": {},
   "outputs": [],
   "source": [
    "train_input_list = sorted(glob('./data/train_input/*.csv'))\n",
    "train_target_list = sorted(glob('./data/train_target/*.csv'))\n",
    "\n",
    "test_input_list = sorted(glob('./data/test_input/*.csv'))\n",
    "test_target_list = sorted(glob('./data/test_target/*.csv'))"
   ]
  },
  {
   "cell_type": "code",
   "execution_count": 255,
   "metadata": {},
   "outputs": [],
   "source": [
    "train = make_dataset(train_input_list, train_target_list)\n",
    "test = make_dataset(test_input_list, test_target_list)\n",
    "\n",
    "train = time_value(train)\n",
    "test = time_value(test)\n",
    "\n",
    "train = limit_range(train)\n",
    "test = limit_range(test)\n",
    "\n",
    "train = train.fillna(method='ffill')\n",
    "test = test.fillna(method='ffill')"
   ]
  },
  {
   "cell_type": "code",
   "execution_count": 256,
   "metadata": {},
   "outputs": [],
   "source": [
    "test['predicted_weight_g'] = 0"
   ]
  },
  {
   "cell_type": "code",
   "execution_count": 257,
   "metadata": {},
   "outputs": [
    {
     "name": "stderr",
     "output_type": "stream",
     "text": [
      "C:\\Users\\kki96\\AppData\\Local\\Temp\\ipykernel_8860\\1837139307.py:54: SettingWithCopyWarning: \n",
      "A value is trying to be set on a copy of a slice from a DataFrame\n",
      "\n",
      "See the caveats in the documentation: https://pandas.pydata.org/pandas-docs/stable/user_guide/indexing.html#returning-a-view-versus-a-copy\n",
      "  df[cum_col][i*24:(i+1)*24] = cumsum\n"
     ]
    }
   ],
   "source": [
    "train = col_cumsum(train, \"시간당분무량\", \"일간누적분무량\")\n",
    "train = col_cumsum(train, \"시간당백색광량\", \"일간누적백색광량\")\n",
    "train = col_cumsum(train, \"시간당적색광량\", \"일간누적적색광량\")\n",
    "train = col_cumsum(train, \"시간당청색광량\", \"일간누적청색광량\")\n",
    "train = col_cumsum(train, \"시간당총광량\", \"일간누적총광량\")"
   ]
  },
  {
   "cell_type": "code",
   "execution_count": 258,
   "metadata": {},
   "outputs": [],
   "source": [
    "df_a = pd.DataFrame()\n",
    "\n",
    "for i, v in enumerate(train[\"Case\"].unique()):\n",
    "    train_old = train[train['Case']==v]\n",
    "    train_old = train_old.groupby(['DAT']).median().reset_index()\n",
    "    df_a = pd.concat([df_a, train_old])"
   ]
  },
  {
   "cell_type": "code",
   "execution_count": 259,
   "metadata": {},
   "outputs": [],
   "source": [
    "df_b = pd.DataFrame()\n",
    "\n",
    "for i, v in enumerate(test[\"Case\"].unique()):\n",
    "    test_old = test[test['Case']==v]\n",
    "    test_old = test_old.groupby(['DAT']).median().reset_index()\n",
    "    df_b = pd.concat([df_b, test_old])"
   ]
  },
  {
   "cell_type": "code",
   "execution_count": 260,
   "metadata": {},
   "outputs": [],
   "source": [
    "df_a = df_a.drop(['obs_time', 'Case'], axis=1)\n",
    "df_b = df_b.drop(['obs_time', 'Case'], axis=1)"
   ]
  },
  {
   "cell_type": "code",
   "execution_count": 262,
   "metadata": {},
   "outputs": [],
   "source": [
    "train = df_a.copy()\n",
    "test = df_b.copy()"
   ]
  }
 ],
 "metadata": {
  "kernelspec": {
   "display_name": "Python 3.9.13 ('base')",
   "language": "python",
   "name": "python3"
  },
  "language_info": {
   "codemirror_mode": {
    "name": "ipython",
    "version": 3
   },
   "file_extension": ".py",
   "mimetype": "text/x-python",
   "name": "python",
   "nbconvert_exporter": "python",
   "pygments_lexer": "ipython3",
   "version": "3.9.13"
  },
  "orig_nbformat": 4,
  "vscode": {
   "interpreter": {
    "hash": "8b89323bfb51462e07b3b44fbe5501f0ab989a383b4d33571ac0c27eb59569d4"
   }
  }
 },
 "nbformat": 4,
 "nbformat_minor": 2
}
