{
 "cells": [
  {
   "cell_type": "code",
   "execution_count": 6,
   "metadata": {},
   "outputs": [],
   "source": [
    "import random\n",
    "import pandas as pd\n",
    "import numpy as np\n",
    "import os\n",
    "from glob import glob\n",
    "\n",
    "train_input_list = sorted(glob('./data/train_input/*.csv'))\n",
    "train_target_list = sorted(glob('./data/train_target/*.csv'))\n",
    "\n",
    "test_input_list = sorted(glob('./data/test_input/*.csv'))\n",
    "test_target_list = sorted(glob('./data/test_target/*.csv'))\n",
    "\n",
    "def make_dataset(all_input_list, all_target_list):\n",
    "    df_all = pd.DataFrame()\n",
    "    length = len(all_input_list)\n",
    "    for idx in range(length):\n",
    "        X = pd.read_csv(all_input_list[idx])\n",
    "        y = pd.read_csv(all_target_list[idx])\n",
    "        y['DAT'] = y['DAT']-1\n",
    "        df_concat = pd.merge(X, y, on='DAT', how='left')\n",
    "        df_concat['Case'] = idx+1\n",
    "        df_all = pd.concat([df_all, df_concat])\n",
    "    return df_all"
   ]
  },
  {
   "cell_type": "code",
   "execution_count": 7,
   "metadata": {},
   "outputs": [],
   "source": [
    "import random\n",
    "import pandas as pd\n",
    "import numpy as np\n",
    "import os\n",
    "from glob import glob\n",
    "\n",
    "train_input_list = sorted(glob('./data/train_input/*.csv'))\n",
    "train_target_list = sorted(glob('./data/train_target/*.csv'))\n",
    "\n",
    "test_input_list = sorted(glob('./data/test_input/*.csv'))\n",
    "test_target_list = sorted(glob('./data/test_target/*.csv'))"
   ]
  },
  {
   "cell_type": "code",
   "execution_count": 12,
   "metadata": {},
   "outputs": [],
   "source": [
    "train = make_dataset(train_input_list, train_target_list)\n",
    "test = make_dataset(test_input_list, test_target_list)"
   ]
  }
 ],
 "metadata": {
  "kernelspec": {
   "display_name": "Python 3.9.12 64-bit",
   "language": "python",
   "name": "python3"
  },
  "language_info": {
   "codemirror_mode": {
    "name": "ipython",
    "version": 3
   },
   "file_extension": ".py",
   "mimetype": "text/x-python",
   "name": "python",
   "nbconvert_exporter": "python",
   "pygments_lexer": "ipython3",
   "version": "3.9.12"
  },
  "orig_nbformat": 4,
  "vscode": {
   "interpreter": {
    "hash": "6eb7e1800323012a4a23da4771145313bbd22d24fdf3fd100a018e9ed60a697f"
   }
  }
 },
 "nbformat": 4,
 "nbformat_minor": 2
}
