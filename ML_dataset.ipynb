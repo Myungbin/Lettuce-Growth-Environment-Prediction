{
 "cells": [
  {
   "cell_type": "code",
   "execution_count": 1,
   "metadata": {},
   "outputs": [],
   "source": [
    "import random\n",
    "import pandas as pd\n",
    "import numpy as np\n",
    "import os\n",
    "from glob import glob\n",
    "\n",
    "train_input_list = sorted(glob('./data/train_input/*.csv'))\n",
    "train_target_list = sorted(glob('./data/train_target/*.csv'))\n",
    "\n",
    "test_input_list = sorted(glob('./data/test_input/*.csv'))\n",
    "test_target_list = sorted(glob('./data/test_target/*.csv'))\n",
    "\n",
    "\n",
    "def make_dataset(all_input_list, all_target_list):\n",
    "    df_all = pd.DataFrame()\n",
    "    length = len(all_input_list)\n",
    "    for idx in range(length):\n",
    "        X = pd.read_csv(all_input_list[idx])\n",
    "        y = pd.read_csv(all_target_list[idx])\n",
    "        y['DAT'] = y['DAT']-1\n",
    "        df_concat = pd.merge(X, y, on='DAT', how='left')\n",
    "        df_concat['Case'] = idx+1\n",
    "        df_all = pd.concat([df_all, df_concat])\n",
    "    return df_all\n"
   ]
  },
  {
   "cell_type": "code",
   "execution_count": 2,
   "metadata": {},
   "outputs": [],
   "source": [
    "import random\n",
    "import pandas as pd\n",
    "import numpy as np\n",
    "import os\n",
    "from glob import glob\n",
    "\n",
    "train_input_list = sorted(glob('./data/train_input/*.csv'))\n",
    "train_target_list = sorted(glob('./data/train_target/*.csv'))\n",
    "\n",
    "test_input_list = sorted(glob('./data/test_input/*.csv'))\n",
    "test_target_list = sorted(glob('./data/test_target/*.csv'))"
   ]
  },
  {
   "cell_type": "code",
   "execution_count": 3,
   "metadata": {},
   "outputs": [],
   "source": [
    "train = make_dataset(train_input_list, train_target_list)\n",
    "test = make_dataset(test_input_list, test_target_list)"
   ]
  }
 ],
 "metadata": {
  "kernelspec": {
   "display_name": "Python 3.9.13 ('base')",
   "language": "python",
   "name": "python3"
  },
  "language_info": {
   "codemirror_mode": {
    "name": "ipython",
    "version": 3
   },
   "file_extension": ".py",
   "mimetype": "text/x-python",
   "name": "python",
   "nbconvert_exporter": "python",
   "pygments_lexer": "ipython3",
   "version": "3.9.13"
  },
  "orig_nbformat": 4,
  "vscode": {
   "interpreter": {
    "hash": "8b89323bfb51462e07b3b44fbe5501f0ab989a383b4d33571ac0c27eb59569d4"
   }
  }
 },
 "nbformat": 4,
 "nbformat_minor": 2
}
