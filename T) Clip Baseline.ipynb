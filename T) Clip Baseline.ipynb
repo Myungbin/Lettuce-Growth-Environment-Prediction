{
 "cells": [
  {
   "cell_type": "code",
   "execution_count": 46,
   "metadata": {},
   "outputs": [],
   "source": [
    "from feature.clip_make_dataset import make_data\n",
    "import pandas as pd\n",
    "from glob import glob\n",
    "from sklearn.metrics import mean_squared_error\n",
    "from sklearn.model_selection import train_test_split\n",
    "import glob\n",
    "from xgboost import XGBRegressor\n",
    "from catboost import CatBoostRegressor\n",
    "from lightgbm import LGBMRegressor\n",
    "from sklearn.linear_model import LinearRegression\n",
    "import warnings\n",
    "warnings.filterwarnings('ignore')"
   ]
  },
  {
   "cell_type": "code",
   "execution_count": 47,
   "metadata": {},
   "outputs": [],
   "source": [
    "train_input_list = './data/train_input/*.csv'\n",
    "train_target_list = './data/train_target/*.csv'\n",
    "\n",
    "test_input_list = './data/test_input/*.csv'\n",
    "test_target_list = './data/test_target/*.csv'"
   ]
  },
  {
   "cell_type": "code",
   "execution_count": 48,
   "metadata": {},
   "outputs": [],
   "source": [
    "train, test, p_train, p_test = make_data(train_input_list, train_target_list, test_input_list, test_target_list)"
   ]
  },
  {
   "cell_type": "code",
   "execution_count": 49,
   "metadata": {},
   "outputs": [],
   "source": [
    "train_1 = pd.read_csv('./data/clip_preprocessing/clip_train_quantile0.25.csv')\n",
    "test_1 = pd.read_csv('./data/clip_preprocessing/clip_test_quantile0.25.csv')\n",
    "train_3 = pd.read_csv('./data/clip_preprocessing/clip_train_quantile0.75.csv')\n",
    "test_3 = pd.read_csv('./data/clip_preprocessing/clip_test_quantile0.75.csv')\n",
    "train_std = pd.read_csv('./data/clip_preprocessing/clip_train_std.csv')\n",
    "test_std = pd.read_csv('./data/clip_preprocessing/clip_test_std.csv')\n",
    "train_mid = pd.read_csv('./data/clip_preprocessing/clip_train_median.csv')\n",
    "test_mid = pd.read_csv('./data/clip_preprocessing/clip_test_median.csv')"
   ]
  },
  {
   "cell_type": "code",
   "execution_count": 50,
   "metadata": {},
   "outputs": [],
   "source": [
    "train_3.columns = [col+' q3' for col in train_3.columns]\n",
    "test_3.columns = [col+' q3' for col in test_3.columns]\n",
    "train_1.columns = [col+' q1' for col in train_1.columns]\n",
    "test_1.columns = [col+' q1' for col in test_1.columns]\n",
    "train_std.columns = [col+' std' for col in train_std.columns]\n",
    "test_std.columns = [col+' std' for col in test_std.columns]\n",
    "train_mid.columns = [col+' mid' for col in train_mid.columns]\n",
    "test_mid.columns = [col+' mid' for col in test_mid.columns]"
   ]
  },
  {
   "cell_type": "code",
   "execution_count": 51,
   "metadata": {},
   "outputs": [],
   "source": [
    "train = train.reset_index()\n",
    "test  = test.reset_index()\n",
    "train_3 = train_3.reset_index()\n",
    "test_3 = test_3.reset_index()\n",
    "train_1 = train_1.reset_index()\n",
    "test_1 = test_1.reset_index()\n",
    "train_std = train_std.reset_index()\n",
    "test_std = test_std.reset_index()\n",
    "train_mid = train_mid.reset_index()\n",
    "test_mid = test_mid.reset_index()\n"
   ]
  },
  {
   "cell_type": "code",
   "execution_count": 52,
   "metadata": {},
   "outputs": [],
   "source": [
    "train = pd.concat([train, train_1, train_3, train_std, train_mid], axis=1)\n",
    "test = pd.concat([test, test_1, test_3, test_std, test_mid], axis=1)\n",
    "\n",
    "train = train.drop(['index'], axis=1)\n",
    "test = test.drop(['index'], axis=1)\n",
    "\n",
    "train = pd.concat([train, p_train], axis=1)\n",
    "test = pd.concat([test, p_test], axis=1)"
   ]
  },
  {
   "cell_type": "code",
   "execution_count": 44,
   "metadata": {},
   "outputs": [],
   "source": [
    "def model_train(train, test, model):\n",
    "    '''\n",
    "    train shape = (784, 18), test shape = (140, 18)\n",
    "    model => sklearn api model\n",
    "    '''\n",
    "\n",
    "    X = train.drop(['predicted_weight_g', 'Case', 'obs_time', '6time'], axis=1)\n",
    "    y = train['predicted_weight_g']\n",
    "\n",
    "    X_train, X_val, y_train, y_val = train_test_split(X, y, test_size=0.3, random_state=113, shuffle=True)\n",
    "    \n",
    "    x_test = test.drop(['predicted_weight_g', 'Case', 'obs_time', '6time'], axis=1)\n",
    "    \n",
    "    model.fit(X_train, y_train)\n",
    "    y_val_pred = model.predict(X_val)\n",
    "\n",
    "    rmse = mean_squared_error(y_val, y_val_pred)**0.5\n",
    "    print(f\"validation rmse: {rmse}\")\n",
    "    \n",
    "    x_train = train.drop(['predicted_weight_g', 'Case', 'obs_time', '6time'], axis=1)\n",
    "    y_train = train['predicted_weight_g']\n",
    "    \n",
    "    model.fit(x_train, y_train)\n",
    "    y_pred = model.predict(x_test)\n",
    "    x_test['predicted_weight_g'] = y_pred\n",
    "    submit = x_test[['DAT', 'predicted_weight_g']]\n",
    "    submit['DAT'] = submit['DAT']+1\n",
    "    all_target_list = sorted(glob.glob('./data/test_target/*.csv'))\n",
    "    for idx, test_path in enumerate(all_target_list):\n",
    "        submit_df = pd.read_csv(test_path)\n",
    "        submit_df['predicted_weight_g'] = submit['predicted_weight_g'][idx*28:idx*28+28].values\n",
    "        submit_df.to_csv(test_path, index=False)"
   ]
  },
  {
   "cell_type": "code",
   "execution_count": 45,
   "metadata": {},
   "outputs": [
    {
     "name": "stdout",
     "output_type": "stream",
     "text": [
      "Learning rate set to 0.037231\n",
      "0:\tlearn: 40.6769718\ttotal: 142ms\tremaining: 2m 21s\n",
      "100:\tlearn: 8.3643397\ttotal: 765ms\tremaining: 6.81s\n",
      "200:\tlearn: 4.6210395\ttotal: 1.34s\tremaining: 5.32s\n",
      "300:\tlearn: 3.0764467\ttotal: 2.01s\tremaining: 4.67s\n",
      "400:\tlearn: 2.0788991\ttotal: 2.95s\tremaining: 4.41s\n",
      "500:\tlearn: 1.5521974\ttotal: 3.83s\tremaining: 3.82s\n",
      "600:\tlearn: 1.2182231\ttotal: 4.76s\tremaining: 3.16s\n",
      "700:\tlearn: 0.9548928\ttotal: 5.69s\tremaining: 2.43s\n",
      "800:\tlearn: 0.7456123\ttotal: 6.39s\tremaining: 1.59s\n",
      "900:\tlearn: 0.5954728\ttotal: 6.96s\tremaining: 765ms\n",
      "999:\tlearn: 0.4874976\ttotal: 7.52s\tremaining: 0us\n",
      "validation rmse: 7.749375476747137\n",
      "Learning rate set to 0.039399\n",
      "0:\tlearn: 40.3156010\ttotal: 6.27ms\tremaining: 6.26s\n",
      "100:\tlearn: 7.6637459\ttotal: 687ms\tremaining: 6.11s\n",
      "200:\tlearn: 4.4279079\ttotal: 1.36s\tremaining: 5.39s\n",
      "300:\tlearn: 3.0274731\ttotal: 2s\tremaining: 4.66s\n",
      "400:\tlearn: 2.1201097\ttotal: 2.77s\tremaining: 4.14s\n",
      "500:\tlearn: 1.5873376\ttotal: 3.71s\tremaining: 3.7s\n",
      "600:\tlearn: 1.2656195\ttotal: 4.8s\tremaining: 3.19s\n",
      "700:\tlearn: 1.0320991\ttotal: 5.82s\tremaining: 2.48s\n",
      "800:\tlearn: 0.8469560\ttotal: 6.71s\tremaining: 1.67s\n",
      "900:\tlearn: 0.6985197\ttotal: 7.37s\tremaining: 810ms\n",
      "999:\tlearn: 0.5759347\ttotal: 8.06s\tremaining: 0us\n"
     ]
    }
   ],
   "source": [
    "xgb = XGBRegressor()\n",
    "cat = CatBoostRegressor(verbose=100, early_stopping_rounds=50)\n",
    "lgbm = LGBMRegressor()\n",
    "linear = LinearRegression()\n",
    "\n",
    "model_train(train, test, cat)"
   ]
  }
 ],
 "metadata": {
  "kernelspec": {
   "display_name": "Python 3.9.13 ('base')",
   "language": "python",
   "name": "python3"
  },
  "language_info": {
   "codemirror_mode": {
    "name": "ipython",
    "version": 3
   },
   "file_extension": ".py",
   "mimetype": "text/x-python",
   "name": "python",
   "nbconvert_exporter": "python",
   "pygments_lexer": "ipython3",
   "version": "3.9.13"
  },
  "orig_nbformat": 4,
  "vscode": {
   "interpreter": {
    "hash": "8b89323bfb51462e07b3b44fbe5501f0ab989a383b4d33571ac0c27eb59569d4"
   }
  }
 },
 "nbformat": 4,
 "nbformat_minor": 2
}
