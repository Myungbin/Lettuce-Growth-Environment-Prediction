{
 "cells": [
  {
   "cell_type": "code",
   "execution_count": 435,
   "metadata": {},
   "outputs": [],
   "source": [
    "from feature.clip_make_dataset import make_data\n",
    "from feature.after_dataset import accumulate\n",
    "import pandas as pd\n",
    "from glob import glob\n",
    "from sklearn.metrics import mean_squared_error\n",
    "from sklearn.model_selection import train_test_split\n",
    "import glob\n",
    "from xgboost import XGBRegressor\n",
    "from catboost import CatBoostRegressor\n",
    "from lightgbm import LGBMRegressor\n",
    "from sklearn.linear_model import LinearRegression\n",
    "import warnings\n",
    "import matplotlib.pyplot as plt\n",
    "warnings.filterwarnings('ignore')"
   ]
  },
  {
   "cell_type": "code",
   "execution_count": 436,
   "metadata": {},
   "outputs": [],
   "source": [
    "train_input_list = './data/train_input/*.csv'\n",
    "train_target_list = './data/train_target/*.csv'\n",
    "\n",
    "test_input_list = './data/test_input/*.csv'\n",
    "test_target_list = './data/test_target/*.csv'"
   ]
  },
  {
   "cell_type": "code",
   "execution_count": 437,
   "metadata": {},
   "outputs": [],
   "source": [
    "train, test, p_train, p_test = make_data(train_input_list, train_target_list, test_input_list, test_target_list)"
   ]
  },
  {
   "cell_type": "code",
   "execution_count": 438,
   "metadata": {},
   "outputs": [],
   "source": [
    "# 증가율\n",
    "result = []\n",
    "result = pd.DataFrame()\n",
    "for k in range(28):\n",
    "    train1 = train[k*28:(k+1)*28]\n",
    "    a = train1['predicted_weight_g'].pct_change()\n",
    "    z = pd.DataFrame(a)\n",
    "    result = pd.concat([result, z], axis=0)\n"
   ]
  },
  {
   "cell_type": "code",
   "execution_count": 439,
   "metadata": {},
   "outputs": [],
   "source": [
    "result['DAT'] = train['DAT']"
   ]
  },
  {
   "cell_type": "code",
   "execution_count": 440,
   "metadata": {},
   "outputs": [],
   "source": [
    "result = result.fillna(0)"
   ]
  },
  {
   "cell_type": "code",
   "execution_count": 441,
   "metadata": {},
   "outputs": [],
   "source": [
    "weight = []\n",
    "for i in range(28):\n",
    "    weight.append(result[result['DAT']==i]['predicted_weight_g'].median())"
   ]
  },
  {
   "cell_type": "code",
   "execution_count": 442,
   "metadata": {},
   "outputs": [],
   "source": [
    "weight_train = weight*28\n",
    "weight_test = weight*5\n",
    "train['weight'] = weight_train\n",
    "test['weight'] = weight_test"
   ]
  },
  {
   "cell_type": "code",
   "execution_count": 443,
   "metadata": {},
   "outputs": [],
   "source": [
    "weight_col = train.iloc[:, 2:16].columns"
   ]
  },
  {
   "cell_type": "code",
   "execution_count": 444,
   "metadata": {},
   "outputs": [],
   "source": [
    "for idx, col in enumerate(weight_col):\n",
    "    train['가중치'+col] = train[col]*train['weight']\n",
    "    test['가중치'+col] = test[col]*test['weight']"
   ]
  },
  {
   "cell_type": "code",
   "execution_count": 445,
   "metadata": {},
   "outputs": [],
   "source": [
    "train_rol = pd.read_csv('train_rol.csv')\n",
    "test_rol = pd.read_csv('test_rol.csv')\n",
    "train_rol = train_rol.drop(['DAT'], axis=1)\n",
    "test_rol = test_rol.drop(['DAT'], axis=1)\n"
   ]
  },
  {
   "cell_type": "code",
   "execution_count": 446,
   "metadata": {},
   "outputs": [],
   "source": [
    "accumulate(train, test, '누적분무량')\n",
    "accumulate(train, test, '누적백색광량')\n",
    "accumulate(train, test, '누적청색광량')\n",
    "accumulate(train, test, '누적적색광량')"
   ]
  },
  {
   "cell_type": "code",
   "execution_count": 447,
   "metadata": {},
   "outputs": [],
   "source": [
    "train_1 = pd.read_csv('./data/clip_preprocessing/clip_train_quantile0.25.csv')\n",
    "test_1 = pd.read_csv('./data/clip_preprocessing/clip_test_quantile0.25.csv')\n",
    "train_3 = pd.read_csv('./data/clip_preprocessing/clip_train_quantile0.75.csv')\n",
    "test_3 = pd.read_csv('./data/clip_preprocessing/clip_test_quantile0.75.csv')\n",
    "train_std = pd.read_csv('./data/clip_preprocessing/clip_train_std.csv')\n",
    "test_std = pd.read_csv('./data/clip_preprocessing/clip_test_std.csv')\n",
    "train_mid = pd.read_csv('./data/clip_preprocessing/clip_train_median.csv')\n",
    "test_mid = pd.read_csv('./data/clip_preprocessing/clip_test_median.csv')\n",
    "train_sem = pd.read_csv('./data/clip_preprocessing/clip_train_sem.csv')\n",
    "test_sem = pd.read_csv('./data/clip_preprocessing/clip_test_sem.csv')"
   ]
  },
  {
   "cell_type": "code",
   "execution_count": 448,
   "metadata": {},
   "outputs": [],
   "source": [
    "train_3.columns = [col+' q3' for col in train_3.columns]\n",
    "test_3.columns = [col+' q3' for col in test_3.columns]\n",
    "train_1.columns = [col+' q1' for col in train_1.columns]\n",
    "test_1.columns = [col+' q1' for col in test_1.columns]\n",
    "train_std.columns = [col+' std' for col in train_std.columns]\n",
    "test_std.columns = [col+' std' for col in test_std.columns]\n",
    "train_mid.columns = [col+' mid' for col in train_mid.columns]\n",
    "test_mid.columns = [col+' mid' for col in test_mid.columns]\n",
    "# train_sem.columns = [col+' sem' for col in train_sem.columns]\n",
    "# test_sem.columns = [col+' sem' for col in test_sem.columns]"
   ]
  },
  {
   "cell_type": "code",
   "execution_count": 449,
   "metadata": {},
   "outputs": [],
   "source": [
    "train = train.reset_index()\n",
    "test  = test.reset_index()\n",
    "train_3 = train_3.reset_index()\n",
    "test_3 = test_3.reset_index()\n",
    "train_1 = train_1.reset_index()\n",
    "test_1 = test_1.reset_index()\n",
    "train_std = train_std.reset_index()\n",
    "test_std = test_std.reset_index()\n",
    "train_mid = train_mid.reset_index()\n",
    "test_mid = test_mid.reset_index()\n",
    "# train_sem = train_sem.reset_index()\n",
    "# test_sem = test_sem.reset_index()\n"
   ]
  },
  {
   "cell_type": "code",
   "execution_count": 450,
   "metadata": {},
   "outputs": [],
   "source": [
    "train = pd.concat([train, train_1, train_3, train_std], axis=1)\n",
    "test = pd.concat([test, test_1, test_3, test_std], axis=1)\n",
    "\n",
    "train = train.drop(['index'], axis=1)\n",
    "test = test.drop(['index'], axis=1)\n",
    "\n",
    "# train = pd.concat([train, train_rol], axis=1)\n",
    "# test = pd.concat([test, test_rol], axis=1)\n",
    "\n",
    "train = pd.concat([train, p_train], axis=1)\n",
    "test = pd.concat([test, p_test], axis=1)"
   ]
  },
  {
   "cell_type": "code",
   "execution_count": 451,
   "metadata": {},
   "outputs": [],
   "source": [
    "# x_train = train.drop(['predicted_weight_g'], axis=1)\n",
    "# y_train = train['predicted_weight_g']\n",
    "\n",
    "# x_test = test.drop(['predicted_weight_g'], axis=1)\n",
    "# y_test = test['predicted_weight_g']\n"
   ]
  },
  {
   "cell_type": "code",
   "execution_count": 452,
   "metadata": {},
   "outputs": [],
   "source": [
    "# trian_col = x_train.columns\n",
    "# test_col = x_test.columns\n",
    "# from sklearn.preprocessing import MinMaxScaler\n",
    "\n",
    "# scale = MinMaxScaler()\n",
    "\n",
    "# x_train = scale.fit_transform(x_train)\n",
    "# x_test = scale.transform(x_test)\n",
    "# x_train = pd.DataFrame(data = x_train, columns=trian_col)\n",
    "# x_test = pd.DataFrame(data = x_test, columns=test_col)\n",
    "# train = pd.concat([x_train, y_train], axis=1)\n",
    "# test = pd.concat([x_test, y_test], axis=1)\n"
   ]
  },
  {
   "cell_type": "code",
   "execution_count": 456,
   "metadata": {},
   "outputs": [],
   "source": [
    "def model_train(train, test, model):\n",
    "    '''\n",
    "    train shape = (784, 18), test shape = (140, 18)\n",
    "    model => sklearn api model\n",
    "    '''\n",
    "\n",
    "    X = train.drop(['predicted_weight_g', 'Case', 'obs_time', '6time', \"weight\"], axis=1)\n",
    "    y = train['predicted_weight_g']\n",
    "\n",
    "    X_train, X_val, y_train, y_val = train_test_split(X, y, test_size=0.3, random_state=113, shuffle=True)\n",
    "    \n",
    "    x_test = test.drop(['predicted_weight_g', 'Case', 'obs_time', '6time', 'weight'], axis=1)\n",
    "    \n",
    "    model.fit(X_train, y_train)\n",
    "    y_val_pred = model.predict(X_val)\n",
    "\n",
    "    rmse = mean_squared_error(y_val, y_val_pred)**0.5\n",
    "    print(f\"validation rmse: {rmse}\")\n",
    "    \n",
    "    x_train = train.drop(['predicted_weight_g', 'Case', 'obs_time', '6time', 'weight'], axis=1)\n",
    "    y_train = train['predicted_weight_g']\n",
    "    \n",
    "    model.fit(x_train, y_train)\n",
    "    y_pred = model.predict(x_test)\n",
    "    x_test['predicted_weight_g'] = y_pred\n",
    "    submit = x_test[['DAT', 'predicted_weight_g']]\n",
    "    # submit['DAT'] = submit['DAT']\n",
    "    all_target_list = sorted(glob.glob('./data/test_target/*.csv'))\n",
    "    for idx, test_path in enumerate(all_target_list):\n",
    "        submit_df = pd.read_csv(test_path)\n",
    "        submit_df['predicted_weight_g'] = submit['predicted_weight_g'][idx*28:idx*28+28].values\n",
    "        submit_df.to_csv(test_path, index=False)"
   ]
  },
  {
   "cell_type": "code",
   "execution_count": 457,
   "metadata": {},
   "outputs": [
    {
     "name": "stdout",
     "output_type": "stream",
     "text": [
      "Learning rate set to 0.037333\n",
      "0:\tlearn: 40.7009187\ttotal: 9.52ms\tremaining: 9.51s\n",
      "100:\tlearn: 7.5433219\ttotal: 895ms\tremaining: 7.96s\n",
      "200:\tlearn: 5.4589579\ttotal: 1.78s\tremaining: 7.08s\n",
      "300:\tlearn: 4.7564084\ttotal: 2.67s\tremaining: 6.2s\n",
      "400:\tlearn: 4.3705575\ttotal: 3.54s\tremaining: 5.28s\n",
      "500:\tlearn: 4.2365534\ttotal: 4.39s\tremaining: 4.37s\n",
      "600:\tlearn: 4.0798789\ttotal: 5.25s\tremaining: 3.49s\n",
      "700:\tlearn: 3.9463045\ttotal: 6.12s\tremaining: 2.61s\n",
      "800:\tlearn: 3.8187688\ttotal: 6.95s\tremaining: 1.73s\n",
      "900:\tlearn: 3.5696146\ttotal: 7.81s\tremaining: 859ms\n",
      "999:\tlearn: 3.2902671\ttotal: 8.66s\tremaining: 0us\n",
      "validation rmse: 8.773305651947913\n",
      "Learning rate set to 0.039126\n",
      "0:\tlearn: 40.3232198\ttotal: 9.44ms\tremaining: 9.43s\n",
      "100:\tlearn: 6.9293470\ttotal: 900ms\tremaining: 8.01s\n",
      "200:\tlearn: 5.1353031\ttotal: 1.75s\tremaining: 6.97s\n",
      "300:\tlearn: 4.7045340\ttotal: 2.6s\tremaining: 6.05s\n",
      "400:\tlearn: 4.3994760\ttotal: 3.45s\tremaining: 5.15s\n",
      "500:\tlearn: 4.0307122\ttotal: 4.31s\tremaining: 4.29s\n",
      "600:\tlearn: 3.8143218\ttotal: 5.16s\tremaining: 3.43s\n",
      "700:\tlearn: 3.6247328\ttotal: 6.02s\tremaining: 2.57s\n",
      "800:\tlearn: 3.4614761\ttotal: 6.86s\tremaining: 1.71s\n",
      "900:\tlearn: 3.3399770\ttotal: 7.75s\tremaining: 852ms\n",
      "999:\tlearn: 3.2546091\ttotal: 8.76s\tremaining: 0us\n"
     ]
    }
   ],
   "source": [
    "xgb = XGBRegressor(tree_method='gpu_hist', gpu_id=0)\n",
    "cat = CatBoostRegressor(verbose=100, early_stopping_rounds=50, task_type=\"GPU\", random_seed=113)\n",
    "lgbm = LGBMRegressor()\n",
    "linear = LinearRegression()\n",
    "\n",
    "model_train(train, test, cat)"
   ]
  },
  {
   "cell_type": "code",
   "execution_count": 458,
   "metadata": {},
   "outputs": [
    {
     "data": {
      "text/html": [
       "<div>\n",
       "<style scoped>\n",
       "    .dataframe tbody tr th:only-of-type {\n",
       "        vertical-align: middle;\n",
       "    }\n",
       "\n",
       "    .dataframe tbody tr th {\n",
       "        vertical-align: top;\n",
       "    }\n",
       "\n",
       "    .dataframe thead th {\n",
       "        text-align: right;\n",
       "    }\n",
       "</style>\n",
       "<table border=\"1\" class=\"dataframe\">\n",
       "  <thead>\n",
       "    <tr style=\"text-align: right;\">\n",
       "      <th></th>\n",
       "      <th>imp</th>\n",
       "    </tr>\n",
       "  </thead>\n",
       "  <tbody>\n",
       "    <tr>\n",
       "      <th>('시간당백색광량', 2.0)</th>\n",
       "      <td>0.000040</td>\n",
       "    </tr>\n",
       "    <tr>\n",
       "      <th>('ec관측치', 4.0)</th>\n",
       "      <td>0.000191</td>\n",
       "    </tr>\n",
       "    <tr>\n",
       "      <th>('ec관측치', 3.0)</th>\n",
       "      <td>0.000495</td>\n",
       "    </tr>\n",
       "    <tr>\n",
       "      <th>시간당백색광량 q3</th>\n",
       "      <td>0.000680</td>\n",
       "    </tr>\n",
       "    <tr>\n",
       "      <th>('시간당적색광량', 2.0)</th>\n",
       "      <td>0.000834</td>\n",
       "    </tr>\n",
       "    <tr>\n",
       "      <th>...</th>\n",
       "      <td>...</td>\n",
       "    </tr>\n",
       "    <tr>\n",
       "      <th>내부온도관측치 q3</th>\n",
       "      <td>3.990960</td>\n",
       "    </tr>\n",
       "    <tr>\n",
       "      <th>월간누적적색광량</th>\n",
       "      <td>10.421555</td>\n",
       "    </tr>\n",
       "    <tr>\n",
       "      <th>월간누적백색광량</th>\n",
       "      <td>11.869067</td>\n",
       "    </tr>\n",
       "    <tr>\n",
       "      <th>DAT</th>\n",
       "      <td>19.149975</td>\n",
       "    </tr>\n",
       "    <tr>\n",
       "      <th>월간누적분무량</th>\n",
       "      <td>21.274553</td>\n",
       "    </tr>\n",
       "  </tbody>\n",
       "</table>\n",
       "<p>98 rows × 1 columns</p>\n",
       "</div>"
      ],
      "text/plain": [
       "                        imp\n",
       "('시간당백색광량', 2.0)   0.000040\n",
       "('ec관측치', 4.0)     0.000191\n",
       "('ec관측치', 3.0)     0.000495\n",
       "시간당백색광량 q3         0.000680\n",
       "('시간당적색광량', 2.0)   0.000834\n",
       "...                     ...\n",
       "내부온도관측치 q3         3.990960\n",
       "월간누적적색광량          10.421555\n",
       "월간누적백색광량          11.869067\n",
       "DAT               19.149975\n",
       "월간누적분무량           21.274553\n",
       "\n",
       "[98 rows x 1 columns]"
      ]
     },
     "execution_count": 458,
     "metadata": {},
     "output_type": "execute_result"
    }
   ],
   "source": [
    "df_imp = pd.DataFrame({'imp':cat.feature_importances_}, index = cat.feature_names_)\n",
    "df_imp = df_imp[df_imp.imp > 0].sort_values('imp').copy()\n",
    "df_imp"
   ]
  },
  {
   "cell_type": "code",
   "execution_count": null,
   "metadata": {},
   "outputs": [],
   "source": []
  }
 ],
 "metadata": {
  "kernelspec": {
   "display_name": "Python 3.8.10 64-bit",
   "language": "python",
   "name": "python3"
  },
  "language_info": {
   "codemirror_mode": {
    "name": "ipython",
    "version": 3
   },
   "file_extension": ".py",
   "mimetype": "text/x-python",
   "name": "python",
   "nbconvert_exporter": "python",
   "pygments_lexer": "ipython3",
   "version": "3.8.10"
  },
  "orig_nbformat": 4,
  "vscode": {
   "interpreter": {
    "hash": "b081a66ee97bd2b6a16f43955f1d810b7ea816d6eaeb65e157ef9e038445f0c6"
   }
  }
 },
 "nbformat": 4,
 "nbformat_minor": 2
}
