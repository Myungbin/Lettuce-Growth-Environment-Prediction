{
 "cells": [
  {
   "cell_type": "code",
   "execution_count": 10,
   "metadata": {},
   "outputs": [],
   "source": [
    "from feature.clip_base_dataset import *\n",
    "from feature.after_dataset import *\n",
    "from glob import glob\n",
    "import warnings\n",
    "warnings.filterwarnings('ignore')"
   ]
  },
  {
   "cell_type": "code",
   "execution_count": 25,
   "metadata": {},
   "outputs": [],
   "source": [
    "train_input_list = sorted(glob('./data/train_input/*.csv'))\n",
    "train_target_list = sorted(glob('./data/train_target/*.csv'))\n",
    "\n",
    "test_input_list = sorted(glob('./data/test_input/*.csv'))\n",
    "test_target_list = sorted(glob('./data/test_target/*.csv'))"
   ]
  },
  {
   "cell_type": "code",
   "execution_count": 30,
   "metadata": {},
   "outputs": [],
   "source": [
    "def group_statistics(df):  \n",
    "    '''\n",
    "    변수의 Case별로 DAT을 기준으로 groupby 하여 대표값 설정  \n",
    "    mean, median, std, var, quantile\n",
    "    '''\n",
    "    df_a = pd.DataFrame()\n",
    "\n",
    "    for i, v in enumerate(df[\"Case\"].unique()):\n",
    "        train_old = df[df['Case']==v]\n",
    "        train_old = train_old.groupby(['DAT']).quantile(0.75).reset_index()\n",
    "        df_a = pd.concat([df_a, train_old])\n",
    "        df_a = df_a.drop(['일간누적분무량', '일간누적백색광량', '일간누적적색광량', '일간누적청색광량', '일간누적총광량',\n",
    "                          'predicted_weight_g', 'Case', 'DAT', 'obs_time'], axis=1)\n",
    "    return df_a"
   ]
  },
  {
   "cell_type": "code",
   "execution_count": 31,
   "metadata": {},
   "outputs": [],
   "source": [
    "train, train2 = make_dataset(train_input_list, train_target_list)\n",
    "test, test2 = make_dataset(test_input_list, test_target_list)\n",
    "\n",
    "train['obs_time'] = train2['obs_time']\n",
    "train['DAT'] = train2['DAT']\n",
    "test['obs_time'] = test2['obs_time']\n",
    "test['DAT'] = test2['DAT']\n",
    "\n",
    "train = time_value(train)\n",
    "test = time_value(test)\n",
    "\n",
    "train = limit_range(train)\n",
    "test = limit_range(test)\n",
    "\n",
    "train = train.fillna(method='ffill')\n",
    "test = test.fillna(method='ffill')\n",
    "\n",
    "test['predicted_weight_g'] = 0\n",
    "\n",
    "train = col_cumsum(train, \"시간당분무량\", \"일간누적분무량\")\n",
    "train = col_cumsum(train, \"시간당백색광량\", \"일간누적백색광량\")\n",
    "train = col_cumsum(train, \"시간당적색광량\", \"일간누적적색광량\")\n",
    "train = col_cumsum(train, \"시간당청색광량\", \"일간누적청색광량\")\n",
    "train = col_cumsum(train, \"시간당총광량\", \"일간누적총광량\")"
   ]
  },
  {
   "cell_type": "code",
   "execution_count": 32,
   "metadata": {},
   "outputs": [],
   "source": [
    "train = group_statistics(train)\n",
    "test = group_statistics(test)"
   ]
  },
  {
   "cell_type": "code",
   "execution_count": 33,
   "metadata": {},
   "outputs": [],
   "source": [
    "train.to_csv('clip_train_quantile0.75.csv', index=False)\n",
    "test.to_csv('clip_test_quantile0.75.csv', index=False)"
   ]
  },
  {
   "cell_type": "code",
   "execution_count": null,
   "metadata": {},
   "outputs": [],
   "source": []
  }
 ],
 "metadata": {
  "kernelspec": {
   "display_name": "Python 3.8.10 64-bit",
   "language": "python",
   "name": "python3"
  },
  "language_info": {
   "codemirror_mode": {
    "name": "ipython",
    "version": 3
   },
   "file_extension": ".py",
   "mimetype": "text/x-python",
   "name": "python",
   "nbconvert_exporter": "python",
   "pygments_lexer": "ipython3",
   "version": "3.8.10"
  },
  "orig_nbformat": 4,
  "vscode": {
   "interpreter": {
    "hash": "b081a66ee97bd2b6a16f43955f1d810b7ea816d6eaeb65e157ef9e038445f0c6"
   }
  }
 },
 "nbformat": 4,
 "nbformat_minor": 2
}
