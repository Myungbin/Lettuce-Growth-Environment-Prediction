{
 "cells": [
  {
   "cell_type": "code",
   "execution_count": 12,
   "metadata": {},
   "outputs": [],
   "source": [
    "from feature.make_dataset import make_data\n",
    "from feature.after_dataset import accumulate\n",
    "from feature.moving_average import moving_average\n",
    "import pandas as pd\n",
    "from glob import glob\n",
    "from sklearn.metrics import mean_squared_error\n",
    "from sklearn.model_selection import train_test_split\n",
    "from xgboost import XGBRegressor\n",
    "from catboost import CatBoostRegressor\n",
    "from lightgbm import LGBMRegressor\n",
    "from sklearn.linear_model import LinearRegression\n",
    "import warnings\n",
    "warnings.filterwarnings('ignore')\n"
   ]
  },
  {
   "cell_type": "code",
   "execution_count": 13,
   "metadata": {},
   "outputs": [],
   "source": [
    "train_input_list = './data/train_input/*.csv'\n",
    "train_target_list = './data/train_target/*.csv'\n",
    "\n",
    "test_input_list = './data/test_input/*.csv'\n",
    "test_target_list = './data/test_target/*.csv'"
   ]
  },
  {
   "cell_type": "code",
   "execution_count": 14,
   "metadata": {},
   "outputs": [],
   "source": [
    "train, test, p_train, p_test = make_data(train_input_list, train_target_list, test_input_list, test_target_list)\n",
    "train_rol = moving_average(train_input_list, 6)\n",
    "test_rol = moving_average(test_input_list, 6)"
   ]
  },
  {
   "cell_type": "code",
   "execution_count": 15,
   "metadata": {},
   "outputs": [],
   "source": [
    "train = train.reset_index()\n",
    "test = test.reset_index()\n",
    "train_rol = train_rol.reset_index()\n",
    "test_rol = test_rol.reset_index()"
   ]
  },
  {
   "cell_type": "code",
   "execution_count": 16,
   "metadata": {},
   "outputs": [],
   "source": [
    "accumulate(train, test, '누적분무량')\n",
    "accumulate(train, test, '누적백색광량')\n",
    "accumulate(train, test, '누적청색광량')\n",
    "accumulate(train, test, '누적적색광량')\n",
    "accumulate(train, test, '누적총광량')"
   ]
  },
  {
   "cell_type": "code",
   "execution_count": 17,
   "metadata": {},
   "outputs": [],
   "source": [
    "train = pd.concat([train, train_rol], axis=1)\n",
    "test = pd.concat([test, test_rol], axis=1)"
   ]
  },
  {
   "cell_type": "code",
   "execution_count": 18,
   "metadata": {},
   "outputs": [],
   "source": [
    "drop_feature = ['일간누적분무량', '일간누적백색광량', '일간누적적색광량', '일간누적청색광량', '일간누적총광량', 'index']\n",
    "# drop_feature = ['시간당분무량', '시간당백색광량', '시간당적색광량', '시간당청색광량', '시간당총광량', 'index']\n",
    "train = train.drop(drop_feature, axis=1)\n",
    "test = test.drop(drop_feature, axis=1)\n"
   ]
  },
  {
   "cell_type": "code",
   "execution_count": 19,
   "metadata": {},
   "outputs": [],
   "source": [
    "train = train.drop(['Case', 'obs_time'], axis=1)\n",
    "test = test.drop(['Case', 'obs_time'], axis=1)"
   ]
  },
  {
   "cell_type": "code",
   "execution_count": 20,
   "metadata": {},
   "outputs": [
    {
     "data": {
      "text/plain": [
       "19.26514105219166"
      ]
     },
     "execution_count": 20,
     "metadata": {},
     "output_type": "execute_result"
    }
   ],
   "source": [
    "X = train.drop(['predicted_weight_g'], axis=1)\n",
    "y = train['predicted_weight_g']\n",
    "\n",
    "x_train = X[:728]\n",
    "y_train = y[:728]\n",
    "x_val = X[728:]\n",
    "y_val = y[728:]\n",
    "\n",
    "cat = CatBoostRegressor(n_estimators=300, verbose=False)\n",
    "\n",
    "cat.fit(x_train, y_train)\n",
    "\n",
    "y_pred = cat.predict(x_val)\n",
    "rmse = mean_squared_error(y_val, y_pred)**0.5\n",
    "rmse"
   ]
  },
  {
   "cell_type": "code",
   "execution_count": 21,
   "metadata": {},
   "outputs": [],
   "source": [
    "df_imp = pd.DataFrame({'imp':cat.feature_importances_}, index = cat.feature_names_)\n",
    "df_imp = df_imp[df_imp.imp > 0].sort_values('imp').copy()\n",
    "df_imp.to_csv('zz.csv')"
   ]
  },
  {
   "cell_type": "code",
   "execution_count": 21,
   "metadata": {},
   "outputs": [
    {
     "name": "stdout",
     "output_type": "stream",
     "text": [
      "====================================1============================================\n",
      "1 Fold RMSE = 13.111832882967468\n",
      "================================================================================\n",
      "\n",
      "\n",
      "====================================2============================================\n",
      "2 Fold RMSE = 13.541611509450577\n",
      "================================================================================\n",
      "\n",
      "\n",
      "====================================3============================================\n",
      "3 Fold RMSE = 10.897795076565597\n",
      "================================================================================\n",
      "\n",
      "\n",
      "====================================4============================================\n",
      "4 Fold RMSE = 13.059043829494\n",
      "================================================================================\n",
      "\n",
      "\n",
      "====================================5============================================\n",
      "5 Fold RMSE = 14.043638278961364\n",
      "================================================================================\n",
      "\n",
      "\n"
     ]
    }
   ],
   "source": [
    "X = train.drop(['predicted_weight_g'], axis=1)\n",
    "y = train['predicted_weight_g']\n",
    "from sklearn.model_selection import StratifiedKFold, KFold\n",
    "\n",
    "skf = KFold(n_splits=5, shuffle=True, random_state=404)\n",
    "\n",
    "folds = []\n",
    "\n",
    "for train_idx, val_idx in skf.split(X, y):\n",
    "    folds.append((train_idx, val_idx))\n",
    "\n",
    "XGB_model = {}\n",
    "\n",
    "for f in range(5):\n",
    "    print(f'===================================={f+1}============================================')\n",
    "    train_idx, val_idx = folds[f]\n",
    "\n",
    "    x_train, x_val, y_train, y_val = X.iloc[train_idx], X.iloc[val_idx], y.iloc[train_idx], y.iloc[val_idx]\n",
    "\n",
    "    xgb = XGBRegressor(n_estimators=5000, learning_rate=0.05, subsample=0.5,\n",
    "                       max_depth=6, gamma=500, reg_lambda=500, colsample_bytree=0.5, random_state=42)\n",
    "    xgb.fit(x_train, y_train)\n",
    "\n",
    "    y_pred = xgb.predict(x_val)\n",
    "    rmse = mean_squared_error(y_val, y_pred)**0.5\n",
    "    print(f\"{f + 1} Fold RMSE = {rmse}\")\n",
    "    XGB_model[f] = xgb\n",
    "    print(f'================================================================================\\n\\n')\n",
    "\n",
    "\n",
    "submit = test[['DAT', 'predicted_weight_g']]\n",
    "x_test = test.drop(['predicted_weight_g'], axis=1)\n",
    "for fold in range(5):\n",
    "    submit['predicted_weight_g'] += XGB_model[fold].predict(x_test)/5\n",
    "all_target_list = sorted(glob.glob('./data/test_target/*.csv'))\n",
    "for idx, test_path in enumerate(all_target_list):\n",
    "    submit_df = pd.read_csv(test_path)\n",
    "    submit_df['predicted_weight_g'] = submit['predicted_weight_g'][idx*28:idx*28+28].values\n",
    "    submit_df.to_csv(test_path, index=False)"
   ]
  },
  {
   "cell_type": "code",
   "execution_count": null,
   "metadata": {},
   "outputs": [],
   "source": []
  }
 ],
 "metadata": {
  "kernelspec": {
   "display_name": "base",
   "language": "python",
   "name": "python3"
  },
  "language_info": {
   "codemirror_mode": {
    "name": "ipython",
    "version": 3
   },
   "file_extension": ".py",
   "mimetype": "text/x-python",
   "name": "python",
   "nbconvert_exporter": "python",
   "pygments_lexer": "ipython3",
   "version": "3.9.13"
  },
  "orig_nbformat": 4,
  "vscode": {
   "interpreter": {
    "hash": "8b89323bfb51462e07b3b44fbe5501f0ab989a383b4d33571ac0c27eb59569d4"
   }
  }
 },
 "nbformat": 4,
 "nbformat_minor": 2
}
