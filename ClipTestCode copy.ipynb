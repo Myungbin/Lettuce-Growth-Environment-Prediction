{
 "cells": [
  {
   "cell_type": "code",
   "execution_count": 16,
   "metadata": {},
   "outputs": [],
   "source": [
    "from feature.clip_make_dataset import make_data\n",
    "from feature.after_dataset import accumulate\n",
    "from feature.utils import log_scale\n",
    "from model.model_train import model_train\n",
    "import pandas as pd\n",
    "from glob import glob\n",
    "from sklearn.metrics import mean_squared_error\n",
    "from sklearn.model_selection import train_test_split\n",
    "import glob\n",
    "import numpy as np\n",
    "from xgboost import XGBRegressor\n",
    "from catboost import CatBoostRegressor\n",
    "from lightgbm import LGBMRegressor\n",
    "from sklearn.linear_model import LinearRegression\n",
    "import warnings\n",
    "import matplotlib.pyplot as plt\n",
    "warnings.filterwarnings('ignore')"
   ]
  },
  {
   "cell_type": "code",
   "execution_count": 17,
   "metadata": {},
   "outputs": [],
   "source": [
    "train_input_list = './data/train_input/*.csv'\n",
    "train_target_list = './data/train_target/*.csv'\n",
    "\n",
    "test_input_list = './data/test_input/*.csv'\n",
    "test_target_list = './data/test_target/*.csv'\n",
    "train, test, p_train, p_test = make_data(train_input_list, train_target_list, test_input_list, test_target_list)"
   ]
  },
  {
   "cell_type": "code",
   "execution_count": 18,
   "metadata": {},
   "outputs": [],
   "source": [
    "accumulate(train, test, '누적분무량')\n",
    "accumulate(train, test, '누적백색광량')\n",
    "accumulate(train, test, '누적청색광량')\n",
    "accumulate(train, test, '누적적색광량')"
   ]
  },
  {
   "cell_type": "code",
   "execution_count": 19,
   "metadata": {},
   "outputs": [],
   "source": [
    "train_1 = pd.read_csv('./data/clip_preprocessing/clip_train_quantile0.25.csv')\n",
    "test_1 = pd.read_csv('./data/clip_preprocessing/clip_test_quantile0.25.csv')\n",
    "train_3 = pd.read_csv('./data/clip_preprocessing/clip_train_quantile0.75.csv')\n",
    "test_3 = pd.read_csv('./data/clip_preprocessing/clip_test_quantile0.75.csv')\n",
    "train_std = pd.read_csv('./data/clip_preprocessing/clip_train_std.csv')\n",
    "test_std = pd.read_csv('./data/clip_preprocessing/clip_test_std.csv')\n",
    "train_mid = pd.read_csv('./data/clip_preprocessing/clip_train_median.csv')\n",
    "test_mid = pd.read_csv('./data/clip_preprocessing/clip_test_median.csv')\n",
    "train_sem = pd.read_csv('./data/clip_preprocessing/clip_train_sem.csv')\n",
    "test_sem = pd.read_csv('./data/clip_preprocessing/clip_test_sem.csv')\n",
    "\n",
    "train_3.columns = [col+' q3' for col in train_3.columns]\n",
    "test_3.columns = [col+' q3' for col in test_3.columns]\n",
    "train_1.columns = [col+' q1' for col in train_1.columns]\n",
    "test_1.columns = [col+' q1' for col in test_1.columns]\n",
    "train_std.columns = [col+' std' for col in train_std.columns]\n",
    "test_std.columns = [col+' std' for col in test_std.columns]\n",
    "train_mid.columns = [col+' mid' for col in train_mid.columns]\n",
    "test_mid.columns = [col+' mid' for col in test_mid.columns]\n",
    "train_sem.columns = [col+' sem' for col in train_sem.columns]\n",
    "test_sem.columns = [col+' sem' for col in test_sem.columns]\n",
    "\n",
    "train = train.reset_index()\n",
    "test  = test.reset_index()\n",
    "train_3 = train_3.reset_index()\n",
    "test_3 = test_3.reset_index()\n",
    "train_1 = train_1.reset_index()\n",
    "test_1 = test_1.reset_index()\n",
    "train_std = train_std.reset_index()\n",
    "test_std = test_std.reset_index()\n",
    "train_mid = train_mid.reset_index()\n",
    "test_mid = test_mid.reset_index()\n",
    "train_sem = train_sem.reset_index()\n",
    "test_sem = test_sem.reset_index()"
   ]
  },
  {
   "cell_type": "code",
   "execution_count": 20,
   "metadata": {},
   "outputs": [],
   "source": [
    "train = pd.concat([train, train_1, train_3, train_std], axis=1)\n",
    "test = pd.concat([test, test_1, test_3, test_std], axis=1)\n",
    "train = train.reset_index(inplace=False)\n",
    "test  = test.reset_index(inplace=False)\n",
    "train = pd.concat([train, p_train], axis=1)\n",
    "test = pd.concat([test, p_test], axis=1)\n",
    "train = train.drop(['index', 'level_0'], axis=1)\n",
    "test = test.drop(['index', 'level_0'], axis=1)"
   ]
  },
  {
   "cell_type": "code",
   "execution_count": 22,
   "metadata": {},
   "outputs": [
    {
     "name": "stdout",
     "output_type": "stream",
     "text": [
      "Index(['DAT', '내부온도관측치', '내부습도관측치', 'co2관측치', 'ec관측치', '시간당분무량', '일간누적분무량',\n",
      "       '시간당백색광량', '일간누적백색광량', '시간당적색광량', '일간누적적색광량', '시간당청색광량', '일간누적청색광량',\n",
      "       '시간당총광량', '일간누적총광량', 'diff_temp', 'dark', 'water', '월간누적분무량',\n",
      "       '월간누적백색광량', '월간누적청색광량', '월간누적적색광량', '내부온도관측치 q1', '내부습도관측치 q1',\n",
      "       'co2관측치 q1', 'ec관측치 q1', '시간당분무량 q1', '시간당백색광량 q1', '시간당적색광량 q1',\n",
      "       '시간당청색광량 q1', '시간당총광량 q1', '내부온도관측치 q3', '내부습도관측치 q3', 'co2관측치 q3',\n",
      "       'ec관측치 q3', '시간당분무량 q3', '시간당백색광량 q3', '시간당적색광량 q3', '시간당청색광량 q3',\n",
      "       '시간당총광량 q3', '내부온도관측치 std', '내부습도관측치 std', 'co2관측치 std', 'ec관측치 std',\n",
      "       '시간당분무량 std', '시간당백색광량 std', '시간당적색광량 std', '시간당청색광량 std', '시간당총광량 std',\n",
      "       '('일간누적백색광량', 1.0)', '('일간누적백색광량', 2.0)', '('일간누적백색광량', 3.0)',\n",
      "       '('일간누적백색광량', 4.0)', '('일간누적분무량', 1.0)', '('일간누적분무량', 2.0)',\n",
      "       '('일간누적분무량', 3.0)', '('일간누적분무량', 4.0)', '('일간누적적색광량', 1.0)',\n",
      "       '('일간누적적색광량', 2.0)', '('일간누적적색광량', 3.0)', '('일간누적적색광량', 4.0)',\n",
      "       '('일간누적청색광량', 1.0)', '('일간누적청색광량', 2.0)', '('일간누적청색광량', 3.0)',\n",
      "       '('일간누적청색광량', 4.0)', '('일간누적총광량', 1.0)', '('일간누적총광량', 2.0)',\n",
      "       '('일간누적총광량', 3.0)', '('일간누적총광량', 4.0)'],\n",
      "      dtype='object')\n",
      "Learning rate set to 0.037333\n",
      "0:\tlearn: 40.7217279\ttotal: 8.52ms\tremaining: 8.51s\n",
      "100:\tlearn: 7.7343067\ttotal: 917ms\tremaining: 8.16s\n",
      "200:\tlearn: 5.7039535\ttotal: 1.77s\tremaining: 7.03s\n",
      "300:\tlearn: 4.9571204\ttotal: 2.65s\tremaining: 6.15s\n",
      "400:\tlearn: 4.6110054\ttotal: 3.52s\tremaining: 5.25s\n",
      "500:\tlearn: 4.3076720\ttotal: 4.45s\tremaining: 4.43s\n",
      "600:\tlearn: 4.0463554\ttotal: 5.38s\tremaining: 3.57s\n",
      "700:\tlearn: 3.8526489\ttotal: 6.26s\tremaining: 2.67s\n",
      "800:\tlearn: 3.7342275\ttotal: 7.13s\tremaining: 1.77s\n",
      "900:\tlearn: 3.6712484\ttotal: 8.01s\tremaining: 880ms\n",
      "999:\tlearn: 3.6119555\ttotal: 8.9s\tremaining: 0us\n",
      "validation rmse: 8.66486580931003\n",
      "Learning rate set to 0.039126\n",
      "0:\tlearn: 40.3147296\ttotal: 8.54ms\tremaining: 8.53s\n",
      "100:\tlearn: 6.7712332\ttotal: 832ms\tremaining: 7.41s\n",
      "200:\tlearn: 4.9798469\ttotal: 1.65s\tremaining: 6.54s\n",
      "300:\tlearn: 4.5496145\ttotal: 2.43s\tremaining: 5.65s\n",
      "400:\tlearn: 4.2561094\ttotal: 3.25s\tremaining: 4.86s\n",
      "500:\tlearn: 4.0758012\ttotal: 4.08s\tremaining: 4.06s\n",
      "600:\tlearn: 3.8565166\ttotal: 4.87s\tremaining: 3.23s\n",
      "700:\tlearn: 3.7582525\ttotal: 5.7s\tremaining: 2.43s\n",
      "800:\tlearn: 3.6743353\ttotal: 6.51s\tremaining: 1.62s\n",
      "900:\tlearn: 3.5632073\ttotal: 7.36s\tremaining: 808ms\n",
      "999:\tlearn: 3.4843273\ttotal: 8.15s\tremaining: 0us\n"
     ]
    }
   ],
   "source": [
    "cat = CatBoostRegressor(verbose=100, early_stopping_rounds=50, task_type=\"GPU\", random_seed=113)\n",
    "model_train(train, test, cat)"
   ]
  },
  {
   "cell_type": "code",
   "execution_count": 23,
   "metadata": {},
   "outputs": [],
   "source": [
    "df_imp = pd.DataFrame({'imp':cat.feature_importances_}, index = cat.feature_names_)\n",
    "df_imp = df_imp[df_imp.imp > 0].sort_values('imp').copy()\n",
    "df_imp.to_csv('feature_imp.csv', encoding='cp949')"
   ]
  },
  {
   "cell_type": "code",
   "execution_count": null,
   "metadata": {},
   "outputs": [],
   "source": []
  }
 ],
 "metadata": {
  "kernelspec": {
   "display_name": "Python 3.8.10 64-bit",
   "language": "python",
   "name": "python3"
  },
  "language_info": {
   "codemirror_mode": {
    "name": "ipython",
    "version": 3
   },
   "file_extension": ".py",
   "mimetype": "text/x-python",
   "name": "python",
   "nbconvert_exporter": "python",
   "pygments_lexer": "ipython3",
   "version": "3.8.10"
  },
  "orig_nbformat": 4,
  "vscode": {
   "interpreter": {
    "hash": "b081a66ee97bd2b6a16f43955f1d810b7ea816d6eaeb65e157ef9e038445f0c6"
   }
  }
 },
 "nbformat": 4,
 "nbformat_minor": 2
}
