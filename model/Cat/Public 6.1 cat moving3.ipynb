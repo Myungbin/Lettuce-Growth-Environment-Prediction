{
 "cells": [
  {
   "cell_type": "code",
   "execution_count": 1,
   "metadata": {},
   "outputs": [],
   "source": [
    "from feature.make_dataset import make_data\n",
    "from feature.after_dataset import accumulate\n",
    "from feature.moving_average import moving_average\n",
    "import pandas as pd\n",
    "from glob import glob\n",
    "from sklearn.metrics import mean_squared_error\n",
    "from sklearn.model_selection import train_test_split\n",
    "import glob\n",
    "from catboost import CatBoostRegressor\n",
    "from sklearn.ensemble import VotingRegressor\n",
    "from sklearn.ensemble import RandomForestRegressor\n",
    "from sklearn.neighbors import KNeighborsRegressor\n",
    "from xgboost import XGBRegressor\n",
    "from lightgbm import LGBMRegressor\n",
    "from sklearn.linear_model import LinearRegression\n",
    "import warnings\n",
    "warnings.filterwarnings('ignore')\n"
   ]
  },
  {
   "cell_type": "code",
   "execution_count": 2,
   "metadata": {},
   "outputs": [],
   "source": [
    "train_input_list = './data/train_input/*.csv'\n",
    "train_target_list = './data/train_target/*.csv'\n",
    "\n",
    "test_input_list = './data/test_input/*.csv'\n",
    "test_target_list = './data/test_target/*.csv'"
   ]
  },
  {
   "cell_type": "code",
   "execution_count": 3,
   "metadata": {},
   "outputs": [],
   "source": [
    "train, test, p_train, p_test = make_data(train_input_list, train_target_list, test_input_list, test_target_list)\n",
    "train_rol = moving_average(train_input_list)\n",
    "test_rol = moving_average(test_input_list)"
   ]
  },
  {
   "cell_type": "code",
   "execution_count": 4,
   "metadata": {},
   "outputs": [],
   "source": [
    "train = train.reset_index()\n",
    "test = test.reset_index()\n",
    "train_rol = train_rol.reset_index()\n",
    "test_rol = test_rol.reset_index()"
   ]
  },
  {
   "cell_type": "code",
   "execution_count": 5,
   "metadata": {},
   "outputs": [],
   "source": [
    "accumulate(train, test, '누적분무량')\n",
    "accumulate(train, test, '누적백색광량')\n",
    "accumulate(train, test, '누적청색광량')\n",
    "accumulate(train, test, '누적적색광량')\n",
    "accumulate(train, test, '누적총광량')"
   ]
  },
  {
   "cell_type": "code",
   "execution_count": 6,
   "metadata": {},
   "outputs": [],
   "source": [
    "train = pd.concat([train, train_rol], axis=1)\n",
    "test = pd.concat([test, test_rol], axis=1)"
   ]
  },
  {
   "cell_type": "code",
   "execution_count": 7,
   "metadata": {},
   "outputs": [],
   "source": [
    "drop_feature = ['시간당분무량', '시간당백색광량', '시간당적색광량', '시간당청색광량', '시간당총광량', 'index']\n",
    "train = train.drop(drop_feature, axis=1)\n",
    "test = test.drop(drop_feature, axis=1)\n"
   ]
  },
  {
   "cell_type": "code",
   "execution_count": 12,
   "metadata": {},
   "outputs": [
    {
     "name": "stdout",
     "output_type": "stream",
     "text": [
      "====================================1============================================\n",
      "Learning rate set to 0.025121\n",
      "0:\tlearn: 42.0175521\ttotal: 10.6ms\tremaining: 21.2s\n",
      "500:\tlearn: 4.6567534\ttotal: 4.89s\tremaining: 14.6s\n",
      "1000:\tlearn: 3.3889351\ttotal: 9.85s\tremaining: 9.83s\n",
      "1500:\tlearn: 2.9994725\ttotal: 14.9s\tremaining: 4.94s\n",
      "1999:\tlearn: 2.8028132\ttotal: 19.9s\tremaining: 0us\n",
      "1 Fold RMSE = 7.577207463172634\n",
      "================================================================================\n",
      "\n",
      "\n",
      "====================================2============================================\n",
      "Learning rate set to 0.025121\n",
      "0:\tlearn: 40.4152822\ttotal: 10.7ms\tremaining: 21.4s\n",
      "500:\tlearn: 5.5543378\ttotal: 5.01s\tremaining: 15s\n",
      "1000:\tlearn: 4.3395235\ttotal: 9.98s\tremaining: 9.96s\n",
      "1500:\tlearn: 4.1372324\ttotal: 14.4s\tremaining: 4.78s\n",
      "1999:\tlearn: 3.7719270\ttotal: 19s\tremaining: 0us\n",
      "2 Fold RMSE = 8.048566247752781\n",
      "================================================================================\n",
      "\n",
      "\n",
      "====================================3============================================\n",
      "Learning rate set to 0.025121\n",
      "0:\tlearn: 41.5895922\ttotal: 10.6ms\tremaining: 21.3s\n",
      "500:\tlearn: 4.7756357\ttotal: 4.94s\tremaining: 14.8s\n",
      "1000:\tlearn: 4.1493631\ttotal: 9.77s\tremaining: 9.74s\n",
      "1500:\tlearn: 3.5345180\ttotal: 14.7s\tremaining: 4.9s\n",
      "1999:\tlearn: 3.3261667\ttotal: 19.5s\tremaining: 0us\n",
      "3 Fold RMSE = 6.536041654471992\n",
      "================================================================================\n",
      "\n",
      "\n",
      "====================================4============================================\n",
      "Learning rate set to 0.025121\n",
      "0:\tlearn: 40.3635777\ttotal: 10.5ms\tremaining: 21s\n",
      "500:\tlearn: 4.9242209\ttotal: 4.88s\tremaining: 14.6s\n",
      "1000:\tlearn: 4.0955233\ttotal: 9.72s\tremaining: 9.7s\n",
      "1500:\tlearn: 3.8546506\ttotal: 14.5s\tremaining: 4.81s\n",
      "1999:\tlearn: 3.6743700\ttotal: 19.4s\tremaining: 0us\n",
      "4 Fold RMSE = 7.415248198120428\n",
      "================================================================================\n",
      "\n",
      "\n",
      "====================================5============================================\n",
      "Learning rate set to 0.025126\n",
      "0:\tlearn: 39.6212864\ttotal: 12.2ms\tremaining: 24.3s\n",
      "500:\tlearn: 4.6399978\ttotal: 5.22s\tremaining: 15.6s\n",
      "1000:\tlearn: 3.9892153\ttotal: 9.79s\tremaining: 9.77s\n",
      "1500:\tlearn: 3.5371456\ttotal: 14.3s\tremaining: 4.77s\n",
      "1999:\tlearn: 3.5371356\ttotal: 17.2s\tremaining: 0us\n",
      "5 Fold RMSE = 8.805126593424534\n",
      "================================================================================\n",
      "\n",
      "\n"
     ]
    }
   ],
   "source": [
    "X = train.drop(['predicted_weight_g', 'Case', 'obs_time'], axis=1)\n",
    "y = train['predicted_weight_g']\n",
    "from sklearn.model_selection import StratifiedKFold, KFold\n",
    "\n",
    "skf = KFold(n_splits=5, shuffle=True, random_state=404)\n",
    "\n",
    "folds = []\n",
    "\n",
    "for train_idx, val_idx in skf.split(X, y):\n",
    "    folds.append((train_idx, val_idx))\n",
    "\n",
    "CAT_model = {}\n",
    "\n",
    "for f in range(5):\n",
    "    print(f'===================================={f+1}============================================')\n",
    "    train_idx, val_idx = folds[f]\n",
    "\n",
    "    x_train, x_val, y_train, y_val = X.iloc[train_idx], X.iloc[val_idx], y.iloc[train_idx], y.iloc[val_idx]\n",
    "\n",
    "    CAT = CatBoostRegressor(verbose=500, early_stopping_rounds=50, task_type=\"GPU\", random_seed=113, n_estimators=2000)\n",
    "    CAT.fit(x_train, y_train)\n",
    "\n",
    "    y_pred = CAT.predict(x_val)\n",
    "    rmse = mean_squared_error(y_val, y_pred)**0.5\n",
    "    print(f\"{f + 1} Fold RMSE = {rmse}\")\n",
    "    CAT_model[f] = CAT\n",
    "    print(f'================================================================================\\n\\n')\n",
    "\n",
    "\n",
    "submit = test[['DAT', 'predicted_weight_g']]\n",
    "x_test = test.drop(['predicted_weight_g', 'Case', 'obs_time'], axis=1)\n",
    "for fold in range(5):\n",
    "    submit['predicted_weight_g'] += CAT_model[fold].predict(x_test)/5\n",
    "all_target_list = sorted(glob.glob('./data/test_target/*.csv'))\n",
    "for idx, test_path in enumerate(all_target_list):\n",
    "    submit_df = pd.read_csv(test_path)\n",
    "    submit_df['predicted_weight_g'] = submit['predicted_weight_g'][idx*28:idx*28+28].values\n",
    "    submit_df.to_csv(test_path, index=False)"
   ]
  },
  {
   "cell_type": "code",
   "execution_count": 13,
   "metadata": {},
   "outputs": [
    {
     "data": {
      "text/html": [
       "<div>\n",
       "<style scoped>\n",
       "    .dataframe tbody tr th:only-of-type {\n",
       "        vertical-align: middle;\n",
       "    }\n",
       "\n",
       "    .dataframe tbody tr th {\n",
       "        vertical-align: top;\n",
       "    }\n",
       "\n",
       "    .dataframe thead th {\n",
       "        text-align: right;\n",
       "    }\n",
       "</style>\n",
       "<table border=\"1\" class=\"dataframe\">\n",
       "  <thead>\n",
       "    <tr style=\"text-align: right;\">\n",
       "      <th></th>\n",
       "      <th>imp</th>\n",
       "    </tr>\n",
       "  </thead>\n",
       "  <tbody>\n",
       "    <tr>\n",
       "      <th>('일간누적분무량', 11)</th>\n",
       "      <td>0.000133</td>\n",
       "    </tr>\n",
       "    <tr>\n",
       "      <th>('ec관측치', 2)</th>\n",
       "      <td>0.000420</td>\n",
       "    </tr>\n",
       "    <tr>\n",
       "      <th>('ec관측치', 16)</th>\n",
       "      <td>0.000580</td>\n",
       "    </tr>\n",
       "    <tr>\n",
       "      <th>('일간누적분무량', 10)</th>\n",
       "      <td>0.001471</td>\n",
       "    </tr>\n",
       "    <tr>\n",
       "      <th>('일간누적총광량', 4)</th>\n",
       "      <td>0.002754</td>\n",
       "    </tr>\n",
       "    <tr>\n",
       "      <th>...</th>\n",
       "      <td>...</td>\n",
       "    </tr>\n",
       "    <tr>\n",
       "      <th>('내부온도관측치', 17)</th>\n",
       "      <td>2.091089</td>\n",
       "    </tr>\n",
       "    <tr>\n",
       "      <th>월간누적백색광량</th>\n",
       "      <td>10.673972</td>\n",
       "    </tr>\n",
       "    <tr>\n",
       "      <th>월간누적적색광량</th>\n",
       "      <td>10.858394</td>\n",
       "    </tr>\n",
       "    <tr>\n",
       "      <th>월간누적분무량</th>\n",
       "      <td>19.234657</td>\n",
       "    </tr>\n",
       "    <tr>\n",
       "      <th>DAT</th>\n",
       "      <td>23.227475</td>\n",
       "    </tr>\n",
       "  </tbody>\n",
       "</table>\n",
       "<p>161 rows × 1 columns</p>\n",
       "</div>"
      ],
      "text/plain": [
       "                       imp\n",
       "('일간누적분무량', 11)   0.000133\n",
       "('ec관측치', 2)      0.000420\n",
       "('ec관측치', 16)     0.000580\n",
       "('일간누적분무량', 10)   0.001471\n",
       "('일간누적총광량', 4)    0.002754\n",
       "...                    ...\n",
       "('내부온도관측치', 17)   2.091089\n",
       "월간누적백색광량         10.673972\n",
       "월간누적적색광량         10.858394\n",
       "월간누적분무량          19.234657\n",
       "DAT              23.227475\n",
       "\n",
       "[161 rows x 1 columns]"
      ]
     },
     "execution_count": 13,
     "metadata": {},
     "output_type": "execute_result"
    }
   ],
   "source": [
    "df_imp = pd.DataFrame({'imp':CAT.feature_importances_}, index = CAT.feature_names_)\n",
    "df_imp = df_imp[df_imp.imp > 0].sort_values('imp').copy()\n",
    "df_imp"
   ]
  },
  {
   "cell_type": "code",
   "execution_count": 11,
   "metadata": {},
   "outputs": [],
   "source": [
    "df_imp.to_csv('zz.csv')"
   ]
  },
  {
   "cell_type": "code",
   "execution_count": null,
   "metadata": {},
   "outputs": [],
   "source": []
  }
 ],
 "metadata": {
  "kernelspec": {
   "display_name": "Python 3.8.10 64-bit",
   "language": "python",
   "name": "python3"
  },
  "language_info": {
   "codemirror_mode": {
    "name": "ipython",
    "version": 3
   },
   "file_extension": ".py",
   "mimetype": "text/x-python",
   "name": "python",
   "nbconvert_exporter": "python",
   "pygments_lexer": "ipython3",
   "version": "3.8.10"
  },
  "orig_nbformat": 4,
  "vscode": {
   "interpreter": {
    "hash": "b081a66ee97bd2b6a16f43955f1d810b7ea816d6eaeb65e157ef9e038445f0c6"
   }
  }
 },
 "nbformat": 4,
 "nbformat_minor": 2
}
