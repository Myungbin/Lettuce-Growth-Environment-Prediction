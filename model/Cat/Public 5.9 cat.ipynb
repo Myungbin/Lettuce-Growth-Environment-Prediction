{
 "cells": [
  {
   "cell_type": "code",
   "execution_count": 27,
   "metadata": {},
   "outputs": [],
   "source": [
    "from feature.make_dataset import make_data\n",
    "from feature.after_dataset import accumulate\n",
    "from feature.moving_average import moving_average\n",
    "import pandas as pd\n",
    "from glob import glob\n",
    "from sklearn.metrics import mean_squared_error\n",
    "from sklearn.model_selection import train_test_split\n",
    "import glob\n",
    "from xgboost import XGBRegressor\n",
    "from catboost import CatBoostRegressor\n",
    "from lightgbm import LGBMRegressor\n",
    "from sklearn.linear_model import LinearRegression\n",
    "import warnings\n",
    "warnings.filterwarnings('ignore')\n"
   ]
  },
  {
   "cell_type": "code",
   "execution_count": 28,
   "metadata": {},
   "outputs": [],
   "source": [
    "train_input_list = './data/train_input/*.csv'\n",
    "train_target_list = './data/train_target/*.csv'\n",
    "\n",
    "test_input_list = './data/test_input/*.csv'\n",
    "test_target_list = './data/test_target/*.csv'"
   ]
  },
  {
   "cell_type": "code",
   "execution_count": 29,
   "metadata": {},
   "outputs": [],
   "source": [
    "train, test, p_train, p_test = make_data(train_input_list, train_target_list, test_input_list, test_target_list)\n",
    "train_rol = moving_average(train_input_list)\n",
    "test_rol = moving_average(test_input_list)"
   ]
  },
  {
   "cell_type": "code",
   "execution_count": 30,
   "metadata": {},
   "outputs": [],
   "source": [
    "train = train.reset_index()\n",
    "test = test.reset_index()\n",
    "train_rol = train_rol.reset_index()\n",
    "test_rol = test_rol.reset_index()"
   ]
  },
  {
   "cell_type": "code",
   "execution_count": 31,
   "metadata": {},
   "outputs": [],
   "source": [
    "accumulate(train, test, '누적분무량')\n",
    "accumulate(train, test, '누적백색광량')\n",
    "accumulate(train, test, '누적청색광량')\n",
    "accumulate(train, test, '누적적색광량')\n",
    "accumulate(train, test, '누적총광량')"
   ]
  },
  {
   "cell_type": "code",
   "execution_count": 32,
   "metadata": {},
   "outputs": [],
   "source": [
    "train = pd.concat([train, train_rol], axis=1)\n",
    "test = pd.concat([test, test_rol], axis=1)"
   ]
  },
  {
   "cell_type": "code",
   "execution_count": 33,
   "metadata": {},
   "outputs": [],
   "source": [
    "drop_feature = ['시간당분무량', '시간당백색광량', '시간당적색광량', '시간당청색광량', '시간당총광량', 'index']\n",
    "train = train.drop(drop_feature, axis=1)\n",
    "test = test.drop(drop_feature, axis=1)\n"
   ]
  },
  {
   "cell_type": "code",
   "execution_count": 39,
   "metadata": {},
   "outputs": [
    {
     "name": "stdout",
     "output_type": "stream",
     "text": [
      "====================================1============================================\n",
      "Learning rate set to 0.037997\n",
      "0:\tlearn: 41.5876795\ttotal: 10.6ms\tremaining: 10.6s\n",
      "500:\tlearn: 3.8953458\ttotal: 4.94s\tremaining: 4.92s\n",
      "999:\tlearn: 3.1296310\ttotal: 9.75s\tremaining: 0us\n",
      "1 Fold RMSE = 8.186903900991904\n",
      "================================================================================\n",
      "\n",
      "\n",
      "====================================2============================================\n",
      "Learning rate set to 0.037997\n",
      "0:\tlearn: 39.9878956\ttotal: 11.1ms\tremaining: 11.1s\n",
      "500:\tlearn: 4.8482479\ttotal: 4.98s\tremaining: 4.96s\n",
      "999:\tlearn: 4.2272455\ttotal: 9.76s\tremaining: 0us\n",
      "2 Fold RMSE = 8.615328689744814\n",
      "================================================================================\n",
      "\n",
      "\n",
      "====================================3============================================\n",
      "Learning rate set to 0.037997\n",
      "0:\tlearn: 41.1692615\ttotal: 10.4ms\tremaining: 10.3s\n",
      "500:\tlearn: 4.5017835\ttotal: 5s\tremaining: 4.98s\n",
      "999:\tlearn: 4.0742393\ttotal: 9.55s\tremaining: 0us\n",
      "3 Fold RMSE = 6.95923532490345\n",
      "================================================================================\n",
      "\n",
      "\n",
      "====================================4============================================\n",
      "Learning rate set to 0.037997\n",
      "0:\tlearn: 39.9624949\ttotal: 10.9ms\tremaining: 10.8s\n",
      "500:\tlearn: 4.5448195\ttotal: 5.01s\tremaining: 4.99s\n",
      "999:\tlearn: 3.5394098\ttotal: 9.94s\tremaining: 0us\n",
      "4 Fold RMSE = 7.180877582691078\n",
      "================================================================================\n",
      "\n",
      "\n",
      "====================================5============================================\n",
      "Learning rate set to 0.038005\n",
      "0:\tlearn: 39.2340833\ttotal: 10.4ms\tremaining: 10.4s\n",
      "500:\tlearn: 4.4918380\ttotal: 4.52s\tremaining: 4.5s\n",
      "999:\tlearn: 4.3584437\ttotal: 8.46s\tremaining: 0us\n",
      "5 Fold RMSE = 8.977267020476129\n",
      "================================================================================\n",
      "\n",
      "\n"
     ]
    }
   ],
   "source": [
    "X = train.drop(['predicted_weight_g', 'Case', 'obs_time', '6time'], axis=1)\n",
    "y = train['predicted_weight_g']\n",
    "from sklearn.model_selection import StratifiedKFold, KFold\n",
    "\n",
    "skf = KFold(n_splits=5, shuffle=True, random_state=404)\n",
    "\n",
    "folds = []\n",
    "\n",
    "for train_idx, val_idx in skf.split(X, y):\n",
    "    folds.append((train_idx, val_idx))\n",
    "\n",
    "CAT_model = {}\n",
    "\n",
    "for f in range(5):\n",
    "    print(f'===================================={f+1}============================================')\n",
    "    train_idx, val_idx = folds[f]\n",
    "\n",
    "    x_train, x_val, y_train, y_val = X.iloc[train_idx], X.iloc[val_idx], y.iloc[train_idx], y.iloc[val_idx]\n",
    "\n",
    "    CAT = CatBoostRegressor(verbose=500, early_stopping_rounds=50, task_type=\"GPU\", random_seed=113)\n",
    "    CAT.fit(x_train, y_train)\n",
    "\n",
    "    y_pred = CAT.predict(x_val)\n",
    "    rmse = mean_squared_error(y_val, y_pred)**0.5\n",
    "    print(f\"{f + 1} Fold RMSE = {rmse}\")\n",
    "    CAT_model[f] = CAT\n",
    "    print(f'================================================================================\\n\\n')\n",
    "\n",
    "\n",
    "submit = test[['DAT', 'predicted_weight_g']]\n",
    "x_test = test.drop(['predicted_weight_g', 'Case', 'obs_time', '6time'], axis=1)\n",
    "for fold in range(5):\n",
    "    submit['predicted_weight_g'] += CAT_model[fold].predict(x_test)/5\n",
    "all_target_list = sorted(glob.glob('./data/test_target/*.csv'))\n",
    "for idx, test_path in enumerate(all_target_list):\n",
    "    submit_df = pd.read_csv(test_path)\n",
    "    submit_df['predicted_weight_g'] = submit['predicted_weight_g'][idx*28:idx*28+28].values\n",
    "    submit_df.to_csv(test_path, index=False)"
   ]
  }
 ],
 "metadata": {
  "kernelspec": {
   "display_name": "Python 3.8.10 64-bit",
   "language": "python",
   "name": "python3"
  },
  "language_info": {
   "codemirror_mode": {
    "name": "ipython",
    "version": 3
   },
   "file_extension": ".py",
   "mimetype": "text/x-python",
   "name": "python",
   "nbconvert_exporter": "python",
   "pygments_lexer": "ipython3",
   "version": "3.8.10 (tags/v3.8.10:3d8993a, May  3 2021, 11:48:03) [MSC v.1928 64 bit (AMD64)]"
  },
  "orig_nbformat": 4,
  "vscode": {
   "interpreter": {
    "hash": "b081a66ee97bd2b6a16f43955f1d810b7ea816d6eaeb65e157ef9e038445f0c6"
   }
  }
 },
 "nbformat": 4,
 "nbformat_minor": 2
}
