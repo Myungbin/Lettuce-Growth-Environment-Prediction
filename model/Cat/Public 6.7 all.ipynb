{
 "cells": [
  {
   "cell_type": "code",
   "execution_count": 1,
   "metadata": {},
   "outputs": [],
   "source": [
    "from feature.make_dataset import make_data\n",
    "from feature.after_dataset import accumulate\n",
    "from feature.moving_average import moving_average\n",
    "from feature.utils import tanspose_data\n",
    "import pandas as pd\n",
    "from glob import glob\n",
    "from sklearn.metrics import mean_squared_error\n",
    "from sklearn.model_selection import train_test_split\n",
    "import glob\n",
    "from xgboost import XGBRegressor\n",
    "from catboost import CatBoostRegressor\n",
    "from lightgbm import LGBMRegressor\n",
    "from sklearn.linear_model import LinearRegression\n",
    "import warnings\n",
    "warnings.filterwarnings('ignore')\n"
   ]
  },
  {
   "cell_type": "code",
   "execution_count": 2,
   "metadata": {},
   "outputs": [],
   "source": [
    "train_input_list = './data/train_input/*.csv'\n",
    "train_target_list = './data/train_target/*.csv'\n",
    "\n",
    "test_input_list = './data/test_input/*.csv'\n",
    "test_target_list = './data/test_target/*.csv'"
   ]
  },
  {
   "cell_type": "code",
   "execution_count": 3,
   "metadata": {},
   "outputs": [],
   "source": [
    "train, test, p_train, p_test = make_data(train_input_list, train_target_list, test_input_list, test_target_list)\n",
    "train_rol = tanspose_data(train_input_list)\n",
    "test_rol = tanspose_data(test_input_list)"
   ]
  },
  {
   "cell_type": "code",
   "execution_count": 4,
   "metadata": {},
   "outputs": [],
   "source": [
    "train = train.reset_index()\n",
    "test = test.reset_index()\n",
    "train_rol = train_rol.reset_index()\n",
    "test_rol = test_rol.reset_index()"
   ]
  },
  {
   "cell_type": "code",
   "execution_count": 5,
   "metadata": {},
   "outputs": [],
   "source": [
    "accumulate(train, test, '누적분무량')\n",
    "accumulate(train, test, '누적백색광량')\n",
    "accumulate(train, test, '누적청색광량')\n",
    "accumulate(train, test, '누적적색광량')\n",
    "accumulate(train, test, '누적총광량')"
   ]
  },
  {
   "cell_type": "code",
   "execution_count": 6,
   "metadata": {},
   "outputs": [],
   "source": [
    "train = pd.concat([train, train_rol], axis=1)\n",
    "test = pd.concat([test, test_rol], axis=1)"
   ]
  },
  {
   "cell_type": "code",
   "execution_count": 7,
   "metadata": {},
   "outputs": [],
   "source": [
    "drop_feature = ['시간당분무량', '시간당백색광량', '시간당적색광량', '시간당청색광량', '시간당총광량', 'index']\n",
    "train = train.drop(drop_feature, axis=1)\n",
    "test = test.drop(drop_feature, axis=1)\n"
   ]
  },
  {
   "cell_type": "code",
   "execution_count": 10,
   "metadata": {},
   "outputs": [
    {
     "name": "stdout",
     "output_type": "stream",
     "text": [
      "====================================1============================================\n",
      "Learning rate set to 0.037997\n",
      "0:\tlearn: 41.5997940\ttotal: 10.6ms\tremaining: 10.5s\n",
      "500:\tlearn: 3.7348874\ttotal: 4.93s\tremaining: 4.91s\n",
      "999:\tlearn: 2.8179735\ttotal: 9.82s\tremaining: 0us\n",
      "1 Fold RMSE = 8.104316392783497\n",
      "================================================================================\n",
      "\n",
      "\n",
      "====================================2============================================\n",
      "Learning rate set to 0.037997\n",
      "0:\tlearn: 40.0035784\ttotal: 11.9ms\tremaining: 11.9s\n",
      "500:\tlearn: 4.6729542\ttotal: 5.01s\tremaining: 4.99s\n",
      "999:\tlearn: 4.2719355\ttotal: 9.89s\tremaining: 0us\n",
      "2 Fold RMSE = 8.265293466211762\n",
      "================================================================================\n",
      "\n",
      "\n",
      "====================================3============================================\n",
      "Learning rate set to 0.037997\n",
      "0:\tlearn: 41.1883462\ttotal: 10.7ms\tremaining: 10.7s\n",
      "500:\tlearn: 4.3277725\ttotal: 5.16s\tremaining: 5.14s\n",
      "999:\tlearn: 3.4371248\ttotal: 10.2s\tremaining: 0us\n",
      "3 Fold RMSE = 6.7506789467683905\n",
      "================================================================================\n",
      "\n",
      "\n",
      "====================================4============================================\n",
      "Learning rate set to 0.037997\n",
      "0:\tlearn: 39.9932423\ttotal: 10.5ms\tremaining: 10.5s\n",
      "500:\tlearn: 4.2770156\ttotal: 4.97s\tremaining: 4.95s\n",
      "999:\tlearn: 3.4874689\ttotal: 9.74s\tremaining: 0us\n",
      "4 Fold RMSE = 7.299686444211521\n",
      "================================================================================\n",
      "\n",
      "\n",
      "====================================5============================================\n",
      "Learning rate set to 0.038005\n",
      "0:\tlearn: 39.2128663\ttotal: 11ms\tremaining: 11s\n",
      "500:\tlearn: 4.5754312\ttotal: 4.69s\tremaining: 4.67s\n",
      "999:\tlearn: 3.5632192\ttotal: 9.4s\tremaining: 0us\n",
      "5 Fold RMSE = 8.635710260306253\n",
      "================================================================================\n",
      "\n",
      "\n"
     ]
    }
   ],
   "source": [
    "X = train.drop(['predicted_weight_g', 'Case', 'obs_time'], axis=1)\n",
    "y = train['predicted_weight_g']\n",
    "from sklearn.model_selection import StratifiedKFold, KFold\n",
    "\n",
    "skf = KFold(n_splits=5, shuffle=True, random_state=404)\n",
    "\n",
    "folds = []\n",
    "\n",
    "for train_idx, val_idx in skf.split(X, y):\n",
    "    folds.append((train_idx, val_idx))\n",
    "\n",
    "CAT_model = {}\n",
    "\n",
    "for f in range(5):\n",
    "    print(f'===================================={f+1}============================================')\n",
    "    train_idx, val_idx = folds[f]\n",
    "\n",
    "    x_train, x_val, y_train, y_val = X.iloc[train_idx], X.iloc[val_idx], y.iloc[train_idx], y.iloc[val_idx]\n",
    "\n",
    "    CAT = CatBoostRegressor(verbose=500, early_stopping_rounds=50, task_type=\"GPU\", random_seed=113)\n",
    "    CAT.fit(x_train, y_train)\n",
    "\n",
    "    y_pred = CAT.predict(x_val)\n",
    "    rmse = mean_squared_error(y_val, y_pred)**0.5\n",
    "    print(f\"{f + 1} Fold RMSE = {rmse}\")\n",
    "    CAT_model[f] = CAT\n",
    "    print(f'================================================================================\\n\\n')\n",
    "\n",
    "\n",
    "submit = test[['DAT', 'predicted_weight_g']]\n",
    "x_test = test.drop(['predicted_weight_g', 'Case', 'obs_time'], axis=1)\n",
    "for fold in range(5):\n",
    "    submit['predicted_weight_g'] += CAT_model[fold].predict(x_test)/5\n",
    "all_target_list = sorted(glob.glob('./data/test_target/*.csv'))\n",
    "for idx, test_path in enumerate(all_target_list):\n",
    "    submit_df = pd.read_csv(test_path)\n",
    "    submit_df['predicted_weight_g'] = submit['predicted_weight_g'][idx*28:idx*28+28].values\n",
    "    submit_df.to_csv(test_path, index=False)"
   ]
  },
  {
   "cell_type": "code",
   "execution_count": 11,
   "metadata": {},
   "outputs": [
    {
     "data": {
      "text/html": [
       "<div>\n",
       "<style scoped>\n",
       "    .dataframe tbody tr th:only-of-type {\n",
       "        vertical-align: middle;\n",
       "    }\n",
       "\n",
       "    .dataframe tbody tr th {\n",
       "        vertical-align: top;\n",
       "    }\n",
       "\n",
       "    .dataframe thead th {\n",
       "        text-align: right;\n",
       "    }\n",
       "</style>\n",
       "<table border=\"1\" class=\"dataframe\">\n",
       "  <thead>\n",
       "    <tr style=\"text-align: right;\">\n",
       "      <th></th>\n",
       "      <th>imp</th>\n",
       "    </tr>\n",
       "  </thead>\n",
       "  <tbody>\n",
       "    <tr>\n",
       "      <th>('ec관측치', 20)</th>\n",
       "      <td>0.000062</td>\n",
       "    </tr>\n",
       "    <tr>\n",
       "      <th>('일간누적분무량', 13)</th>\n",
       "      <td>0.000213</td>\n",
       "    </tr>\n",
       "    <tr>\n",
       "      <th>('ec관측치', 13)</th>\n",
       "      <td>0.000227</td>\n",
       "    </tr>\n",
       "    <tr>\n",
       "      <th>('일간누적분무량', 5)</th>\n",
       "      <td>0.001132</td>\n",
       "    </tr>\n",
       "    <tr>\n",
       "      <th>('ec관측치', 16)</th>\n",
       "      <td>0.001279</td>\n",
       "    </tr>\n",
       "    <tr>\n",
       "      <th>...</th>\n",
       "      <td>...</td>\n",
       "    </tr>\n",
       "    <tr>\n",
       "      <th>('내부온도관측치', 14)</th>\n",
       "      <td>2.566168</td>\n",
       "    </tr>\n",
       "    <tr>\n",
       "      <th>월간누적적색광량</th>\n",
       "      <td>11.759637</td>\n",
       "    </tr>\n",
       "    <tr>\n",
       "      <th>월간누적백색광량</th>\n",
       "      <td>11.800608</td>\n",
       "    </tr>\n",
       "    <tr>\n",
       "      <th>월간누적분무량</th>\n",
       "      <td>18.306652</td>\n",
       "    </tr>\n",
       "    <tr>\n",
       "      <th>DAT</th>\n",
       "      <td>22.390225</td>\n",
       "    </tr>\n",
       "  </tbody>\n",
       "</table>\n",
       "<p>157 rows × 1 columns</p>\n",
       "</div>"
      ],
      "text/plain": [
       "                       imp\n",
       "('ec관측치', 20)     0.000062\n",
       "('일간누적분무량', 13)   0.000213\n",
       "('ec관측치', 13)     0.000227\n",
       "('일간누적분무량', 5)    0.001132\n",
       "('ec관측치', 16)     0.001279\n",
       "...                    ...\n",
       "('내부온도관측치', 14)   2.566168\n",
       "월간누적적색광량         11.759637\n",
       "월간누적백색광량         11.800608\n",
       "월간누적분무량          18.306652\n",
       "DAT              22.390225\n",
       "\n",
       "[157 rows x 1 columns]"
      ]
     },
     "execution_count": 11,
     "metadata": {},
     "output_type": "execute_result"
    }
   ],
   "source": [
    "df_imp = pd.DataFrame({'imp':CAT.feature_importances_}, index = CAT.feature_names_)\n",
    "df_imp = df_imp[df_imp.imp > 0].sort_values('imp').copy()\n",
    "df_imp"
   ]
  },
  {
   "cell_type": "code",
   "execution_count": 12,
   "metadata": {},
   "outputs": [],
   "source": [
    "df_imp.to_csv('zz.csv')"
   ]
  }
 ],
 "metadata": {
  "kernelspec": {
   "display_name": "Python 3.8.10 64-bit",
   "language": "python",
   "name": "python3"
  },
  "language_info": {
   "codemirror_mode": {
    "name": "ipython",
    "version": 3
   },
   "file_extension": ".py",
   "mimetype": "text/x-python",
   "name": "python",
   "nbconvert_exporter": "python",
   "pygments_lexer": "ipython3",
   "version": "3.8.10"
  },
  "orig_nbformat": 4,
  "vscode": {
   "interpreter": {
    "hash": "b081a66ee97bd2b6a16f43955f1d810b7ea816d6eaeb65e157ef9e038445f0c6"
   }
  }
 },
 "nbformat": 4,
 "nbformat_minor": 2
}
