{
 "cells": [
  {
   "cell_type": "code",
   "execution_count": 1,
   "metadata": {},
   "outputs": [],
   "source": [
    "from feature.make_dataset import make_data\n",
    "from feature.after_dataset import accumulate\n",
    "from feature.moving_average import moving_average\n",
    "import pandas as pd\n",
    "from glob import glob\n",
    "from sklearn.metrics import mean_squared_error\n",
    "from sklearn.model_selection import train_test_split\n",
    "import glob\n",
    "from catboost import CatBoostRegressor\n",
    "from sklearn.ensemble import VotingRegressor\n",
    "from sklearn.ensemble import RandomForestRegressor\n",
    "from sklearn.neighbors import KNeighborsRegressor\n",
    "from xgboost import XGBRegressor\n",
    "from lightgbm import LGBMRegressor\n",
    "from sklearn.linear_model import LinearRegression\n",
    "import warnings\n",
    "warnings.filterwarnings('ignore')\n"
   ]
  },
  {
   "cell_type": "code",
   "execution_count": 2,
   "metadata": {},
   "outputs": [],
   "source": [
    "train_input_list = './data/train_input/*.csv'\n",
    "train_target_list = './data/train_target/*.csv'\n",
    "\n",
    "test_input_list = './data/test_input/*.csv'\n",
    "test_target_list = './data/test_target/*.csv'"
   ]
  },
  {
   "cell_type": "code",
   "execution_count": 3,
   "metadata": {},
   "outputs": [],
   "source": [
    "train, test, p_train, p_test = make_data(train_input_list, train_target_list, test_input_list, test_target_list)\n",
    "train_rol = moving_average(train_input_list)\n",
    "test_rol = moving_average(test_input_list)"
   ]
  },
  {
   "cell_type": "code",
   "execution_count": 4,
   "metadata": {},
   "outputs": [],
   "source": [
    "train = train.reset_index()\n",
    "test = test.reset_index()\n",
    "train_rol = train_rol.reset_index()\n",
    "test_rol = test_rol.reset_index()"
   ]
  },
  {
   "cell_type": "code",
   "execution_count": 5,
   "metadata": {},
   "outputs": [],
   "source": [
    "accumulate(train, test, '누적분무량')\n",
    "accumulate(train, test, '누적백색광량')\n",
    "accumulate(train, test, '누적청색광량')\n",
    "accumulate(train, test, '누적적색광량')\n",
    "accumulate(train, test, '누적총광량')"
   ]
  },
  {
   "cell_type": "code",
   "execution_count": 6,
   "metadata": {},
   "outputs": [],
   "source": [
    "train = pd.concat([train, train_rol], axis=1)\n",
    "test = pd.concat([test, test_rol], axis=1)"
   ]
  },
  {
   "cell_type": "code",
   "execution_count": 7,
   "metadata": {},
   "outputs": [],
   "source": [
    "drop_feature = ['시간당분무량', '시간당백색광량', '시간당적색광량', '시간당청색광량', '시간당총광량', 'index']\n",
    "train = train.drop(drop_feature, axis=1)\n",
    "test = test.drop(drop_feature, axis=1)\n"
   ]
  },
  {
   "cell_type": "code",
   "execution_count": 8,
   "metadata": {},
   "outputs": [],
   "source": [
    "xgb = XGBRegressor(tree_method='gpu_hist', gpu_id=0, random_state=404)\n",
    "cat = CatBoostRegressor(verbose=500, early_stopping_rounds=50, task_type=\"GPU\", random_seed=113)\n",
    "rf = RandomForestRegressor()\n",
    "kn = KNeighborsRegressor()\n",
    "lgbm = LGBMRegressor()\n",
    "\n",
    "voting = VotingRegressor([('xgb', xgb), ('cat', cat), ('rf', rf), ('kn', kn)])"
   ]
  },
  {
   "cell_type": "code",
   "execution_count": 9,
   "metadata": {},
   "outputs": [
    {
     "name": "stdout",
     "output_type": "stream",
     "text": [
      "====================================1============================================\n",
      "Learning rate set to 0.037997\n",
      "0:\tlearn: 41.5974912\ttotal: 10.3ms\tremaining: 10.2s\n",
      "500:\tlearn: 3.9113519\ttotal: 4.86s\tremaining: 4.84s\n",
      "999:\tlearn: 3.0885759\ttotal: 9.66s\tremaining: 0us\n",
      "1 Fold RMSE = 8.924650964169036\n",
      "================================================================================\n",
      "\n",
      "\n",
      "====================================2============================================\n",
      "Learning rate set to 0.037997\n",
      "0:\tlearn: 39.9853791\ttotal: 10.5ms\tremaining: 10.5s\n",
      "500:\tlearn: 5.0531466\ttotal: 4.93s\tremaining: 4.91s\n",
      "999:\tlearn: 4.2513023\ttotal: 9.78s\tremaining: 0us\n",
      "2 Fold RMSE = 9.462742354908134\n",
      "================================================================================\n",
      "\n",
      "\n",
      "====================================3============================================\n",
      "Learning rate set to 0.037997\n",
      "0:\tlearn: 41.1704116\ttotal: 10.6ms\tremaining: 10.5s\n",
      "500:\tlearn: 4.6822179\ttotal: 4.97s\tremaining: 4.95s\n",
      "999:\tlearn: 3.8146348\ttotal: 9.65s\tremaining: 0us\n",
      "3 Fold RMSE = 7.0669150296425975\n",
      "================================================================================\n",
      "\n",
      "\n",
      "====================================4============================================\n",
      "Learning rate set to 0.037997\n",
      "0:\tlearn: 39.9624949\ttotal: 10.4ms\tremaining: 10.4s\n",
      "500:\tlearn: 4.8263535\ttotal: 4.78s\tremaining: 4.76s\n",
      "999:\tlearn: 3.6533570\ttotal: 9.56s\tremaining: 0us\n",
      "4 Fold RMSE = 8.185900491774184\n",
      "================================================================================\n",
      "\n",
      "\n",
      "====================================5============================================\n",
      "Learning rate set to 0.038005\n",
      "0:\tlearn: 39.2371234\ttotal: 10.2ms\tremaining: 10.2s\n",
      "500:\tlearn: 4.1048988\ttotal: 4.79s\tremaining: 4.77s\n",
      "999:\tlearn: 3.1162548\ttotal: 9.51s\tremaining: 0us\n",
      "5 Fold RMSE = 9.71549067195803\n",
      "================================================================================\n",
      "\n",
      "\n"
     ]
    }
   ],
   "source": [
    "X = train.drop(['predicted_weight_g', 'Case', 'obs_time'], axis=1)\n",
    "y = train['predicted_weight_g']\n",
    "from sklearn.model_selection import StratifiedKFold, KFold\n",
    "\n",
    "skf = KFold(n_splits=5, shuffle=True, random_state=404)\n",
    "\n",
    "folds = []\n",
    "\n",
    "for train_idx, val_idx in skf.split(X, y):\n",
    "    folds.append((train_idx, val_idx))\n",
    "\n",
    "voting_model = {}\n",
    "\n",
    "for f in range(5):\n",
    "    print(f'===================================={f+1}============================================')\n",
    "    train_idx, val_idx = folds[f]\n",
    "\n",
    "    x_train, x_val, y_train, y_val = X.iloc[train_idx], X.iloc[val_idx], y.iloc[train_idx], y.iloc[val_idx]\n",
    "\n",
    "    voting = VotingRegressor([('xgb', xgb), ('cat', cat), ('rf', rf), ('kn', kn)])\n",
    "    voting.fit(x_train, y_train)\n",
    "\n",
    "    y_pred = voting.predict(x_val)\n",
    "    rmse = mean_squared_error(y_val, y_pred)**0.5\n",
    "    print(f\"{f + 1} Fold RMSE = {rmse}\")\n",
    "    voting_model[f] = voting\n",
    "    print(f'================================================================================\\n\\n')\n",
    "\n",
    "\n",
    "submit = test[['DAT', 'predicted_weight_g']]\n",
    "x_test = test.drop(['predicted_weight_g', 'Case', 'obs_time'], axis=1)\n",
    "for fold in range(5):\n",
    "    submit['predicted_weight_g'] += voting_model[fold].predict(x_test)/5\n",
    "all_target_list = sorted(glob.glob('./data/test_target/*.csv'))\n",
    "for idx, test_path in enumerate(all_target_list):\n",
    "    submit_df = pd.read_csv(test_path)\n",
    "    submit_df['predicted_weight_g'] = submit['predicted_weight_g'][idx*28:idx*28+28].values\n",
    "    submit_df.to_csv(test_path, index=False)"
   ]
  }
 ],
 "metadata": {
  "kernelspec": {
   "display_name": "Python 3.8.10 64-bit",
   "language": "python",
   "name": "python3"
  },
  "language_info": {
   "codemirror_mode": {
    "name": "ipython",
    "version": 3
   },
   "file_extension": ".py",
   "mimetype": "text/x-python",
   "name": "python",
   "nbconvert_exporter": "python",
   "pygments_lexer": "ipython3",
   "version": "3.8.10"
  },
  "orig_nbformat": 4,
  "vscode": {
   "interpreter": {
    "hash": "b081a66ee97bd2b6a16f43955f1d810b7ea816d6eaeb65e157ef9e038445f0c6"
   }
  }
 },
 "nbformat": 4,
 "nbformat_minor": 2
}
