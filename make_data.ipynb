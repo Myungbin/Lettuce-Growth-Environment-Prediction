{
 "cells": [
  {
   "cell_type": "markdown",
   "metadata": {},
   "source": [
    "datetime열에 주어지는 매 시점부터 총 14일(14×24 = 336시간) 분량의 적산차 변화를 예측"
   ]
  },
  {
   "cell_type": "code",
   "execution_count": 4,
   "metadata": {},
   "outputs": [],
   "source": [
    "import pandas as pd\n",
    "import seaborn as sns\n",
    "import matplotlib.pyplot as plt\n",
    "import numpy as np\n",
    "import tensorflow as tf\n",
    "from keras.models import Sequential\n",
    "from keras.layers import Dense, LSTM, GRU, AveragePooling1D, GlobalAveragePooling1D"
   ]
  },
  {
   "cell_type": "code",
   "execution_count": 5,
   "metadata": {},
   "outputs": [],
   "source": [
    "train = pd.read_csv(\"./data_city/data_tr_city.csv\")\n",
    "test = pd.read_csv(\"./data_city/data_ts_city.csv\")\n",
    "submit = pd.read_csv(\"./data_city/sample_city.csv\")"
   ]
  },
  {
   "cell_type": "code",
   "execution_count": 6,
   "metadata": {},
   "outputs": [],
   "source": [
    "train = train.fillna(method='bfill')"
   ]
  },
  {
   "cell_type": "code",
   "execution_count": 47,
   "metadata": {},
   "outputs": [
    {
     "name": "stdout",
     "output_type": "stream",
     "text": [
      "34390 672\n",
      "8088 1\n"
     ]
    },
    {
     "name": "stderr",
     "output_type": "stream",
     "text": [
      "C:\\Users\\kki96\\AppData\\Local\\Temp\\ipykernel_6412\\4039959003.py:24: VisibleDeprecationWarning: Creating an ndarray from ragged nested sequences (which is a list-or-tuple of lists-or-tuples-or ndarrays with different lengths or shapes) is deprecated. If you meant to do this, you must specify 'dtype=object' when creating the ndarray.\n",
      "  X_train, y_train = np.array(X_train), np.array(y_train)\n",
      "C:\\Users\\kki96\\AppData\\Local\\Temp\\ipykernel_6412\\4039959003.py:38: VisibleDeprecationWarning: Creating an ndarray from ragged nested sequences (which is a list-or-tuple of lists-or-tuples-or ndarrays with different lengths or shapes) is deprecated. If you meant to do this, you must specify 'dtype=object' when creating the ndarray.\n",
      "  X_test = np.array(X_test).reshape(-1, 1)\n"
     ]
    }
   ],
   "source": [
    "def ts_train_test(train, test, time_steps, for_periods): \n",
    "    \"\"\"\n",
    "    input:\n",
    "     data: dataframe with dates and target data\n",
    "    output:\n",
    "     X_train, y_train: data from 2017/1/1 ~ 2020/12/31 \n",
    "     X_test : data from 2021 - \n",
    "    time_steps: # of the input time steps \n",
    "    for_periods: # of the output time steps \n",
    "    \"\"\"\n",
    "    # create training and test set \n",
    "    ts_train = train.iloc[:,1].values.reshape(-1, 1)\n",
    "    ts_test = test.iloc[:,1].values.reshape(-1, 1)\n",
    "    ts_train_len = len(ts_train)\n",
    "    ts_test_len = len(ts_test)\n",
    "    \n",
    "    # create training data of s samples and t time steps \n",
    "    X_train = [] \n",
    "    y_train = [] \n",
    "    y_train_stacked = [] \n",
    "    for i in range(time_steps, ts_train_len - 1): \n",
    "        X_train.append(ts_train[i-time_steps:i,0])\n",
    "        y_train.append(ts_train[i:i+for_periods,0])\n",
    "    X_train, y_train = np.array(X_train), np.array(y_train)\n",
    "    \n",
    "    # Reshapng X_train for efficient modelling \n",
    "    X_train = np.reshape(X_train, (X_train.shape[0], X_train.shape[1],1))\n",
    "    \n",
    "    # Preparing to creat X_test \n",
    "    inputs = ts_test\n",
    "    inputs = inputs[len(inputs)-len(ts_test) - time_steps:]\n",
    "    inputs = inputs.reshape(-1,1)\n",
    "\n",
    "    X_test = []\n",
    "    for i in range(time_steps, ts_test_len+time_steps-for_periods):\n",
    "        X_test.append(inputs[i-time_steps:i, 0])\n",
    "\n",
    "    X_test = np.array(X_test).reshape(-1, 1)\n",
    "    X_test = np.reshape(X_test, (X_test.shape[0], X_test.shape[1], 1))\n",
    "    \n",
    "    return X_train, y_train, X_test \n",
    "\n",
    "X_train, y_train, X_test = ts_train_test(train, test, 672, 336)\n",
    "\n",
    "print(X_train.shape[0], X_train.shape[1])\n",
    "print(X_test.shape[0], X_test.shape[1])"
   ]
  }
 ],
 "metadata": {
  "kernelspec": {
   "display_name": "Python 3.9.12 64-bit",
   "language": "python",
   "name": "python3"
  },
  "language_info": {
   "codemirror_mode": {
    "name": "ipython",
    "version": 3
   },
   "file_extension": ".py",
   "mimetype": "text/x-python",
   "name": "python",
   "nbconvert_exporter": "python",
   "pygments_lexer": "ipython3",
   "version": "3.9.12"
  },
  "orig_nbformat": 4,
  "vscode": {
   "interpreter": {
    "hash": "6eb7e1800323012a4a23da4771145313bbd22d24fdf3fd100a018e9ed60a697f"
   }
  }
 },
 "nbformat": 4,
 "nbformat_minor": 2
}
